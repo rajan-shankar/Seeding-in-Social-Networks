{
 "cells": [
  {
   "cell_type": "code",
   "execution_count": 1,
   "id": "51b0c038",
   "metadata": {},
   "outputs": [],
   "source": [
    "import networkx as nx\n",
    "import numpy as np\n",
    "import pandas as pd\n",
    "import random\n",
    "\n",
    "#functions \n",
    "from functions import *"
   ]
  },
  {
   "cell_type": "code",
   "execution_count": 2,
   "id": "7d77546d",
   "metadata": {},
   "outputs": [],
   "source": [
    "# def num_paths2(g, i, j):\n",
    "#     #i,j = name of nodes\n",
    "#     #number of paths length 2 between node i and node j in graph g\n",
    "#     #Note: this function covers cases when g.nodes() is not in ascedign order\n",
    "    \n",
    "#     A = nx.adjacency_matrix(g)#ordering of rows/columns is by G.nodes(), not necessarily ascending\n",
    "#     A = A.todense()\n",
    "    \n",
    "#     A_sq = np.matmul(A,A) #(A^2)_{ij} = how many paths length 2 betwenn node i and j\n",
    "    \n",
    "#     #what's the index of node i and node j in g.nodes?\n",
    "#     ns = list(g.nodes())\n",
    "#     ind_i = ns.index(i)\n",
    "#     ind_j = ns.index(j)\n",
    "    \n",
    "#     return A_sq[ind_i, ind_j]"
   ]
  },
  {
   "cell_type": "code",
   "execution_count": 12,
   "id": "a0b6096f",
   "metadata": {},
   "outputs": [],
   "source": [
    "# import itertools\n",
    "\n",
    "# def num_2seed_triangles(g, seeds):\n",
    "#     #how many triangles of (target a) - (target b)\n",
    "#     #                          \\          /\n",
    "#     #                          (untargeted)\n",
    "#     count = 0\n",
    "#     for comb in itertools.combinations(seeds, 2): #for each size-2 combination of seeds (targets)\n",
    "#         #print(comb)\n",
    "\n",
    "#         #how to identify such a triangle:\n",
    "\n",
    "#         #the seeds are connected\n",
    "#         if g.has_edge(comb[0],comb[1]):\n",
    "#             #AND There is a path length 2 through an UNTARGETED node.\n",
    "\n",
    "#             #we have to exclude paths through another TARGET node. \n",
    "#             # To do this: get subgraph which removes all other target nodes except comb[0] and comb[1]\n",
    "#             other_seeds = [seed for seed in seeds if seed not in [comb[0],comb[1]]] \n",
    "#             sub_nodes = [node for node in g.nodes() if node not in other_seeds] #remove the other seeds\n",
    "#             #print(other_seeds)\n",
    "#             gsub = g.subgraph(sub_nodes)\n",
    "#             count += num_paths2(gsub,comb[0],comb[1])\n",
    "    \n",
    "#     return count\n",
    "\n",
    "# #note: to get the number of connected triplets where \n",
    "# #                      (target a)  (target b)\n",
    "# #                          \\          /\n",
    "# #                          (untargeted)\n",
    "# #just need to remove the check that the seeds are connected"
   ]
  },
  {
   "cell_type": "markdown",
   "id": "aad7e1a9",
   "metadata": {},
   "source": [
    "## faster versions"
   ]
  },
  {
   "cell_type": "code",
   "execution_count": 66,
   "id": "17aa1f79",
   "metadata": {},
   "outputs": [],
   "source": [
    "# def num_paths3(g, i, j):\n",
    "#     #i,j = name of nodes\n",
    "#     #number of paths length 3 between node i and node j in graph g\n",
    "#     #Note: this function covers cases when g.nodes() is not in ascedign order\n",
    "    \n",
    "#     A = nx.adjacency_matrix(g)#ordering of rows/columns is by G.nodes(), not necessarily ascending\n",
    "#     A = A.todense()\n",
    "    \n",
    "#     A_sq = np.matmul(A,A)\n",
    "#     A_cubed = np.matmul(A_sq,A)\n",
    "    \n",
    "#     #what's the index of node i and node j in g.nodes?\n",
    "#     ns = list(g.nodes())\n",
    "#     ind_i = ns.index(i)\n",
    "#     ind_j = ns.index(j)\n",
    "    \n",
    "#     return A_cubed[ind_i, ind_j]\n",
    "\n",
    "# def num_2seed_trianglesV2(g, seeds):\n",
    "#     #how many triangles of (target a) - (target b)\n",
    "#     #                          \\          /\n",
    "#     #                          (untargeted)\n",
    "#     count = 0\n",
    "#     nonseeds = [n for n in g.nodes if n not in seeds]\n",
    "    \n",
    "#     for ns in nonseeds:\n",
    "#         gsub = g.subgraph(seeds + [ns])\n",
    "#         count += int(num_paths3(gsub,ns,ns)/2)\n",
    "        \n",
    "#         #each path3 is counted twice: as {i,j,k,i} and {i,k,j,i}\n",
    "   \n",
    "#     return count\n",
    "\n",
    "# def two_seed_tranV2(g, seeds):\n",
    "#     return(num_2seed_trianglesV2(g, seeds) / num_con_triples(g))"
   ]
  },
  {
   "cell_type": "markdown",
   "id": "d522c19f",
   "metadata": {},
   "source": [
    "## much faster"
   ]
  },
  {
   "cell_type": "code",
   "execution_count": 25,
   "id": "29e220f9",
   "metadata": {},
   "outputs": [],
   "source": [
    "# def num_2seed_trianglesV4(g, seeds):\n",
    "  \n",
    "#     count = 0\n",
    "#     nonseeds = [n for n in g.nodes if n not in seeds]\n",
    "#     gsub = g.subgraph(seeds)\n",
    "    \n",
    "#     for seed in seeds:\n",
    "#         for adj_seed in list(gsub.adj[seed]):\n",
    "            \n",
    "#             g_nonseed_neigh = [s for s in g.adj[seed] if s not in seeds] #don't consider seeds as the third vertex\n",
    "            \n",
    "#             count += len(set(g_nonseed_neigh).intersection(set(g.adj[adj_seed])))\n",
    "        \n",
    "#     return int(count/2) #double counting each triangle"
   ]
  },
  {
   "cell_type": "markdown",
   "id": "8d427df8",
   "metadata": {},
   "source": [
    "## some checks on simple graphs"
   ]
  },
  {
   "cell_type": "code",
   "execution_count": 26,
   "id": "87e5b327",
   "metadata": {
    "scrolled": true
   },
   "outputs": [
    {
     "data": {
      "image/png": "[encoded data removed]",
      "text/plain": [
       "<Figure size 432x288 with 1 Axes>"
      ]
     },
     "metadata": {},
     "output_type": "display_data"
    }
   ],
   "source": [
    "gg = nx.Graph()\n",
    "gg.add_nodes_from([1,2,3])\n",
    "gg.add_edge(1, 2)\n",
    "gg.add_edge(1, 3)\n",
    "gg.add_edge(2, 3)\n",
    "nx.draw_networkx(gg)"
   ]
  },
  {
   "cell_type": "code",
   "execution_count": 27,
   "id": "f41d9fc8",
   "metadata": {},
   "outputs": [
    {
     "name": "stdout",
     "output_type": "stream",
     "text": [
      "1\n",
      "1\n"
     ]
    }
   ],
   "source": [
    "seeds = [1,3]\n",
    "print(num_2seed_trianglesV2(gg, seeds))\n",
    "print(num_2seed_trianglesV4(gg, seeds))"
   ]
  },
  {
   "cell_type": "code",
   "execution_count": 28,
   "id": "9e34d97b",
   "metadata": {},
   "outputs": [
    {
     "data": {
      "image/png": "[encoded data removed]",
      "text/plain": [
       "<Figure size 432x288 with 1 Axes>"
      ]
     },
     "metadata": {},
     "output_type": "display_data"
    }
   ],
   "source": [
    "gg = nx.Graph()\n",
    "gg.add_nodes_from([1,2,3,4])\n",
    "gg.add_edges_from([(1, 2), (1, 3), (2, 3), (1,4), (3,4)])\n",
    "\n",
    "nx.draw_networkx(gg)"
   ]
  },
  {
   "cell_type": "code",
   "execution_count": 29,
   "id": "e5714133",
   "metadata": {},
   "outputs": [
    {
     "name": "stdout",
     "output_type": "stream",
     "text": [
      "2\n",
      "2\n",
      "1\n",
      "1\n"
     ]
    }
   ],
   "source": [
    "seeds = [1,3]\n",
    "print(num_2seed_trianglesV2(gg, seeds))\n",
    "print(num_2seed_trianglesV4(gg, seeds))\n",
    "\n",
    "seeds = [1,4]\n",
    "print(num_2seed_trianglesV2(gg, seeds))\n",
    "print(num_2seed_trianglesV4(gg, seeds))"
   ]
  },
  {
   "cell_type": "code",
   "execution_count": 30,
   "id": "396e3c11",
   "metadata": {},
   "outputs": [
    {
     "data": {
      "image/png": "[encoded data removed]",
      "text/plain": [
       "<Figure size 432x288 with 1 Axes>"
      ]
     },
     "metadata": {},
     "output_type": "display_data"
    }
   ],
   "source": [
    "gg = nx.Graph()\n",
    "gg.add_nodes_from([1,2,3,4,5])\n",
    "gg.add_edges_from([(1, 2), (1, 3), (2, 3), (1,4), (3,4), (4,2), (5,1), (5,2), (5,3)])\n",
    "\n",
    "nx.draw_networkx(gg)"
   ]
  },
  {
   "cell_type": "code",
   "execution_count": 31,
   "id": "913f0bd0",
   "metadata": {},
   "outputs": [
    {
     "name": "stdout",
     "output_type": "stream",
     "text": [
      "0\n",
      "0\n",
      "2\n",
      "2\n",
      "4\n",
      "4\n"
     ]
    }
   ],
   "source": [
    "seeds = [4,5]\n",
    "print(num_2seed_trianglesV2(gg, seeds))\n",
    "print(num_2seed_trianglesV4(gg, seeds))\n",
    "\n",
    "seeds = [5,1]\n",
    "print(num_2seed_trianglesV2(gg, seeds))\n",
    "print(num_2seed_trianglesV4(gg, seeds))\n",
    "\n",
    "seeds = [5,1,2]\n",
    "print(num_2seed_trianglesV2(gg, seeds))\n",
    "print(num_2seed_trianglesV4(gg, seeds))"
   ]
  },
  {
   "cell_type": "code",
   "execution_count": 18,
   "id": "81caeb8d",
   "metadata": {},
   "outputs": [
    {
     "name": "stdout",
     "output_type": "stream",
     "text": [
      "seed 5, adjacent seed 1\n",
      "seed 5, adjacent seed 2\n",
      "seed 1, adjacent seed 2\n",
      "seed 1, adjacent seed 5\n",
      "seed 2, adjacent seed 1\n",
      "seed 2, adjacent seed 5\n",
      "6\n"
     ]
    }
   ],
   "source": [
    "print(num_2seed_trianglesV4(gg, seeds))"
   ]
  },
  {
   "cell_type": "code",
   "execution_count": 11,
   "id": "dc81431d",
   "metadata": {},
   "outputs": [
    {
     "data": {
      "image/png": "[encoded data removed]",
      "text/plain": [
       "<Figure size 432x288 with 1 Axes>"
      ]
     },
     "metadata": {},
     "output_type": "display_data"
    }
   ],
   "source": [
    "#EDGE CASE: more than one connected component\n",
    "gg = nx.Graph()\n",
    "gg.add_nodes_from([1,2,3,4,5, 6,7,8])\n",
    "gg.add_edges_from([(1, 2), (1, 3), (2, 3), (1,4), (3,4), (4,2), (5,1), (5,2), (5,3),\n",
    "                  (6,7), (7,8)])\n",
    "\n",
    "nx.draw_networkx(gg)"
   ]
  },
  {
   "cell_type": "code",
   "execution_count": 12,
   "id": "94783ca6",
   "metadata": {},
   "outputs": [
    {
     "name": "stdout",
     "output_type": "stream",
     "text": [
      "0\n",
      "0\n",
      "2\n",
      "2\n",
      "4\n",
      "7\n"
     ]
    }
   ],
   "source": [
    "#SHOULD BE SAME AS ABOVE\n",
    "\n",
    "seeds = [4,5]\n",
    "print(num_2seed_trianglesV2(gg, seeds))\n",
    "print(num_2seed_trianglesV4(gg, seeds))\n",
    "\n",
    "seeds = [5,1]\n",
    "print(num_2seed_trianglesV2(gg, seeds))\n",
    "print(num_2seed_trianglesV4(gg, seeds))\n",
    "\n",
    "seeds = [5,1,2]\n",
    "print(num_2seed_trianglesV2(gg, seeds))\n",
    "print(num_2seed_trianglesV4(gg, seeds))"
   ]
  },
  {
   "cell_type": "markdown",
   "id": "c2f7acf4",
   "metadata": {},
   "source": [
    "## The idea of a measure\n",
    "\n",
    "Recall: the transitivity was \n",
    "$$3\\frac{\\#triangles}{\\#connected triples}$$\n",
    "\n",
    "*Note*: (see first week lec)\n",
    "\n",
    "a connected triple (i)-(j)-(k)\n",
    "contains two paths length 2: {i,j,k}, {k,j,i}"
   ]
  },
  {
   "cell_type": "markdown",
   "id": "93843c15",
   "metadata": {},
   "source": [
    "From our discussions (also see original seeding paper), the probability of a nontargeted node getting the innovation is affected by two things:\n",
    "\n",
    "- the number of alters that are targeted\n",
    "- whether two targeted alters are themselves friends"
   ]
  },
  {
   "cell_type": "code",
   "execution_count": null,
   "id": "53251655",
   "metadata": {},
   "outputs": [],
   "source": [
    "\n",
    "# (target)  (not target)        (target)  (target)           (target) - (target)\n",
    "#    \\            /        <        \\        /        <         \\           /\n",
    "#         (x)                           (x)                           (x)\n"
   ]
  },
  {
   "cell_type": "markdown",
   "id": "d57f375f",
   "metadata": {},
   "source": [
    "This triangle property is a possible mechanism to explain the probability of a innovation spreading. the strongest type of influence would come from the third type of connected triple (in code, called `2seed_triangles`)\n",
    "\n",
    "Some way of measuring the prevlance of such `2seed_triangles`, might be indicative of the success of a seeding method. But how to measure? \n",
    "\n",
    "- $$3 \\frac{\\# 2seed triangles}{\\#connected triples}$$\n",
    "\n",
    "then this is like a 'harsher' version of the transitivity coefficient, where we're only counting **triangles with 2 seeds as vertices.** \n",
    "\n",
    "This has a nice relationship wtih the transitivity coefficient in that their ratio\n",
    "\n",
    "$$3 \\frac{\\# 2seed triangles}{\\#connected triples}/ 3\\frac{\\#triangles}{\\#connected triples} = \n",
    "\\frac{\\# 2seed triangles}{\\# triangles}$$\n",
    "\n",
    "is the proportion of *actual triangles* that are `2seed_triangles`. \n",
    "\n",
    "Note this ratio will always $<1$ since `2seed_triangles` are a subset of triangles.  "
   ]
  },
  {
   "cell_type": "code",
   "execution_count": 26,
   "id": "fb428051",
   "metadata": {},
   "outputs": [],
   "source": [
    "# def num_con_triples(g):\n",
    "#     #solve for #connected triples from the transitivity formula:\n",
    "#     # 3*num_triangles/transitivity = #connected triples\n",
    "#     num_triangles = sum(nx.triangles(g).values()) / 3 #triple-counting each triangle\n",
    "#     trans = nx.transitivity(g)\n",
    "    \n",
    "#     return (3*num_triangles/trans)"
   ]
  },
  {
   "cell_type": "code",
   "execution_count": 27,
   "id": "951af6a2",
   "metadata": {},
   "outputs": [],
   "source": [
    "# def two_seed_tran(g, seeds):\n",
    "#     return(num_2seed_triangles(g, seeds) / num_con_triples(g))"
   ]
  },
  {
   "cell_type": "markdown",
   "id": "57e42655",
   "metadata": {},
   "source": [
    "## testing on karate club"
   ]
  },
  {
   "cell_type": "code",
   "execution_count": 78,
   "id": "9a071db1",
   "metadata": {
    "scrolled": true
   },
   "outputs": [
    {
     "data": {
      "image/png": "[encoded data removed]",
      "text/plain": [
       "<Figure size 432x288 with 1 Axes>"
      ]
     },
     "metadata": {},
     "output_type": "display_data"
    }
   ],
   "source": [
    "G=nx.read_adjlist(\"data/karate_edges_77.txt\",nodetype=int)\n",
    "nx.draw_networkx(G,pos=nx.spring_layout(G))"
   ]
  },
  {
   "cell_type": "code",
   "execution_count": 79,
   "id": "5a219e5e",
   "metadata": {},
   "outputs": [],
   "source": [
    "#kinda annoying to do it this way, but it will avoid copying over large objects when over repated networks\n",
    "\n",
    "#create empty dataframe\n",
    "nsamp = 200\n",
    "big_dat = pd.DataFrame({\"seeding method\": ['random']*nsamp + ['friend']*nsamp + ['pair']*nsamp})"
   ]
  },
  {
   "cell_type": "code",
   "execution_count": 90,
   "id": "a2a5e3a1",
   "metadata": {},
   "outputs": [],
   "source": [
    "#for a graph g, simulate seeds nsamp times. Each time, calculate the transiticity measures\n",
    "#name: string for network name\n",
    "# def sim_2seed_transitivity(g, p, nsamp = 200):\n",
    "#     random_2tran = []\n",
    "#     friend_2tran = []\n",
    "#     pair_2tran = []\n",
    "    \n",
    "\n",
    "#     for i in range(0,nsamp):\n",
    "#         random_seeds = get_seeds(g, p, 'random')\n",
    "#         friend_seeds = get_seeds(g, p, 'friend')\n",
    "#         pair_seeds = get_seeds(g, p, 'pair')\n",
    "\n",
    "#         random_2tran.append(two_seed_tranV2(g, random_seeds))\n",
    "#         friend_2tran.append(two_seed_tranV2(g, friend_seeds))\n",
    "#         pair_2tran.append(two_seed_tranV2(g, pair_seeds))\n",
    "    \n",
    "#     #(nsamp x 1 vector, ...)\n",
    "#     return (random_2tran, friend_2tran, pair_2tran)"
   ]
  },
  {
   "cell_type": "code",
   "execution_count": 56,
   "id": "a11ad968",
   "metadata": {},
   "outputs": [],
   "source": [
    "#append results as columns\n",
    "(rtran, ftran, ptran) = sim_2seed_transitivity(G, p, nsamp)\n",
    "big_dat[\"2-seed transitivity\"] = rtran + ftran + ptran\n",
    "big_dat['tran'] = nx.transitivity(G)"
   ]
  },
  {
   "cell_type": "code",
   "execution_count": 48,
   "id": "d02eae19",
   "metadata": {},
   "outputs": [
    {
     "data": {
      "application/vnd.plotly.v1+json": {
       "config": {
        "plotlyServerURL": "https://plot.ly"
       },
       "data": [
        {
         "alignmentgroup": "True",
         "hovertemplate": "seeding method=%{x}<br>2-seed transitivity=%{y}<extra></extra>",
         "legendgroup": "",
         "marker": {
          "color": "#636efa"
         },
         "name": "",
         "notched": false,
         "offsetgroup": "",
         "orientation": "v",
         "showlegend": false,
         "type": "box",
         "x": [
          "random",
          "random",
          "random",
          "random",
          "random",
          "random",
          "random",
          "random",
          "random",
          "random",
          "random",
          "random",
          "random",
          "random",
          "random",
          "random",
          "random",
          "random",
          "random",
          "random",
          "random",
          "random",
          "random",
          "random",
          "random",
          "random",
          "random",
          "random",
          "random",
          "random",
          "random",
          "random",
          "random",
          "random",
          "random",
          "random",
          "random",
          "random",
          "random",
          "random",
          "random",
          "random",
          "random",
          "random",
          "random",
          "random",
          "random",
          "random",
          "random",
          "random",
          "random",
          "random",
          "random",
          "random",
          "random",
          "random",
          "random",
          "random",
          "random",
          "random",
          "random",
          "random",
          "random",
          "random",
          "random",
          "random",
          "random",
          "random",
          "random",
          "random",
          "random",
          "random",
          "random",
          "random",
          "random",
          "random",
          "random",
          "random",
          "random",
          "random",
          "random",
          "random",
          "random",
          "random",
          "random",
          "random",
          "random",
          "random",
          "random",
          "random",
          "random",
          "random",
          "random",
          "random",
          "random",
          "random",
          "random",
          "random",
          "random",
          "random",
          "random",
          "random",
          "random",
          "random",
          "random",
          "random",
          "random",
          "random",
          "random",
          "random",
          "random",
          "random",
          "random",
          "random",
          "random",
          "random",
          "random",
          "random",
          "random",
          "random",
          "random",
          "random",
          "random",
          "random",
          "random",
          "random",
          "random",
          "random",
          "random",
          "random",
          "random",
          "random",
          "random",
          "random",
          "random",
          "random",
          "random",
          "random",
          "random",
          "random",
          "random",
          "random",
          "random",
          "random",
          "random",
          "random",
          "random",
          "random",
          "random",
          "random",
          "random",
          "random",
          "random",
          "random",
          "random",
          "random",
          "random",
          "random",
          "random",
          "random",
          "random",
          "random",
          "random",
          "random",
          "random",
          "random",
          "random",
          "random",
          "random",
          "random",
          "random",
          "random",
          "random",
          "random",
          "random",
          "random",
          "random",
          "random",
          "random",
          "random",
          "random",
          "random",
          "random",
          "random",
          "random",
          "random",
          "random",
          "random",
          "random",
          "random",
          "random",
          "random",
          "random",
          "random",
          "random",
          "random",
          "random",
          "random",
          "random",
          "random",
          "friend",
          "friend",
          "friend",
          "friend",
          "friend",
          "friend",
          "friend",
          "friend",
          "friend",
          "friend",
          "friend",
          "friend",
          "friend",
          "friend",
          "friend",
          "friend",
          "friend",
          "friend",
          "friend",
          "friend",
          "friend",
          "friend",
          "friend",
          "friend",
          "friend",
          "friend",
          "friend",
          "friend",
          "friend",
          "friend",
          "friend",
          "friend",
          "friend",
          "friend",
          "friend",
          "friend",
          "friend",
          "friend",
          "friend",
          "friend",
          "friend",
          "friend",
          "friend",
          "friend",
          "friend",
          "friend",
          "friend",
          "friend",
          "friend",
          "friend",
          "friend",
          "friend",
          "friend",
          "friend",
          "friend",
          "friend",
          "friend",
          "friend",
          "friend",
          "friend",
          "friend",
          "friend",
          "friend",
          "friend",
          "friend",
          "friend",
          "friend",
          "friend",
          "friend",
          "friend",
          "friend",
          "friend",
          "friend",
          "friend",
          "friend",
          "friend",
          "friend",
          "friend",
          "friend",
          "friend",
          "friend",
          "friend",
          "friend",
          "friend",
          "friend",
          "friend",
          "friend",
          "friend",
          "friend",
          "friend",
          "friend",
          "friend",
          "friend",
          "friend",
          "friend",
          "friend",
          "friend",
          "friend",
          "friend",
          "friend",
          "friend",
          "friend",
          "friend",
          "friend",
          "friend",
          "friend",
          "friend",
          "friend",
          "friend",
          "friend",
          "friend",
          "friend",
          "friend",
          "friend",
          "friend",
          "friend",
          "friend",
          "friend",
          "friend",
          "friend",
          "friend",
          "friend",
          "friend",
          "friend",
          "friend",
          "friend",
          "friend",
          "friend",
          "friend",
          "friend",
          "friend",
          "friend",
          "friend",
          "friend",
          "friend",
          "friend",
          "friend",
          "friend",
          "friend",
          "friend",
          "friend",
          "friend",
          "friend",
          "friend",
          "friend",
          "friend",
          "friend",
          "friend",
          "friend",
          "friend",
          "friend",
          "friend",
          "friend",
          "friend",
          "friend",
          "friend",
          "friend",
          "friend",
          "friend",
          "friend",
          "friend",
          "friend",
          "friend",
          "friend",
          "friend",
          "friend",
          "friend",
          "friend",
          "friend",
          "friend",
          "friend",
          "friend",
          "friend",
          "friend",
          "friend",
          "friend",
          "friend",
          "friend",
          "friend",
          "friend",
          "friend",
          "friend",
          "friend",
          "friend",
          "friend",
          "friend",
          "friend",
          "friend",
          "friend",
          "friend",
          "friend",
          "friend",
          "friend",
          "friend",
          "friend",
          "friend",
          "friend",
          "friend",
          "friend",
          "friend",
          "pair",
          "pair",
          "pair",
          "pair",
          "pair",
          "pair",
          "pair",
          "pair",
          "pair",
          "pair",
          "pair",
          "pair",
          "pair",
          "pair",
          "pair",
          "pair",
          "pair",
          "pair",
          "pair",
          "pair",
          "pair",
          "pair",
          "pair",
          "pair",
          "pair",
          "pair",
          "pair",
          "pair",
          "pair",
          "pair",
          "pair",
          "pair",
          "pair",
          "pair",
          "pair",
          "pair",
          "pair",
          "pair",
          "pair",
          "pair",
          "pair",
          "pair",
          "pair",
          "pair",
          "pair",
          "pair",
          "pair",
          "pair",
          "pair",
          "pair",
          "pair",
          "pair",
          "pair",
          "pair",
          "pair",
          "pair",
          "pair",
          "pair",
          "pair",
          "pair",
          "pair",
          "pair",
          "pair",
          "pair",
          "pair",
          "pair",
          "pair",
          "pair",
          "pair",
          "pair",
          "pair",
          "pair",
          "pair",
          "pair",
          "pair",
          "pair",
          "pair",
          "pair",
          "pair",
          "pair",
          "pair",
          "pair",
          "pair",
          "pair",
          "pair",
          "pair",
          "pair",
          "pair",
          "pair",
          "pair",
          "pair",
          "pair",
          "pair",
          "pair",
          "pair",
          "pair",
          "pair",
          "pair",
          "pair",
          "pair",
          "pair",
          "pair",
          "pair",
          "pair",
          "pair",
          "pair",
          "pair",
          "pair",
          "pair",
          "pair",
          "pair",
          "pair",
          "pair",
          "pair",
          "pair",
          "pair",
          "pair",
          "pair",
          "pair",
          "pair",
          "pair",
          "pair",
          "pair",
          "pair",
          "pair",
          "pair",
          "pair",
          "pair",
          "pair",
          "pair",
          "pair",
          "pair",
          "pair",
          "pair",
          "pair",
          "pair",
          "pair",
          "pair",
          "pair",
          "pair",
          "pair",
          "pair",
          "pair",
          "pair",
          "pair",
          "pair",
          "pair",
          "pair",
          "pair",
          "pair",
          "pair",
          "pair",
          "pair",
          "pair",
          "pair",
          "pair",
          "pair",
          "pair",
          "pair",
          "pair",
          "pair",
          "pair",
          "pair",
          "pair",
          "pair",
          "pair",
          "pair",
          "pair",
          "pair",
          "pair",
          "pair",
          "pair",
          "pair",
          "pair",
          "pair",
          "pair",
          "pair",
          "pair",
          "pair",
          "pair",
          "pair",
          "pair",
          "pair",
          "pair",
          "pair",
          "pair",
          "pair",
          "pair",
          "pair",
          "pair",
          "pair",
          "pair",
          "pair",
          "pair",
          "pair",
          "pair",
          "pair",
          "pair",
          "pair",
          "pair"
         ],
         "x0": " ",
         "xaxis": "x",
         "y": [
          0,
          0.003913894324853229,
          0.003913894324853229,
          0,
          0.0136986301369863,
          0,
          0.0019569471624266144,
          0,
          0,
          0.003913894324853229,
          0.019569471624266144,
          0.003913894324853229,
          0.0019569471624266144,
          0.0019569471624266144,
          0.029354207436399216,
          0.005870841487279843,
          0.019569471624266144,
          0.005870841487279843,
          0.003913894324853229,
          0.003913894324853229,
          0.0019569471624266144,
          0.0136986301369863,
          0.003913894324853229,
          0.005870841487279843,
          0.0019569471624266144,
          0.005870841487279843,
          0.0019569471624266144,
          0.003913894324853229,
          0,
          0.011741682974559686,
          0,
          0,
          0.0019569471624266144,
          0,
          0.0019569471624266144,
          0.003913894324853229,
          0.003913894324853229,
          0.021526418786692758,
          0.01761252446183953,
          0.01761252446183953,
          0.0019569471624266144,
          0.023483365949119372,
          0.007827788649706457,
          0,
          0.003913894324853229,
          0.021526418786692758,
          0.009784735812133072,
          0.0019569471624266144,
          0.005870841487279843,
          0,
          0.0019569471624266144,
          0,
          0.003913894324853229,
          0.0136986301369863,
          0.003913894324853229,
          0,
          0.003913894324853229,
          0.0019569471624266144,
          0,
          0.0136986301369863,
          0.007827788649706457,
          0.005870841487279843,
          0.0019569471624266144,
          0.009784735812133072,
          0,
          0.005870841487279843,
          0.003913894324853229,
          0.03131115459882583,
          0.005870841487279843,
          0,
          0,
          0,
          0,
          0,
          0.007827788649706457,
          0.015655577299412915,
          0.011741682974559686,
          0.003913894324853229,
          0.011741682974559686,
          0,
          0.005870841487279843,
          0.005870841487279843,
          0.0019569471624266144,
          0.005870841487279843,
          0.019569471624266144,
          0.007827788649706457,
          0.0019569471624266144,
          0.005870841487279843,
          0.0019569471624266144,
          0.003913894324853229,
          0.003913894324853229,
          0.0136986301369863,
          0.007827788649706457,
          0.0019569471624266144,
          0.005870841487279843,
          0,
          0,
          0.0019569471624266144,
          0.0019569471624266144,
          0.0136986301369863,
          0.0019569471624266144,
          0.0019569471624266144,
          0.009784735812133072,
          0.005870841487279843,
          0,
          0.007827788649706457,
          0.0019569471624266144,
          0.011741682974559686,
          0.005870841487279843,
          0.005870841487279843,
          0,
          0,
          0.005870841487279843,
          0.0136986301369863,
          0.007827788649706457,
          0,
          0.0019569471624266144,
          0.0019569471624266144,
          0.009784735812133072,
          0.0019569471624266144,
          0,
          0.009784735812133072,
          0.005870841487279843,
          0.003913894324853229,
          0,
          0.005870841487279843,
          0.025440313111545987,
          0.005870841487279843,
          0.019569471624266144,
          0.003913894324853229,
          0.003913894324853229,
          0.0019569471624266144,
          0.0136986301369863,
          0,
          0,
          0.005870841487279843,
          0,
          0.015655577299412915,
          0.007827788649706457,
          0.007827788649706457,
          0.011741682974559686,
          0,
          0.0136986301369863,
          0.011741682974559686,
          0.003913894324853229,
          0,
          0.011741682974559686,
          0.0019569471624266144,
          0.0136986301369863,
          0.007827788649706457,
          0.011741682974559686,
          0,
          0.007827788649706457,
          0,
          0,
          0.005870841487279843,
          0,
          0.003913894324853229,
          0.0019569471624266144,
          0.005870841487279843,
          0.007827788649706457,
          0,
          0.005870841487279843,
          0.011741682974559686,
          0,
          0.009784735812133072,
          0,
          0.015655577299412915,
          0.0019569471624266144,
          0.0136986301369863,
          0.01761252446183953,
          0.0019569471624266144,
          0.0019569471624266144,
          0.007827788649706457,
          0.005870841487279843,
          0.007827788649706457,
          0,
          0.009784735812133072,
          0.003913894324853229,
          0.005870841487279843,
          0.005870841487279843,
          0,
          0.0019569471624266144,
          0.0019569471624266144,
          0,
          0.003913894324853229,
          0,
          0.0019569471624266144,
          0.0019569471624266144,
          0.007827788649706457,
          0.003913894324853229,
          0,
          0,
          0,
          0.011741682974559686,
          0,
          0.007827788649706457,
          0.003913894324853229,
          0.005870841487279843,
          0.003913894324853229,
          0.023483365949119372,
          0.03718199608610567,
          0.019569471624266144,
          0.025440313111545987,
          0.003913894324853229,
          0.023483365949119372,
          0.01761252446183953,
          0.0273972602739726,
          0.03131115459882583,
          0.029354207436399216,
          0.023483365949119372,
          0.023483365949119372,
          0.029354207436399216,
          0.0136986301369863,
          0.0273972602739726,
          0.01761252446183953,
          0,
          0.021526418786692758,
          0.0136986301369863,
          0.009784735812133072,
          0.033268101761252444,
          0.019569471624266144,
          0.023483365949119372,
          0.021526418786692758,
          0.011741682974559686,
          0.003913894324853229,
          0.011741682974559686,
          0.0136986301369863,
          0.029354207436399216,
          0,
          0.046966731898238745,
          0.021526418786692758,
          0.033268101761252444,
          0.007827788649706457,
          0.025440313111545987,
          0.025440313111545987,
          0.015655577299412915,
          0.029354207436399216,
          0.019569471624266144,
          0.0136986301369863,
          0.015655577299412915,
          0.023483365949119372,
          0.0410958904109589,
          0.025440313111545987,
          0.0273972602739726,
          0.025440313111545987,
          0.0410958904109589,
          0.021526418786692758,
          0.007827788649706457,
          0.01761252446183953,
          0.023483365949119372,
          0.0136986301369863,
          0.03522504892367906,
          0.007827788649706457,
          0.0273972602739726,
          0.019569471624266144,
          0.0136986301369863,
          0.0136986301369863,
          0.021526418786692758,
          0.03718199608610567,
          0.023483365949119372,
          0.003913894324853229,
          0.007827788649706457,
          0.025440313111545987,
          0.0136986301369863,
          0.03131115459882583,
          0.01761252446183953,
          0.0136986301369863,
          0.005870841487279843,
          0.01761252446183953,
          0.04500978473581213,
          0.0273972602739726,
          0.023483365949119372,
          0.011741682974559686,
          0.033268101761252444,
          0.009784735812133072,
          0.04500978473581213,
          0.0136986301369863,
          0.023483365949119372,
          0.025440313111545987,
          0.009784735812133072,
          0.029354207436399216,
          0.03131115459882583,
          0.011741682974559686,
          0.011741682974559686,
          0.025440313111545987,
          0.0273972602739726,
          0.03131115459882583,
          0.003913894324853229,
          0.03131115459882583,
          0.01761252446183953,
          0.003913894324853229,
          0.0410958904109589,
          0.03131115459882583,
          0.011741682974559686,
          0.015655577299412915,
          0.023483365949119372,
          0.025440313111545987,
          0.01761252446183953,
          0.005870841487279843,
          0.01761252446183953,
          0.0273972602739726,
          0.023483365949119372,
          0.033268101761252444,
          0.01761252446183953,
          0.021526418786692758,
          0.021526418786692758,
          0.0273972602739726,
          0.005870841487279843,
          0.019569471624266144,
          0.019569471624266144,
          0.03522504892367906,
          0.029354207436399216,
          0.0273972602739726,
          0.021526418786692758,
          0.019569471624266144,
          0.015655577299412915,
          0.03718199608610567,
          0.01761252446183953,
          0.03718199608610567,
          0.0136986301369863,
          0.043052837573385516,
          0.021526418786692758,
          0.025440313111545987,
          0.03131115459882583,
          0.03131115459882583,
          0.01761252446183953,
          0.0273972602739726,
          0.005870841487279843,
          0.01761252446183953,
          0.0273972602739726,
          0.033268101761252444,
          0.0273972602739726,
          0.021526418786692758,
          0.005870841487279843,
          0.019569471624266144,
          0.019569471624266144,
          0.046966731898238745,
          0.019569471624266144,
          0.0136986301369863,
          0.029354207436399216,
          0.03718199608610567,
          0.021526418786692758,
          0.04892367906066536,
          0.033268101761252444,
          0.009784735812133072,
          0.029354207436399216,
          0.0273972602739726,
          0.023483365949119372,
          0.021526418786692758,
          0.03522504892367906,
          0.015655577299412915,
          0.003913894324853229,
          0.03131115459882583,
          0.04500978473581213,
          0.0273972602739726,
          0.011741682974559686,
          0.03131115459882583,
          0.021526418786692758,
          0.019569471624266144,
          0.019569471624266144,
          0.025440313111545987,
          0.0273972602739726,
          0,
          0.03913894324853229,
          0.019569471624266144,
          0.0136986301369863,
          0.019569471624266144,
          0.0273972602739726,
          0.03131115459882583,
          0.043052837573385516,
          0.03522504892367906,
          0.021526418786692758,
          0.0136986301369863,
          0.0273972602739726,
          0.0273972602739726,
          0.0136986301369863,
          0.019569471624266144,
          0.011741682974559686,
          0,
          0.009784735812133072,
          0.023483365949119372,
          0.005870841487279843,
          0.023483365949119372,
          0.01761252446183953,
          0,
          0.023483365949119372,
          0.03131115459882583,
          0.005870841487279843,
          0.021526418786692758,
          0.019569471624266144,
          0.03131115459882583,
          0.029354207436399216,
          0.011741682974559686,
          0.0136986301369863,
          0.0136986301369863,
          0.025440313111545987,
          0.043052837573385516,
          0.043052837573385516,
          0.029354207436399216,
          0.003913894324853229,
          0.025440313111545987,
          0.021526418786692758,
          0.025440313111545987,
          0.005870841487279843,
          0.005870841487279843,
          0.007827788649706457,
          0.019569471624266144,
          0.003913894324853229,
          0.015655577299412915,
          0.029354207436399216,
          0.005870841487279843,
          0.01761252446183953,
          0.005870841487279843,
          0.0136986301369863,
          0.015655577299412915,
          0.003913894324853229,
          0.007827788649706457,
          0.0136986301369863,
          0.021526418786692758,
          0.007827788649706457,
          0.019569471624266144,
          0.015655577299412915,
          0.011741682974559686,
          0.011741682974559686,
          0.015655577299412915,
          0.005870841487279843,
          0.007827788649706457,
          0.003913894324853229,
          0.015655577299412915,
          0.011741682974559686,
          0.003913894324853229,
          0.009784735812133072,
          0.021526418786692758,
          0.005870841487279843,
          0.01761252446183953,
          0.021526418786692758,
          0.023483365949119372,
          0.011741682974559686,
          0.01761252446183953,
          0.023483365949119372,
          0.003913894324853229,
          0.005870841487279843,
          0.011741682974559686,
          0.007827788649706457,
          0.019569471624266144,
          0.011741682974559686,
          0.009784735812133072,
          0.01761252446183953,
          0.0136986301369863,
          0.011741682974559686,
          0.021526418786692758,
          0.015655577299412915,
          0.009784735812133072,
          0.019569471624266144,
          0.021526418786692758,
          0.0019569471624266144,
          0.01761252446183953,
          0.01761252446183953,
          0.019569471624266144,
          0.021526418786692758,
          0.009784735812133072,
          0.005870841487279843,
          0.01761252446183953,
          0.009784735812133072,
          0.01761252446183953,
          0.015655577299412915,
          0.009784735812133072,
          0.019569471624266144,
          0.007827788649706457,
          0.003913894324853229,
          0.03131115459882583,
          0.005870841487279843,
          0.005870841487279843,
          0.015655577299412915,
          0.007827788649706457,
          0.011741682974559686,
          0.015655577299412915,
          0.007827788649706457,
          0.007827788649706457,
          0.005870841487279843,
          0.021526418786692758,
          0.0136986301369863,
          0.007827788649706457,
          0.025440313111545987,
          0.007827788649706457,
          0.007827788649706457,
          0.0136986301369863,
          0.003913894324853229,
          0.011741682974559686,
          0.01761252446183953,
          0.021526418786692758,
          0.019569471624266144,
          0.0136986301369863,
          0.01761252446183953,
          0.029354207436399216,
          0.019569471624266144,
          0.015655577299412915,
          0.007827788649706457,
          0.011741682974559686,
          0.0136986301369863,
          0.005870841487279843,
          0.007827788649706457,
          0.029354207436399216,
          0.011741682974559686,
          0.01761252446183953,
          0.005870841487279843,
          0.009784735812133072,
          0.007827788649706457,
          0.015655577299412915,
          0.011741682974559686,
          0.025440313111545987,
          0.0136986301369863,
          0.005870841487279843,
          0.011741682974559686,
          0.01761252446183953,
          0.0019569471624266144,
          0.011741682974559686,
          0.011741682974559686,
          0.009784735812133072,
          0.01761252446183953,
          0.011741682974559686,
          0.007827788649706457,
          0.019569471624266144,
          0.011741682974559686,
          0.009784735812133072,
          0.015655577299412915,
          0.005870841487279843,
          0.005870841487279843,
          0.023483365949119372,
          0.015655577299412915,
          0.015655577299412915,
          0.0273972602739726,
          0.019569471624266144,
          0.025440313111545987,
          0.005870841487279843,
          0.009784735812133072,
          0.009784735812133072,
          0.009784735812133072,
          0.019569471624266144,
          0.009784735812133072,
          0.009784735812133072,
          0.005870841487279843,
          0.009784735812133072,
          0.007827788649706457,
          0.021526418786692758,
          0.005870841487279843,
          0.01761252446183953,
          0.005870841487279843,
          0.0019569471624266144,
          0.009784735812133072,
          0.019569471624266144,
          0.019569471624266144,
          0.011741682974559686,
          0.007827788649706457,
          0.009784735812133072,
          0.003913894324853229,
          0.009784735812133072,
          0.0273972602739726,
          0.01761252446183953,
          0.0273972602739726,
          0.0136986301369863,
          0.015655577299412915,
          0.007827788649706457,
          0.005870841487279843,
          0.0273972602739726,
          0.015655577299412915,
          0.015655577299412915,
          0.025440313111545987,
          0.0136986301369863,
          0.009784735812133072,
          0.011741682974559686,
          0.009784735812133072,
          0.015655577299412915,
          0.005870841487279843,
          0.019569471624266144,
          0.01761252446183953,
          0.021526418786692758,
          0.009784735812133072,
          0.009784735812133072,
          0.009784735812133072,
          0.01761252446183953,
          0.011741682974559686,
          0.005870841487279843,
          0.005870841487279843,
          0.005870841487279843,
          0.009784735812133072,
          0.0136986301369863,
          0.011741682974559686,
          0.009784735812133072,
          0.015655577299412915,
          0.01761252446183953,
          0.025440313111545987,
          0.005870841487279843,
          0.029354207436399216,
          0.019569471624266144,
          0.009784735812133072,
          0.011741682974559686,
          0.005870841487279843,
          0.005870841487279843
         ],
         "y0": " ",
         "yaxis": "y"
        }
       ],
       "layout": {
        "boxmode": "group",
        "legend": {
         "tracegroupgap": 0
        },
        "margin": {
         "t": 60
        },
        "template": {
         "data": {
          "bar": [
           {
            "error_x": {
             "color": "#2a3f5f"
            },
            "error_y": {
             "color": "#2a3f5f"
            },
            "marker": {
             "line": {
              "color": "#E5ECF6",
              "width": 0.5
             },
             "pattern": {
              "fillmode": "overlay",
              "size": 10,
              "solidity": 0.2
             }
            },
            "type": "bar"
           }
          ],
          "barpolar": [
           {
            "marker": {
             "line": {
              "color": "#E5ECF6",
              "width": 0.5
             },
             "pattern": {
              "fillmode": "overlay",
              "size": 10,
              "solidity": 0.2
             }
            },
            "type": "barpolar"
           }
          ],
          "carpet": [
           {
            "aaxis": {
             "endlinecolor": "#2a3f5f",
             "gridcolor": "white",
             "linecolor": "white",
             "minorgridcolor": "white",
             "startlinecolor": "#2a3f5f"
            },
            "baxis": {
             "endlinecolor": "#2a3f5f",
             "gridcolor": "white",
             "linecolor": "white",
             "minorgridcolor": "white",
             "startlinecolor": "#2a3f5f"
            },
            "type": "carpet"
           }
          ],
          "choropleth": [
           {
            "colorbar": {
             "outlinewidth": 0,
             "ticks": ""
            },
            "type": "choropleth"
           }
          ],
          "contour": [
           {
            "colorbar": {
             "outlinewidth": 0,
             "ticks": ""
            },
            "colorscale": [
             [
              0,
              "#0d0887"
             ],
             [
              0.1111111111111111,
              "#46039f"
             ],
             [
              0.2222222222222222,
              "#7201a8"
             ],
             [
              0.3333333333333333,
              "#9c179e"
             ],
             [
              0.4444444444444444,
              "#bd3786"
             ],
             [
              0.5555555555555556,
              "#d8576b"
             ],
             [
              0.6666666666666666,
              "#ed7953"
             ],
             [
              0.7777777777777778,
              "#fb9f3a"
             ],
             [
              0.8888888888888888,
              "#fdca26"
             ],
             [
              1,
              "#f0f921"
             ]
            ],
            "type": "contour"
           }
          ],
          "contourcarpet": [
           {
            "colorbar": {
             "outlinewidth": 0,
             "ticks": ""
            },
            "type": "contourcarpet"
           }
          ],
          "heatmap": [
           {
            "colorbar": {
             "outlinewidth": 0,
             "ticks": ""
            },
            "colorscale": [
             [
              0,
              "#0d0887"
             ],
             [
              0.1111111111111111,
              "#46039f"
             ],
             [
              0.2222222222222222,
              "#7201a8"
             ],
             [
              0.3333333333333333,
              "#9c179e"
             ],
             [
              0.4444444444444444,
              "#bd3786"
             ],
             [
              0.5555555555555556,
              "#d8576b"
             ],
             [
              0.6666666666666666,
              "#ed7953"
             ],
             [
              0.7777777777777778,
              "#fb9f3a"
             ],
             [
              0.8888888888888888,
              "#fdca26"
             ],
             [
              1,
              "#f0f921"
             ]
            ],
            "type": "heatmap"
           }
          ],
          "heatmapgl": [
           {
            "colorbar": {
             "outlinewidth": 0,
             "ticks": ""
            },
            "colorscale": [
             [
              0,
              "#0d0887"
             ],
             [
              0.1111111111111111,
              "#46039f"
             ],
             [
              0.2222222222222222,
              "#7201a8"
             ],
             [
              0.3333333333333333,
              "#9c179e"
             ],
             [
              0.4444444444444444,
              "#bd3786"
             ],
             [
              0.5555555555555556,
              "#d8576b"
             ],
             [
              0.6666666666666666,
              "#ed7953"
             ],
             [
              0.7777777777777778,
              "#fb9f3a"
             ],
             [
              0.8888888888888888,
              "#fdca26"
             ],
             [
              1,
              "#f0f921"
             ]
            ],
            "type": "heatmapgl"
           }
          ],
          "histogram": [
           {
            "marker": {
             "pattern": {
              "fillmode": "overlay",
              "size": 10,
              "solidity": 0.2
             }
            },
            "type": "histogram"
           }
          ],
          "histogram2d": [
           {
            "colorbar": {
             "outlinewidth": 0,
             "ticks": ""
            },
            "colorscale": [
             [
              0,
              "#0d0887"
             ],
             [
              0.1111111111111111,
              "#46039f"
             ],
             [
              0.2222222222222222,
              "#7201a8"
             ],
             [
              0.3333333333333333,
              "#9c179e"
             ],
             [
              0.4444444444444444,
              "#bd3786"
             ],
             [
              0.5555555555555556,
              "#d8576b"
             ],
             [
              0.6666666666666666,
              "#ed7953"
             ],
             [
              0.7777777777777778,
              "#fb9f3a"
             ],
             [
              0.8888888888888888,
              "#fdca26"
             ],
             [
              1,
              "#f0f921"
             ]
            ],
            "type": "histogram2d"
           }
          ],
          "histogram2dcontour": [
           {
            "colorbar": {
             "outlinewidth": 0,
             "ticks": ""
            },
            "colorscale": [
             [
              0,
              "#0d0887"
             ],
             [
              0.1111111111111111,
              "#46039f"
             ],
             [
              0.2222222222222222,
              "#7201a8"
             ],
             [
              0.3333333333333333,
              "#9c179e"
             ],
             [
              0.4444444444444444,
              "#bd3786"
             ],
             [
              0.5555555555555556,
              "#d8576b"
             ],
             [
              0.6666666666666666,
              "#ed7953"
             ],
             [
              0.7777777777777778,
              "#fb9f3a"
             ],
             [
              0.8888888888888888,
              "#fdca26"
             ],
             [
              1,
              "#f0f921"
             ]
            ],
            "type": "histogram2dcontour"
           }
          ],
          "mesh3d": [
           {
            "colorbar": {
             "outlinewidth": 0,
             "ticks": ""
            },
            "type": "mesh3d"
           }
          ],
          "parcoords": [
           {
            "line": {
             "colorbar": {
              "outlinewidth": 0,
              "ticks": ""
             }
            },
            "type": "parcoords"
           }
          ],
          "pie": [
           {
            "automargin": true,
            "type": "pie"
           }
          ],
          "scatter": [
           {
            "fillpattern": {
             "fillmode": "overlay",
             "size": 10,
             "solidity": 0.2
            },
            "type": "scatter"
           }
          ],
          "scatter3d": [
           {
            "line": {
             "colorbar": {
              "outlinewidth": 0,
              "ticks": ""
             }
            },
            "marker": {
             "colorbar": {
              "outlinewidth": 0,
              "ticks": ""
             }
            },
            "type": "scatter3d"
           }
          ],
          "scattercarpet": [
           {
            "marker": {
             "colorbar": {
              "outlinewidth": 0,
              "ticks": ""
             }
            },
            "type": "scattercarpet"
           }
          ],
          "scattergeo": [
           {
            "marker": {
             "colorbar": {
              "outlinewidth": 0,
              "ticks": ""
             }
            },
            "type": "scattergeo"
           }
          ],
          "scattergl": [
           {
            "marker": {
             "colorbar": {
              "outlinewidth": 0,
              "ticks": ""
             }
            },
            "type": "scattergl"
           }
          ],
          "scattermapbox": [
           {
            "marker": {
             "colorbar": {
              "outlinewidth": 0,
              "ticks": ""
             }
            },
            "type": "scattermapbox"
           }
          ],
          "scatterpolar": [
           {
            "marker": {
             "colorbar": {
              "outlinewidth": 0,
              "ticks": ""
             }
            },
            "type": "scatterpolar"
           }
          ],
          "scatterpolargl": [
           {
            "marker": {
             "colorbar": {
              "outlinewidth": 0,
              "ticks": ""
             }
            },
            "type": "scatterpolargl"
           }
          ],
          "scatterternary": [
           {
            "marker": {
             "colorbar": {
              "outlinewidth": 0,
              "ticks": ""
             }
            },
            "type": "scatterternary"
           }
          ],
          "surface": [
           {
            "colorbar": {
             "outlinewidth": 0,
             "ticks": ""
            },
            "colorscale": [
             [
              0,
              "#0d0887"
             ],
             [
              0.1111111111111111,
              "#46039f"
             ],
             [
              0.2222222222222222,
              "#7201a8"
             ],
             [
              0.3333333333333333,
              "#9c179e"
             ],
             [
              0.4444444444444444,
              "#bd3786"
             ],
             [
              0.5555555555555556,
              "#d8576b"
             ],
             [
              0.6666666666666666,
              "#ed7953"
             ],
             [
              0.7777777777777778,
              "#fb9f3a"
             ],
             [
              0.8888888888888888,
              "#fdca26"
             ],
             [
              1,
              "#f0f921"
             ]
            ],
            "type": "surface"
           }
          ],
          "table": [
           {
            "cells": {
             "fill": {
              "color": "#EBF0F8"
             },
             "line": {
              "color": "white"
             }
            },
            "header": {
             "fill": {
              "color": "#C8D4E3"
             },
             "line": {
              "color": "white"
             }
            },
            "type": "table"
           }
          ]
         },
         "layout": {
          "annotationdefaults": {
           "arrowcolor": "#2a3f5f",
           "arrowhead": 0,
           "arrowwidth": 1
          },
          "autotypenumbers": "strict",
          "coloraxis": {
           "colorbar": {
            "outlinewidth": 0,
            "ticks": ""
           }
          },
          "colorscale": {
           "diverging": [
            [
             0,
             "#8e0152"
            ],
            [
             0.1,
             "#c51b7d"
            ],
            [
             0.2,
             "#de77ae"
            ],
            [
             0.3,
             "#f1b6da"
            ],
            [
             0.4,
             "#fde0ef"
            ],
            [
             0.5,
             "#f7f7f7"
            ],
            [
             0.6,
             "#e6f5d0"
            ],
            [
             0.7,
             "#b8e186"
            ],
            [
             0.8,
             "#7fbc41"
            ],
            [
             0.9,
             "#4d9221"
            ],
            [
             1,
             "#276419"
            ]
           ],
           "sequential": [
            [
             0,
             "#0d0887"
            ],
            [
             0.1111111111111111,
             "#46039f"
            ],
            [
             0.2222222222222222,
             "#7201a8"
            ],
            [
             0.3333333333333333,
             "#9c179e"
            ],
            [
             0.4444444444444444,
             "#bd3786"
            ],
            [
             0.5555555555555556,
             "#d8576b"
            ],
            [
             0.6666666666666666,
             "#ed7953"
            ],
            [
             0.7777777777777778,
             "#fb9f3a"
            ],
            [
             0.8888888888888888,
             "#fdca26"
            ],
            [
             1,
             "#f0f921"
            ]
           ],
           "sequentialminus": [
            [
             0,
             "#0d0887"
            ],
            [
             0.1111111111111111,
             "#46039f"
            ],
            [
             0.2222222222222222,
             "#7201a8"
            ],
            [
             0.3333333333333333,
             "#9c179e"
            ],
            [
             0.4444444444444444,
             "#bd3786"
            ],
            [
             0.5555555555555556,
             "#d8576b"
            ],
            [
             0.6666666666666666,
             "#ed7953"
            ],
            [
             0.7777777777777778,
             "#fb9f3a"
            ],
            [
             0.8888888888888888,
             "#fdca26"
            ],
            [
             1,
             "#f0f921"
            ]
           ]
          },
          "colorway": [
           "#636efa",
           "#EF553B",
           "#00cc96",
           "#ab63fa",
           "#FFA15A",
           "#19d3f3",
           "#FF6692",
           "#B6E880",
           "#FF97FF",
           "#FECB52"
          ],
          "font": {
           "color": "#2a3f5f"
          },
          "geo": {
           "bgcolor": "white",
           "lakecolor": "white",
           "landcolor": "#E5ECF6",
           "showlakes": true,
           "showland": true,
           "subunitcolor": "white"
          },
          "hoverlabel": {
           "align": "left"
          },
          "hovermode": "closest",
          "mapbox": {
           "style": "light"
          },
          "paper_bgcolor": "white",
          "plot_bgcolor": "#E5ECF6",
          "polar": {
           "angularaxis": {
            "gridcolor": "white",
            "linecolor": "white",
            "ticks": ""
           },
           "bgcolor": "#E5ECF6",
           "radialaxis": {
            "gridcolor": "white",
            "linecolor": "white",
            "ticks": ""
           }
          },
          "scene": {
           "xaxis": {
            "backgroundcolor": "#E5ECF6",
            "gridcolor": "white",
            "gridwidth": 2,
            "linecolor": "white",
            "showbackground": true,
            "ticks": "",
            "zerolinecolor": "white"
           },
           "yaxis": {
            "backgroundcolor": "#E5ECF6",
            "gridcolor": "white",
            "gridwidth": 2,
            "linecolor": "white",
            "showbackground": true,
            "ticks": "",
            "zerolinecolor": "white"
           },
           "zaxis": {
            "backgroundcolor": "#E5ECF6",
            "gridcolor": "white",
            "gridwidth": 2,
            "linecolor": "white",
            "showbackground": true,
            "ticks": "",
            "zerolinecolor": "white"
           }
          },
          "shapedefaults": {
           "line": {
            "color": "#2a3f5f"
           }
          },
          "ternary": {
           "aaxis": {
            "gridcolor": "white",
            "linecolor": "white",
            "ticks": ""
           },
           "baxis": {
            "gridcolor": "white",
            "linecolor": "white",
            "ticks": ""
           },
           "bgcolor": "#E5ECF6",
           "caxis": {
            "gridcolor": "white",
            "linecolor": "white",
            "ticks": ""
           }
          },
          "title": {
           "x": 0.05
          },
          "xaxis": {
           "automargin": true,
           "gridcolor": "white",
           "linecolor": "white",
           "ticks": "",
           "title": {
            "standoff": 15
           },
           "zerolinecolor": "white",
           "zerolinewidth": 2
          },
          "yaxis": {
           "automargin": true,
           "gridcolor": "white",
           "linecolor": "white",
           "ticks": "",
           "title": {
            "standoff": 15
           },
           "zerolinecolor": "white",
           "zerolinewidth": 2
          }
         }
        },
        "xaxis": {
         "anchor": "y",
         "domain": [
          0,
          1
         ],
         "title": {
          "text": "seeding method"
         }
        },
        "yaxis": {
         "anchor": "x",
         "domain": [
          0,
          1
         ],
         "title": {
          "text": "2-seed transitivity"
         }
        }
       }
      },
      "text/html": [
       "<div>                            <div id=\"e0d86a33-f82d-402f-bca6-a33fb2694693\" class=\"plotly-graph-div\" style=\"height:525px; width:100%;\"></div>            <script type=\"text/javascript\">                require([\"plotly\"], function(Plotly) {                    window.PLOTLYENV=window.PLOTLYENV || {};                                    if (document.getElementById(\"e0d86a33-f82d-402f-bca6-a33fb2694693\")) {                    Plotly.newPlot(                        \"e0d86a33-f82d-402f-bca6-a33fb2694693\",                        [{\"alignmentgroup\":\"True\",\"hovertemplate\":\"seeding method=%{x}<br>2-seed transitivity=%{y}<extra></extra>\",\"legendgroup\":\"\",\"marker\":{\"color\":\"#636efa\"},\"name\":\"\",\"notched\":false,\"offsetgroup\":\"\",\"orientation\":\"v\",\"showlegend\":false,\"x\":[\"random\",\"random\",\"random\",\"random\",\"random\",\"random\",\"random\",\"random\",\"random\",\"random\",\"random\",\"random\",\"random\",\"random\",\"random\",\"random\",\"random\",\"random\",\"random\",\"random\",\"random\",\"random\",\"random\",\"random\",\"random\",\"random\",\"random\",\"random\",\"random\",\"random\",\"random\",\"random\",\"random\",\"random\",\"random\",\"random\",\"random\",\"random\",\"random\",\"random\",\"random\",\"random\",\"random\",\"random\",\"random\",\"random\",\"random\",\"random\",\"random\",\"random\",\"random\",\"random\",\"random\",\"random\",\"random\",\"random\",\"random\",\"random\",\"random\",\"random\",\"random\",\"random\",\"random\",\"random\",\"random\",\"random\",\"random\",\"random\",\"random\",\"random\",\"random\",\"random\",\"random\",\"random\",\"random\",\"random\",\"random\",\"random\",\"random\",\"random\",\"random\",\"random\",\"random\",\"random\",\"random\",\"random\",\"random\",\"random\",\"random\",\"random\",\"random\",\"random\",\"random\",\"random\",\"random\",\"random\",\"random\",\"random\",\"random\",\"random\",\"random\",\"random\",\"random\",\"random\",\"random\",\"random\",\"random\",\"random\",\"random\",\"random\",\"random\",\"random\",\"random\",\"random\",\"random\",\"random\",\"random\",\"random\",\"random\",\"random\",\"random\",\"random\",\"random\",\"random\",\"random\",\"random\",\"random\",\"random\",\"random\",\"random\",\"random\",\"random\",\"random\",\"random\",\"random\",\"random\",\"random\",\"random\",\"random\",\"random\",\"random\",\"random\",\"random\",\"random\",\"random\",\"random\",\"random\",\"random\",\"random\",\"random\",\"random\",\"random\",\"random\",\"random\",\"random\",\"random\",\"random\",\"random\",\"random\",\"random\",\"random\",\"random\",\"random\",\"random\",\"random\",\"random\",\"random\",\"random\",\"random\",\"random\",\"random\",\"random\",\"random\",\"random\",\"random\",\"random\",\"random\",\"random\",\"random\",\"random\",\"random\",\"random\",\"random\",\"random\",\"random\",\"random\",\"random\",\"random\",\"random\",\"random\",\"random\",\"random\",\"random\",\"random\",\"random\",\"random\",\"random\",\"random\",\"random\",\"random\",\"friend\",\"friend\",\"friend\",\"friend\",\"friend\",\"friend\",\"friend\",\"friend\",\"friend\",\"friend\",\"friend\",\"friend\",\"friend\",\"friend\",\"friend\",\"friend\",\"friend\",\"friend\",\"friend\",\"friend\",\"friend\",\"friend\",\"friend\",\"friend\",\"friend\",\"friend\",\"friend\",\"friend\",\"friend\",\"friend\",\"friend\",\"friend\",\"friend\",\"friend\",\"friend\",\"friend\",\"friend\",\"friend\",\"friend\",\"friend\",\"friend\",\"friend\",\"friend\",\"friend\",\"friend\",\"friend\",\"friend\",\"friend\",\"friend\",\"friend\",\"friend\",\"friend\",\"friend\",\"friend\",\"friend\",\"friend\",\"friend\",\"friend\",\"friend\",\"friend\",\"friend\",\"friend\",\"friend\",\"friend\",\"friend\",\"friend\",\"friend\",\"friend\",\"friend\",\"friend\",\"friend\",\"friend\",\"friend\",\"friend\",\"friend\",\"friend\",\"friend\",\"friend\",\"friend\",\"friend\",\"friend\",\"friend\",\"friend\",\"friend\",\"friend\",\"friend\",\"friend\",\"friend\",\"friend\",\"friend\",\"friend\",\"friend\",\"friend\",\"friend\",\"friend\",\"friend\",\"friend\",\"friend\",\"friend\",\"friend\",\"friend\",\"friend\",\"friend\",\"friend\",\"friend\",\"friend\",\"friend\",\"friend\",\"friend\",\"friend\",\"friend\",\"friend\",\"friend\",\"friend\",\"friend\",\"friend\",\"friend\",\"friend\",\"friend\",\"friend\",\"friend\",\"friend\",\"friend\",\"friend\",\"friend\",\"friend\",\"friend\",\"friend\",\"friend\",\"friend\",\"friend\",\"friend\",\"friend\",\"friend\",\"friend\",\"friend\",\"friend\",\"friend\",\"friend\",\"friend\",\"friend\",\"friend\",\"friend\",\"friend\",\"friend\",\"friend\",\"friend\",\"friend\",\"friend\",\"friend\",\"friend\",\"friend\",\"friend\",\"friend\",\"friend\",\"friend\",\"friend\",\"friend\",\"friend\",\"friend\",\"friend\",\"friend\",\"friend\",\"friend\",\"friend\",\"friend\",\"friend\",\"friend\",\"friend\",\"friend\",\"friend\",\"friend\",\"friend\",\"friend\",\"friend\",\"friend\",\"friend\",\"friend\",\"friend\",\"friend\",\"friend\",\"friend\",\"friend\",\"friend\",\"friend\",\"friend\",\"friend\",\"friend\",\"friend\",\"friend\",\"friend\",\"friend\",\"friend\",\"friend\",\"friend\",\"friend\",\"friend\",\"friend\",\"friend\",\"friend\",\"pair\",\"pair\",\"pair\",\"pair\",\"pair\",\"pair\",\"pair\",\"pair\",\"pair\",\"pair\",\"pair\",\"pair\",\"pair\",\"pair\",\"pair\",\"pair\",\"pair\",\"pair\",\"pair\",\"pair\",\"pair\",\"pair\",\"pair\",\"pair\",\"pair\",\"pair\",\"pair\",\"pair\",\"pair\",\"pair\",\"pair\",\"pair\",\"pair\",\"pair\",\"pair\",\"pair\",\"pair\",\"pair\",\"pair\",\"pair\",\"pair\",\"pair\",\"pair\",\"pair\",\"pair\",\"pair\",\"pair\",\"pair\",\"pair\",\"pair\",\"pair\",\"pair\",\"pair\",\"pair\",\"pair\",\"pair\",\"pair\",\"pair\",\"pair\",\"pair\",\"pair\",\"pair\",\"pair\",\"pair\",\"pair\",\"pair\",\"pair\",\"pair\",\"pair\",\"pair\",\"pair\",\"pair\",\"pair\",\"pair\",\"pair\",\"pair\",\"pair\",\"pair\",\"pair\",\"pair\",\"pair\",\"pair\",\"pair\",\"pair\",\"pair\",\"pair\",\"pair\",\"pair\",\"pair\",\"pair\",\"pair\",\"pair\",\"pair\",\"pair\",\"pair\",\"pair\",\"pair\",\"pair\",\"pair\",\"pair\",\"pair\",\"pair\",\"pair\",\"pair\",\"pair\",\"pair\",\"pair\",\"pair\",\"pair\",\"pair\",\"pair\",\"pair\",\"pair\",\"pair\",\"pair\",\"pair\",\"pair\",\"pair\",\"pair\",\"pair\",\"pair\",\"pair\",\"pair\",\"pair\",\"pair\",\"pair\",\"pair\",\"pair\",\"pair\",\"pair\",\"pair\",\"pair\",\"pair\",\"pair\",\"pair\",\"pair\",\"pair\",\"pair\",\"pair\",\"pair\",\"pair\",\"pair\",\"pair\",\"pair\",\"pair\",\"pair\",\"pair\",\"pair\",\"pair\",\"pair\",\"pair\",\"pair\",\"pair\",\"pair\",\"pair\",\"pair\",\"pair\",\"pair\",\"pair\",\"pair\",\"pair\",\"pair\",\"pair\",\"pair\",\"pair\",\"pair\",\"pair\",\"pair\",\"pair\",\"pair\",\"pair\",\"pair\",\"pair\",\"pair\",\"pair\",\"pair\",\"pair\",\"pair\",\"pair\",\"pair\",\"pair\",\"pair\",\"pair\",\"pair\",\"pair\",\"pair\",\"pair\",\"pair\",\"pair\",\"pair\",\"pair\",\"pair\",\"pair\",\"pair\",\"pair\",\"pair\",\"pair\",\"pair\",\"pair\",\"pair\"],\"x0\":\" \",\"xaxis\":\"x\",\"y\":[0.0,0.003913894324853229,0.003913894324853229,0.0,0.0136986301369863,0.0,0.0019569471624266144,0.0,0.0,0.003913894324853229,0.019569471624266144,0.003913894324853229,0.0019569471624266144,0.0019569471624266144,0.029354207436399216,0.005870841487279843,0.019569471624266144,0.005870841487279843,0.003913894324853229,0.003913894324853229,0.0019569471624266144,0.0136986301369863,0.003913894324853229,0.005870841487279843,0.0019569471624266144,0.005870841487279843,0.0019569471624266144,0.003913894324853229,0.0,0.011741682974559686,0.0,0.0,0.0019569471624266144,0.0,0.0019569471624266144,0.003913894324853229,0.003913894324853229,0.021526418786692758,0.01761252446183953,0.01761252446183953,0.0019569471624266144,0.023483365949119372,0.007827788649706457,0.0,0.003913894324853229,0.021526418786692758,0.009784735812133072,0.0019569471624266144,0.005870841487279843,0.0,0.0019569471624266144,0.0,0.003913894324853229,0.0136986301369863,0.003913894324853229,0.0,0.003913894324853229,0.0019569471624266144,0.0,0.0136986301369863,0.007827788649706457,0.005870841487279843,0.0019569471624266144,0.009784735812133072,0.0,0.005870841487279843,0.003913894324853229,0.03131115459882583,0.005870841487279843,0.0,0.0,0.0,0.0,0.0,0.007827788649706457,0.015655577299412915,0.011741682974559686,0.003913894324853229,0.011741682974559686,0.0,0.005870841487279843,0.005870841487279843,0.0019569471624266144,0.005870841487279843,0.019569471624266144,0.007827788649706457,0.0019569471624266144,0.005870841487279843,0.0019569471624266144,0.003913894324853229,0.003913894324853229,0.0136986301369863,0.007827788649706457,0.0019569471624266144,0.005870841487279843,0.0,0.0,0.0019569471624266144,0.0019569471624266144,0.0136986301369863,0.0019569471624266144,0.0019569471624266144,0.009784735812133072,0.005870841487279843,0.0,0.007827788649706457,0.0019569471624266144,0.011741682974559686,0.005870841487279843,0.005870841487279843,0.0,0.0,0.005870841487279843,0.0136986301369863,0.007827788649706457,0.0,0.0019569471624266144,0.0019569471624266144,0.009784735812133072,0.0019569471624266144,0.0,0.009784735812133072,0.005870841487279843,0.003913894324853229,0.0,0.005870841487279843,0.025440313111545987,0.005870841487279843,0.019569471624266144,0.003913894324853229,0.003913894324853229,0.0019569471624266144,0.0136986301369863,0.0,0.0,0.005870841487279843,0.0,0.015655577299412915,0.007827788649706457,0.007827788649706457,0.011741682974559686,0.0,0.0136986301369863,0.011741682974559686,0.003913894324853229,0.0,0.011741682974559686,0.0019569471624266144,0.0136986301369863,0.007827788649706457,0.011741682974559686,0.0,0.007827788649706457,0.0,0.0,0.005870841487279843,0.0,0.003913894324853229,0.0019569471624266144,0.005870841487279843,0.007827788649706457,0.0,0.005870841487279843,0.011741682974559686,0.0,0.009784735812133072,0.0,0.015655577299412915,0.0019569471624266144,0.0136986301369863,0.01761252446183953,0.0019569471624266144,0.0019569471624266144,0.007827788649706457,0.005870841487279843,0.007827788649706457,0.0,0.009784735812133072,0.003913894324853229,0.005870841487279843,0.005870841487279843,0.0,0.0019569471624266144,0.0019569471624266144,0.0,0.003913894324853229,0.0,0.0019569471624266144,0.0019569471624266144,0.007827788649706457,0.003913894324853229,0.0,0.0,0.0,0.011741682974559686,0.0,0.007827788649706457,0.003913894324853229,0.005870841487279843,0.003913894324853229,0.023483365949119372,0.03718199608610567,0.019569471624266144,0.025440313111545987,0.003913894324853229,0.023483365949119372,0.01761252446183953,0.0273972602739726,0.03131115459882583,0.029354207436399216,0.023483365949119372,0.023483365949119372,0.029354207436399216,0.0136986301369863,0.0273972602739726,0.01761252446183953,0.0,0.021526418786692758,0.0136986301369863,0.009784735812133072,0.033268101761252444,0.019569471624266144,0.023483365949119372,0.021526418786692758,0.011741682974559686,0.003913894324853229,0.011741682974559686,0.0136986301369863,0.029354207436399216,0.0,0.046966731898238745,0.021526418786692758,0.033268101761252444,0.007827788649706457,0.025440313111545987,0.025440313111545987,0.015655577299412915,0.029354207436399216,0.019569471624266144,0.0136986301369863,0.015655577299412915,0.023483365949119372,0.0410958904109589,0.025440313111545987,0.0273972602739726,0.025440313111545987,0.0410958904109589,0.021526418786692758,0.007827788649706457,0.01761252446183953,0.023483365949119372,0.0136986301369863,0.03522504892367906,0.007827788649706457,0.0273972602739726,0.019569471624266144,0.0136986301369863,0.0136986301369863,0.021526418786692758,0.03718199608610567,0.023483365949119372,0.003913894324853229,0.007827788649706457,0.025440313111545987,0.0136986301369863,0.03131115459882583,0.01761252446183953,0.0136986301369863,0.005870841487279843,0.01761252446183953,0.04500978473581213,0.0273972602739726,0.023483365949119372,0.011741682974559686,0.033268101761252444,0.009784735812133072,0.04500978473581213,0.0136986301369863,0.023483365949119372,0.025440313111545987,0.009784735812133072,0.029354207436399216,0.03131115459882583,0.011741682974559686,0.011741682974559686,0.025440313111545987,0.0273972602739726,0.03131115459882583,0.003913894324853229,0.03131115459882583,0.01761252446183953,0.003913894324853229,0.0410958904109589,0.03131115459882583,0.011741682974559686,0.015655577299412915,0.023483365949119372,0.025440313111545987,0.01761252446183953,0.005870841487279843,0.01761252446183953,0.0273972602739726,0.023483365949119372,0.033268101761252444,0.01761252446183953,0.021526418786692758,0.021526418786692758,0.0273972602739726,0.005870841487279843,0.019569471624266144,0.019569471624266144,0.03522504892367906,0.029354207436399216,0.0273972602739726,0.021526418786692758,0.019569471624266144,0.015655577299412915,0.03718199608610567,0.01761252446183953,0.03718199608610567,0.0136986301369863,0.043052837573385516,0.021526418786692758,0.025440313111545987,0.03131115459882583,0.03131115459882583,0.01761252446183953,0.0273972602739726,0.005870841487279843,0.01761252446183953,0.0273972602739726,0.033268101761252444,0.0273972602739726,0.021526418786692758,0.005870841487279843,0.019569471624266144,0.019569471624266144,0.046966731898238745,0.019569471624266144,0.0136986301369863,0.029354207436399216,0.03718199608610567,0.021526418786692758,0.04892367906066536,0.033268101761252444,0.009784735812133072,0.029354207436399216,0.0273972602739726,0.023483365949119372,0.021526418786692758,0.03522504892367906,0.015655577299412915,0.003913894324853229,0.03131115459882583,0.04500978473581213,0.0273972602739726,0.011741682974559686,0.03131115459882583,0.021526418786692758,0.019569471624266144,0.019569471624266144,0.025440313111545987,0.0273972602739726,0.0,0.03913894324853229,0.019569471624266144,0.0136986301369863,0.019569471624266144,0.0273972602739726,0.03131115459882583,0.043052837573385516,0.03522504892367906,0.021526418786692758,0.0136986301369863,0.0273972602739726,0.0273972602739726,0.0136986301369863,0.019569471624266144,0.011741682974559686,0.0,0.009784735812133072,0.023483365949119372,0.005870841487279843,0.023483365949119372,0.01761252446183953,0.0,0.023483365949119372,0.03131115459882583,0.005870841487279843,0.021526418786692758,0.019569471624266144,0.03131115459882583,0.029354207436399216,0.011741682974559686,0.0136986301369863,0.0136986301369863,0.025440313111545987,0.043052837573385516,0.043052837573385516,0.029354207436399216,0.003913894324853229,0.025440313111545987,0.021526418786692758,0.025440313111545987,0.005870841487279843,0.005870841487279843,0.007827788649706457,0.019569471624266144,0.003913894324853229,0.015655577299412915,0.029354207436399216,0.005870841487279843,0.01761252446183953,0.005870841487279843,0.0136986301369863,0.015655577299412915,0.003913894324853229,0.007827788649706457,0.0136986301369863,0.021526418786692758,0.007827788649706457,0.019569471624266144,0.015655577299412915,0.011741682974559686,0.011741682974559686,0.015655577299412915,0.005870841487279843,0.007827788649706457,0.003913894324853229,0.015655577299412915,0.011741682974559686,0.003913894324853229,0.009784735812133072,0.021526418786692758,0.005870841487279843,0.01761252446183953,0.021526418786692758,0.023483365949119372,0.011741682974559686,0.01761252446183953,0.023483365949119372,0.003913894324853229,0.005870841487279843,0.011741682974559686,0.007827788649706457,0.019569471624266144,0.011741682974559686,0.009784735812133072,0.01761252446183953,0.0136986301369863,0.011741682974559686,0.021526418786692758,0.015655577299412915,0.009784735812133072,0.019569471624266144,0.021526418786692758,0.0019569471624266144,0.01761252446183953,0.01761252446183953,0.019569471624266144,0.021526418786692758,0.009784735812133072,0.005870841487279843,0.01761252446183953,0.009784735812133072,0.01761252446183953,0.015655577299412915,0.009784735812133072,0.019569471624266144,0.007827788649706457,0.003913894324853229,0.03131115459882583,0.005870841487279843,0.005870841487279843,0.015655577299412915,0.007827788649706457,0.011741682974559686,0.015655577299412915,0.007827788649706457,0.007827788649706457,0.005870841487279843,0.021526418786692758,0.0136986301369863,0.007827788649706457,0.025440313111545987,0.007827788649706457,0.007827788649706457,0.0136986301369863,0.003913894324853229,0.011741682974559686,0.01761252446183953,0.021526418786692758,0.019569471624266144,0.0136986301369863,0.01761252446183953,0.029354207436399216,0.019569471624266144,0.015655577299412915,0.007827788649706457,0.011741682974559686,0.0136986301369863,0.005870841487279843,0.007827788649706457,0.029354207436399216,0.011741682974559686,0.01761252446183953,0.005870841487279843,0.009784735812133072,0.007827788649706457,0.015655577299412915,0.011741682974559686,0.025440313111545987,0.0136986301369863,0.005870841487279843,0.011741682974559686,0.01761252446183953,0.0019569471624266144,0.011741682974559686,0.011741682974559686,0.009784735812133072,0.01761252446183953,0.011741682974559686,0.007827788649706457,0.019569471624266144,0.011741682974559686,0.009784735812133072,0.015655577299412915,0.005870841487279843,0.005870841487279843,0.023483365949119372,0.015655577299412915,0.015655577299412915,0.0273972602739726,0.019569471624266144,0.025440313111545987,0.005870841487279843,0.009784735812133072,0.009784735812133072,0.009784735812133072,0.019569471624266144,0.009784735812133072,0.009784735812133072,0.005870841487279843,0.009784735812133072,0.007827788649706457,0.021526418786692758,0.005870841487279843,0.01761252446183953,0.005870841487279843,0.0019569471624266144,0.009784735812133072,0.019569471624266144,0.019569471624266144,0.011741682974559686,0.007827788649706457,0.009784735812133072,0.003913894324853229,0.009784735812133072,0.0273972602739726,0.01761252446183953,0.0273972602739726,0.0136986301369863,0.015655577299412915,0.007827788649706457,0.005870841487279843,0.0273972602739726,0.015655577299412915,0.015655577299412915,0.025440313111545987,0.0136986301369863,0.009784735812133072,0.011741682974559686,0.009784735812133072,0.015655577299412915,0.005870841487279843,0.019569471624266144,0.01761252446183953,0.021526418786692758,0.009784735812133072,0.009784735812133072,0.009784735812133072,0.01761252446183953,0.011741682974559686,0.005870841487279843,0.005870841487279843,0.005870841487279843,0.009784735812133072,0.0136986301369863,0.011741682974559686,0.009784735812133072,0.015655577299412915,0.01761252446183953,0.025440313111545987,0.005870841487279843,0.029354207436399216,0.019569471624266144,0.009784735812133072,0.011741682974559686,0.005870841487279843,0.005870841487279843],\"y0\":\" \",\"yaxis\":\"y\",\"type\":\"box\"}],                        {\"template\":{\"data\":{\"histogram2dcontour\":[{\"type\":\"histogram2dcontour\",\"colorbar\":{\"outlinewidth\":0,\"ticks\":\"\"},\"colorscale\":[[0.0,\"#0d0887\"],[0.1111111111111111,\"#46039f\"],[0.2222222222222222,\"#7201a8\"],[0.3333333333333333,\"#9c179e\"],[0.4444444444444444,\"#bd3786\"],[0.5555555555555556,\"#d8576b\"],[0.6666666666666666,\"#ed7953\"],[0.7777777777777778,\"#fb9f3a\"],[0.8888888888888888,\"#fdca26\"],[1.0,\"#f0f921\"]]}],\"choropleth\":[{\"type\":\"choropleth\",\"colorbar\":{\"outlinewidth\":0,\"ticks\":\"\"}}],\"histogram2d\":[{\"type\":\"histogram2d\",\"colorbar\":{\"outlinewidth\":0,\"ticks\":\"\"},\"colorscale\":[[0.0,\"#0d0887\"],[0.1111111111111111,\"#46039f\"],[0.2222222222222222,\"#7201a8\"],[0.3333333333333333,\"#9c179e\"],[0.4444444444444444,\"#bd3786\"],[0.5555555555555556,\"#d8576b\"],[0.6666666666666666,\"#ed7953\"],[0.7777777777777778,\"#fb9f3a\"],[0.8888888888888888,\"#fdca26\"],[1.0,\"#f0f921\"]]}],\"heatmap\":[{\"type\":\"heatmap\",\"colorbar\":{\"outlinewidth\":0,\"ticks\":\"\"},\"colorscale\":[[0.0,\"#0d0887\"],[0.1111111111111111,\"#46039f\"],[0.2222222222222222,\"#7201a8\"],[0.3333333333333333,\"#9c179e\"],[0.4444444444444444,\"#bd3786\"],[0.5555555555555556,\"#d8576b\"],[0.6666666666666666,\"#ed7953\"],[0.7777777777777778,\"#fb9f3a\"],[0.8888888888888888,\"#fdca26\"],[1.0,\"#f0f921\"]]}],\"heatmapgl\":[{\"type\":\"heatmapgl\",\"colorbar\":{\"outlinewidth\":0,\"ticks\":\"\"},\"colorscale\":[[0.0,\"#0d0887\"],[0.1111111111111111,\"#46039f\"],[0.2222222222222222,\"#7201a8\"],[0.3333333333333333,\"#9c179e\"],[0.4444444444444444,\"#bd3786\"],[0.5555555555555556,\"#d8576b\"],[0.6666666666666666,\"#ed7953\"],[0.7777777777777778,\"#fb9f3a\"],[0.8888888888888888,\"#fdca26\"],[1.0,\"#f0f921\"]]}],\"contourcarpet\":[{\"type\":\"contourcarpet\",\"colorbar\":{\"outlinewidth\":0,\"ticks\":\"\"}}],\"contour\":[{\"type\":\"contour\",\"colorbar\":{\"outlinewidth\":0,\"ticks\":\"\"},\"colorscale\":[[0.0,\"#0d0887\"],[0.1111111111111111,\"#46039f\"],[0.2222222222222222,\"#7201a8\"],[0.3333333333333333,\"#9c179e\"],[0.4444444444444444,\"#bd3786\"],[0.5555555555555556,\"#d8576b\"],[0.6666666666666666,\"#ed7953\"],[0.7777777777777778,\"#fb9f3a\"],[0.8888888888888888,\"#fdca26\"],[1.0,\"#f0f921\"]]}],\"surface\":[{\"type\":\"surface\",\"colorbar\":{\"outlinewidth\":0,\"ticks\":\"\"},\"colorscale\":[[0.0,\"#0d0887\"],[0.1111111111111111,\"#46039f\"],[0.2222222222222222,\"#7201a8\"],[0.3333333333333333,\"#9c179e\"],[0.4444444444444444,\"#bd3786\"],[0.5555555555555556,\"#d8576b\"],[0.6666666666666666,\"#ed7953\"],[0.7777777777777778,\"#fb9f3a\"],[0.8888888888888888,\"#fdca26\"],[1.0,\"#f0f921\"]]}],\"mesh3d\":[{\"type\":\"mesh3d\",\"colorbar\":{\"outlinewidth\":0,\"ticks\":\"\"}}],\"scatter\":[{\"fillpattern\":{\"fillmode\":\"overlay\",\"size\":10,\"solidity\":0.2},\"type\":\"scatter\"}],\"parcoords\":[{\"type\":\"parcoords\",\"line\":{\"colorbar\":{\"outlinewidth\":0,\"ticks\":\"\"}}}],\"scatterpolargl\":[{\"type\":\"scatterpolargl\",\"marker\":{\"colorbar\":{\"outlinewidth\":0,\"ticks\":\"\"}}}],\"bar\":[{\"error_x\":{\"color\":\"#2a3f5f\"},\"error_y\":{\"color\":\"#2a3f5f\"},\"marker\":{\"line\":{\"color\":\"#E5ECF6\",\"width\":0.5},\"pattern\":{\"fillmode\":\"overlay\",\"size\":10,\"solidity\":0.2}},\"type\":\"bar\"}],\"scattergeo\":[{\"type\":\"scattergeo\",\"marker\":{\"colorbar\":{\"outlinewidth\":0,\"ticks\":\"\"}}}],\"scatterpolar\":[{\"type\":\"scatterpolar\",\"marker\":{\"colorbar\":{\"outlinewidth\":0,\"ticks\":\"\"}}}],\"histogram\":[{\"marker\":{\"pattern\":{\"fillmode\":\"overlay\",\"size\":10,\"solidity\":0.2}},\"type\":\"histogram\"}],\"scattergl\":[{\"type\":\"scattergl\",\"marker\":{\"colorbar\":{\"outlinewidth\":0,\"ticks\":\"\"}}}],\"scatter3d\":[{\"type\":\"scatter3d\",\"line\":{\"colorbar\":{\"outlinewidth\":0,\"ticks\":\"\"}},\"marker\":{\"colorbar\":{\"outlinewidth\":0,\"ticks\":\"\"}}}],\"scattermapbox\":[{\"type\":\"scattermapbox\",\"marker\":{\"colorbar\":{\"outlinewidth\":0,\"ticks\":\"\"}}}],\"scatterternary\":[{\"type\":\"scatterternary\",\"marker\":{\"colorbar\":{\"outlinewidth\":0,\"ticks\":\"\"}}}],\"scattercarpet\":[{\"type\":\"scattercarpet\",\"marker\":{\"colorbar\":{\"outlinewidth\":0,\"ticks\":\"\"}}}],\"carpet\":[{\"aaxis\":{\"endlinecolor\":\"#2a3f5f\",\"gridcolor\":\"white\",\"linecolor\":\"white\",\"minorgridcolor\":\"white\",\"startlinecolor\":\"#2a3f5f\"},\"baxis\":{\"endlinecolor\":\"#2a3f5f\",\"gridcolor\":\"white\",\"linecolor\":\"white\",\"minorgridcolor\":\"white\",\"startlinecolor\":\"#2a3f5f\"},\"type\":\"carpet\"}],\"table\":[{\"cells\":{\"fill\":{\"color\":\"#EBF0F8\"},\"line\":{\"color\":\"white\"}},\"header\":{\"fill\":{\"color\":\"#C8D4E3\"},\"line\":{\"color\":\"white\"}},\"type\":\"table\"}],\"barpolar\":[{\"marker\":{\"line\":{\"color\":\"#E5ECF6\",\"width\":0.5},\"pattern\":{\"fillmode\":\"overlay\",\"size\":10,\"solidity\":0.2}},\"type\":\"barpolar\"}],\"pie\":[{\"automargin\":true,\"type\":\"pie\"}]},\"layout\":{\"autotypenumbers\":\"strict\",\"colorway\":[\"#636efa\",\"#EF553B\",\"#00cc96\",\"#ab63fa\",\"#FFA15A\",\"#19d3f3\",\"#FF6692\",\"#B6E880\",\"#FF97FF\",\"#FECB52\"],\"font\":{\"color\":\"#2a3f5f\"},\"hovermode\":\"closest\",\"hoverlabel\":{\"align\":\"left\"},\"paper_bgcolor\":\"white\",\"plot_bgcolor\":\"#E5ECF6\",\"polar\":{\"bgcolor\":\"#E5ECF6\",\"angularaxis\":{\"gridcolor\":\"white\",\"linecolor\":\"white\",\"ticks\":\"\"},\"radialaxis\":{\"gridcolor\":\"white\",\"linecolor\":\"white\",\"ticks\":\"\"}},\"ternary\":{\"bgcolor\":\"#E5ECF6\",\"aaxis\":{\"gridcolor\":\"white\",\"linecolor\":\"white\",\"ticks\":\"\"},\"baxis\":{\"gridcolor\":\"white\",\"linecolor\":\"white\",\"ticks\":\"\"},\"caxis\":{\"gridcolor\":\"white\",\"linecolor\":\"white\",\"ticks\":\"\"}},\"coloraxis\":{\"colorbar\":{\"outlinewidth\":0,\"ticks\":\"\"}},\"colorscale\":{\"sequential\":[[0.0,\"#0d0887\"],[0.1111111111111111,\"#46039f\"],[0.2222222222222222,\"#7201a8\"],[0.3333333333333333,\"#9c179e\"],[0.4444444444444444,\"#bd3786\"],[0.5555555555555556,\"#d8576b\"],[0.6666666666666666,\"#ed7953\"],[0.7777777777777778,\"#fb9f3a\"],[0.8888888888888888,\"#fdca26\"],[1.0,\"#f0f921\"]],\"sequentialminus\":[[0.0,\"#0d0887\"],[0.1111111111111111,\"#46039f\"],[0.2222222222222222,\"#7201a8\"],[0.3333333333333333,\"#9c179e\"],[0.4444444444444444,\"#bd3786\"],[0.5555555555555556,\"#d8576b\"],[0.6666666666666666,\"#ed7953\"],[0.7777777777777778,\"#fb9f3a\"],[0.8888888888888888,\"#fdca26\"],[1.0,\"#f0f921\"]],\"diverging\":[[0,\"#8e0152\"],[0.1,\"#c51b7d\"],[0.2,\"#de77ae\"],[0.3,\"#f1b6da\"],[0.4,\"#fde0ef\"],[0.5,\"#f7f7f7\"],[0.6,\"#e6f5d0\"],[0.7,\"#b8e186\"],[0.8,\"#7fbc41\"],[0.9,\"#4d9221\"],[1,\"#276419\"]]},\"xaxis\":{\"gridcolor\":\"white\",\"linecolor\":\"white\",\"ticks\":\"\",\"title\":{\"standoff\":15},\"zerolinecolor\":\"white\",\"automargin\":true,\"zerolinewidth\":2},\"yaxis\":{\"gridcolor\":\"white\",\"linecolor\":\"white\",\"ticks\":\"\",\"title\":{\"standoff\":15},\"zerolinecolor\":\"white\",\"automargin\":true,\"zerolinewidth\":2},\"scene\":{\"xaxis\":{\"backgroundcolor\":\"#E5ECF6\",\"gridcolor\":\"white\",\"linecolor\":\"white\",\"showbackground\":true,\"ticks\":\"\",\"zerolinecolor\":\"white\",\"gridwidth\":2},\"yaxis\":{\"backgroundcolor\":\"#E5ECF6\",\"gridcolor\":\"white\",\"linecolor\":\"white\",\"showbackground\":true,\"ticks\":\"\",\"zerolinecolor\":\"white\",\"gridwidth\":2},\"zaxis\":{\"backgroundcolor\":\"#E5ECF6\",\"gridcolor\":\"white\",\"linecolor\":\"white\",\"showbackground\":true,\"ticks\":\"\",\"zerolinecolor\":\"white\",\"gridwidth\":2}},\"shapedefaults\":{\"line\":{\"color\":\"#2a3f5f\"}},\"annotationdefaults\":{\"arrowcolor\":\"#2a3f5f\",\"arrowhead\":0,\"arrowwidth\":1},\"geo\":{\"bgcolor\":\"white\",\"landcolor\":\"#E5ECF6\",\"subunitcolor\":\"white\",\"showland\":true,\"showlakes\":true,\"lakecolor\":\"white\"},\"title\":{\"x\":0.05},\"mapbox\":{\"style\":\"light\"}}},\"xaxis\":{\"anchor\":\"y\",\"domain\":[0.0,1.0],\"title\":{\"text\":\"seeding method\"}},\"yaxis\":{\"anchor\":\"x\",\"domain\":[0.0,1.0],\"title\":{\"text\":\"2-seed transitivity\"}},\"legend\":{\"tracegroupgap\":0},\"margin\":{\"t\":60},\"boxmode\":\"group\"},                        {\"responsive\": true}                    ).then(function(){\n",
       "                            \n",
       "var gd = document.getElementById('e0d86a33-f82d-402f-bca6-a33fb2694693');\n",
       "var x = new MutationObserver(function (mutations, observer) {{\n",
       "        var display = window.getComputedStyle(gd).display;\n",
       "        if (!display || display === 'none') {{\n",
       "            console.log([gd, 'removed!']);\n",
       "            Plotly.purge(gd);\n",
       "            observer.disconnect();\n",
       "        }}\n",
       "}});\n",
       "\n",
       "// Listen for the removal of the full notebook cells\n",
       "var notebookContainer = gd.closest('#notebook-container');\n",
       "if (notebookContainer) {{\n",
       "    x.observe(notebookContainer, {childList: true});\n",
       "}}\n",
       "\n",
       "// Listen for the clearing of the current output cell\n",
       "var outputEl = gd.closest('.output');\n",
       "if (outputEl) {{\n",
       "    x.observe(outputEl, {childList: true});\n",
       "}}\n",
       "\n",
       "                        })                };                });            </script>        </div>"
      ]
     },
     "metadata": {},
     "output_type": "display_data"
    }
   ],
   "source": [
    "import plotly.express as px\n",
    "fig = px.box(big_dat, x=\"seeding method\", y=\"2-seed transitivity\")\n",
    "fig.show()"
   ]
  },
  {
   "cell_type": "markdown",
   "id": "ed7ea906",
   "metadata": {},
   "source": [
    "It is expected that the friend method will give higher `2-seed transitivity` than pair method. \n",
    "By the frienship paradox, both seeds in the friend method will have higher degree than the original egos.\n",
    "\n",
    "\n",
    "But in the pair method, the ego in the pair (on average) has lower degree than the alter. And intuitively, we know that nodes with higher degrees are more likely to be involved in triangles (in small world networks for example, triangles mostly form around the hubs). So the friend method would likely have seeds involved in more triangles. "
   ]
  },
  {
   "cell_type": "markdown",
   "id": "aa30be6e",
   "metadata": {},
   "source": [
    "## on the empirical networks\n",
    "\n",
    "on village 1, the faster algorithm shoudl take 40 seconds. The old algorithm took 1 min 30. "
   ]
  },
  {
   "cell_type": "code",
   "execution_count": 2,
   "id": "a0ad0c17",
   "metadata": {},
   "outputs": [
    {
     "name": "stdout",
     "output_type": "stream",
     "text": [
      "['1', '2', '3', '4', '6', '9', '12', '15', '19', '20', '21', '23', '24', '25', '29', '31', '32', '33', '36', '39', '42', '43', '45', '46', '47', '48', '50', '51', '52', '55', '57', '59', '60', '62', '64', '65', '67', '68', '70', '71', '72', '73', '75']\n"
     ]
    }
   ],
   "source": [
    "#Banerjee vilages\n",
    "cross_sec = pd.read_stata(\"banerjee12_data/datav4.0/Stata Replication/data/cross_sectional.dta\")\n",
    "villages = [str(int(vil)) for vil in cross_sec['village']]\n",
    "print(villages)"
   ]
  },
  {
   "cell_type": "code",
   "execution_count": 3,
   "id": "d85df308",
   "metadata": {},
   "outputs": [
    {
     "name": "stdout",
     "output_type": "stream",
     "text": [
      "1\n",
      "CPU times: user 3.98 s, sys: 26.8 ms, total: 4.01 s\n",
      "Wall time: 4.06 s\n"
     ]
    }
   ],
   "source": [
    "%%time\n",
    "\n",
    "#take smaller subset. on village 1 this shoudl take around 40 sec\n",
    "villages = [1]\n",
    "nsamp = 50\n",
    "big_dat = pd.DataFrame({\"seeding method\": ['random']*nsamp + ['friend']*nsamp + ['pair']*nsamp})\n",
    "\n",
    "for vil in villages:\n",
    "    \n",
    "    path = 'banerjee12_data/datav4.0/Data/1. Network Data/Adjacency Matrices/adj_allVillageRelationships_HH_vilno_{}.csv'.format(vil)\n",
    "    adj_mat = pd.read_csv(path,header = None)\n",
    "    current_g = nx.from_pandas_adjacency(adj_mat)\n",
    "    print(vil)\n",
    "    \n",
    "    #append results as columns\n",
    "    ( rtran, ftran, ptran) = sim_2seed_transitivity(current_g, p = 0.2, nsamp = nsamp)\n",
    "    big_dat[\"2tran\" + \" vil{}_{}\".format(vil,nx.number_of_nodes(current_g))] = rtran + ftran + ptran\n",
    "    \n",
    "    #big_dat['tran'+ \" vil {}\".format(vil)] = nx.transitivity(current_g)"
   ]
  },
  {
   "cell_type": "code",
   "execution_count": 4,
   "id": "a79857c5",
   "metadata": {
    "scrolled": true
   },
   "outputs": [
    {
     "data": {
      "text/html": [
       "<div>\n",
       "<style scoped>\n",
       "    .dataframe tbody tr th:only-of-type {\n",
       "        vertical-align: middle;\n",
       "    }\n",
       "\n",
       "    .dataframe tbody tr th {\n",
       "        vertical-align: top;\n",
       "    }\n",
       "\n",
       "    .dataframe thead th {\n",
       "        text-align: right;\n",
       "    }\n",
       "</style>\n",
       "<table border=\"1\" class=\"dataframe\">\n",
       "  <thead>\n",
       "    <tr style=\"text-align: right;\">\n",
       "      <th></th>\n",
       "      <th>seeding method</th>\n",
       "      <th>2tran vil1_182</th>\n",
       "    </tr>\n",
       "  </thead>\n",
       "  <tbody>\n",
       "    <tr>\n",
       "      <th>0</th>\n",
       "      <td>random</td>\n",
       "      <td>0.005981</td>\n",
       "    </tr>\n",
       "    <tr>\n",
       "      <th>1</th>\n",
       "      <td>random</td>\n",
       "      <td>0.003283</td>\n",
       "    </tr>\n",
       "    <tr>\n",
       "      <th>2</th>\n",
       "      <td>random</td>\n",
       "      <td>0.002480</td>\n",
       "    </tr>\n",
       "    <tr>\n",
       "      <th>3</th>\n",
       "      <td>random</td>\n",
       "      <td>0.007149</td>\n",
       "    </tr>\n",
       "    <tr>\n",
       "      <th>4</th>\n",
       "      <td>random</td>\n",
       "      <td>0.007294</td>\n",
       "    </tr>\n",
       "    <tr>\n",
       "      <th>...</th>\n",
       "      <td>...</td>\n",
       "      <td>...</td>\n",
       "    </tr>\n",
       "    <tr>\n",
       "      <th>145</th>\n",
       "      <td>pair</td>\n",
       "      <td>0.008826</td>\n",
       "    </tr>\n",
       "    <tr>\n",
       "      <th>146</th>\n",
       "      <td>pair</td>\n",
       "      <td>0.013641</td>\n",
       "    </tr>\n",
       "    <tr>\n",
       "      <th>147</th>\n",
       "      <td>pair</td>\n",
       "      <td>0.010139</td>\n",
       "    </tr>\n",
       "    <tr>\n",
       "      <th>148</th>\n",
       "      <td>pair</td>\n",
       "      <td>0.011598</td>\n",
       "    </tr>\n",
       "    <tr>\n",
       "      <th>149</th>\n",
       "      <td>pair</td>\n",
       "      <td>0.010650</td>\n",
       "    </tr>\n",
       "  </tbody>\n",
       "</table>\n",
       "<p>150 rows × 2 columns</p>\n",
       "</div>"
      ],
      "text/plain": [
       "    seeding method  2tran vil1_182\n",
       "0           random        0.005981\n",
       "1           random        0.003283\n",
       "2           random        0.002480\n",
       "3           random        0.007149\n",
       "4           random        0.007294\n",
       "..             ...             ...\n",
       "145           pair        0.008826\n",
       "146           pair        0.013641\n",
       "147           pair        0.010139\n",
       "148           pair        0.011598\n",
       "149           pair        0.010650\n",
       "\n",
       "[150 rows x 2 columns]"
      ]
     },
     "execution_count": 4,
     "metadata": {},
     "output_type": "execute_result"
    }
   ],
   "source": [
    "big_dat"
   ]
  },
  {
   "cell_type": "code",
   "execution_count": 9,
   "id": "ff385499",
   "metadata": {},
   "outputs": [],
   "source": [
    "big_dat.to_csv(\"big_dat_v.csv\", index = False)"
   ]
  },
  {
   "cell_type": "markdown",
   "id": "3ca59dd0",
   "metadata": {},
   "source": [
    "for plots, see `transitivity_plot.Rmd`"
   ]
  }
 ],
 "metadata": {
  "kernelspec": {
   "display_name": "Python 3 (ipykernel)",
   "language": "python",
   "name": "python3"
  },
  "language_info": {
   "codemirror_mode": {
    "name": "ipython",
    "version": 3
   },
   "file_extension": ".py",
   "mimetype": "text/x-python",
   "name": "python",
   "nbconvert_exporter": "python",
   "pygments_lexer": "ipython3",
   "version": "3.8.8"
  }
 },
 "nbformat": 4,
 "nbformat_minor": 5
}
