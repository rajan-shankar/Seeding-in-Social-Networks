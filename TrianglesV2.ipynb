{
 "cells": [
  {
   "cell_type": "code",
   "execution_count": 2,
   "id": "def2e8cf",
   "metadata": {},
   "outputs": [],
   "source": [
    "import networkx as nx\n",
    "import numpy as np\n",
    "import pandas as pd\n",
    "import random\n",
    "\n",
    "#functions \n",
    "from functions import *"
   ]
  },
  {
   "cell_type": "code",
   "execution_count": 2,
   "id": "4116b1b0",
   "metadata": {},
   "outputs": [],
   "source": [
    "# def num_paths2(g, i, j):\n",
    "#     #i,j = name of nodes\n",
    "#     #number of paths length 2 between node i and node j in graph g\n",
    "#     #Note: this function covers cases when g.nodes() is not in ascedign order\n",
    "    \n",
    "#     A = nx.adjacency_matrix(g)#ordering of rows/columns is by G.nodes(), not necessarily ascending\n",
    "#     A = A.todense()\n",
    "    \n",
    "#     A_sq = np.matmul(A,A) #(A^2)_{ij} = how many paths length 2 betwenn node i and j\n",
    "    \n",
    "#     #what's the index of node i and node j in g.nodes?\n",
    "#     ns = list(g.nodes())\n",
    "#     ind_i = ns.index(i)\n",
    "#     ind_j = ns.index(j)\n",
    "    \n",
    "#     return A_sq[ind_i, ind_j]"
   ]
  },
  {
   "cell_type": "code",
   "execution_count": 12,
   "id": "a4f22e0b",
   "metadata": {},
   "outputs": [],
   "source": [
    "# import itertools\n",
    "\n",
    "# def num_2seed_triangles(g, seeds):\n",
    "#     #how many triangles of (target a) - (target b)\n",
    "#     #                          \\          /\n",
    "#     #                          (untargeted)\n",
    "#     count = 0\n",
    "#     for comb in itertools.combinations(seeds, 2): #for each size-2 combination of seeds (targets)\n",
    "#         #print(comb)\n",
    "\n",
    "#         #how to identify such a triangle:\n",
    "\n",
    "#         #the seeds are connected\n",
    "#         if g.has_edge(comb[0],comb[1]):\n",
    "#             #AND There is a path length 2 through an UNTARGETED node.\n",
    "\n",
    "#             #we have to exclude paths through another TARGET node. \n",
    "#             # To do this: get subgraph which removes all other target nodes except comb[0] and comb[1]\n",
    "#             other_seeds = [seed for seed in seeds if seed not in [comb[0],comb[1]]] \n",
    "#             sub_nodes = [node for node in g.nodes() if node not in other_seeds] #remove the other seeds\n",
    "#             #print(other_seeds)\n",
    "#             gsub = g.subgraph(sub_nodes)\n",
    "#             count += num_paths2(gsub,comb[0],comb[1])\n",
    "    \n",
    "#     return count\n",
    "\n",
    "# #note: to get the number of connected triplets where \n",
    "# #                      (target a)  (target b)\n",
    "# #                          \\          /\n",
    "# #                          (untargeted)\n",
    "# #just need to remove the check that the seeds are connected"
   ]
  },
  {
   "cell_type": "markdown",
   "id": "7588069b",
   "metadata": {},
   "source": [
    "## faster versions"
   ]
  },
  {
   "cell_type": "code",
   "execution_count": 66,
   "id": "6249545e",
   "metadata": {},
   "outputs": [],
   "source": [
    "# def num_paths3(g, i, j):\n",
    "#     #i,j = name of nodes\n",
    "#     #number of paths length 3 between node i and node j in graph g\n",
    "#     #Note: this function covers cases when g.nodes() is not in ascedign order\n",
    "    \n",
    "#     A = nx.adjacency_matrix(g)#ordering of rows/columns is by G.nodes(), not necessarily ascending\n",
    "#     A = A.todense()\n",
    "    \n",
    "#     A_sq = np.matmul(A,A)\n",
    "#     A_cubed = np.matmul(A_sq,A)\n",
    "    \n",
    "#     #what's the index of node i and node j in g.nodes?\n",
    "#     ns = list(g.nodes())\n",
    "#     ind_i = ns.index(i)\n",
    "#     ind_j = ns.index(j)\n",
    "    \n",
    "#     return A_cubed[ind_i, ind_j]\n",
    "\n",
    "# def num_2seed_trianglesV2(g, seeds):\n",
    "#     #how many triangles of (target a) - (target b)\n",
    "#     #                          \\          /\n",
    "#     #                          (untargeted)\n",
    "#     count = 0\n",
    "#     nonseeds = [n for n in g.nodes if n not in seeds]\n",
    "    \n",
    "#     for ns in nonseeds:\n",
    "#         gsub = g.subgraph(seeds + [ns])\n",
    "#         count += int(num_paths3(gsub,ns,ns)/2)\n",
    "        \n",
    "#         #each path3 is counted twice: as {i,j,k,i} and {i,k,j,i}\n",
    "   \n",
    "#     return count\n",
    "\n",
    "# def two_seed_tranV2(g, seeds):\n",
    "#     return(num_2seed_trianglesV2(g, seeds) / num_con_triples(g))"
   ]
  },
  {
   "cell_type": "markdown",
   "id": "2b2f553b",
   "metadata": {},
   "source": [
    "## some checks on simple graphs"
   ]
  },
  {
   "cell_type": "code",
   "execution_count": 70,
   "id": "b434ceb5",
   "metadata": {
    "scrolled": true
   },
   "outputs": [
    {
     "data": {
      "image/png": "[encoded data removed]",
      "text/plain": [
       "<Figure size 432x288 with 1 Axes>"
      ]
     },
     "metadata": {},
     "output_type": "display_data"
    }
   ],
   "source": [
    "gg = nx.Graph()\n",
    "gg.add_nodes_from([1,2,3])\n",
    "gg.add_edge(1, 2)\n",
    "gg.add_edge(1, 3)\n",
    "gg.add_edge(2, 3)\n",
    "nx.draw_networkx(gg)"
   ]
  },
  {
   "cell_type": "code",
   "execution_count": 75,
   "id": "da0fe2d8",
   "metadata": {},
   "outputs": [
    {
     "name": "stdout",
     "output_type": "stream",
     "text": [
      "1\n"
     ]
    },
    {
     "data": {
      "text/plain": [
       "1"
      ]
     },
     "execution_count": 75,
     "metadata": {},
     "output_type": "execute_result"
    }
   ],
   "source": [
    "seeds = [1,3]\n",
    "print(num_2seed_triangles(gg,seeds))\n",
    "num_2seed_trianglesV2(gg, seeds)"
   ]
  },
  {
   "cell_type": "code",
   "execution_count": 76,
   "id": "034689dc",
   "metadata": {},
   "outputs": [
    {
     "data": {
      "image/png": "[encoded data removed]",
      "text/plain": [
       "<Figure size 432x288 with 1 Axes>"
      ]
     },
     "metadata": {},
     "output_type": "display_data"
    }
   ],
   "source": [
    "gg = nx.Graph()\n",
    "gg.add_nodes_from([1,2,3,4])\n",
    "gg.add_edges_from([(1, 2), (1, 3), (2, 3), (1,4), (3,4)])\n",
    "\n",
    "nx.draw_networkx(gg)"
   ]
  },
  {
   "cell_type": "code",
   "execution_count": 77,
   "id": "c5d166ce",
   "metadata": {},
   "outputs": [
    {
     "name": "stdout",
     "output_type": "stream",
     "text": [
      "2\n",
      "2\n",
      "1\n",
      "1\n"
     ]
    }
   ],
   "source": [
    "\n",
    "\n",
    "seeds = [1,3]\n",
    "print(num_2seed_triangles(gg,seeds))\n",
    "print(num_2seed_trianglesV2(gg, seeds))\n",
    "\n",
    "seeds = [1,4]\n",
    "print(num_2seed_triangles(gg,seeds))\n",
    "print(num_2seed_trianglesV2(gg, seeds))"
   ]
  },
  {
   "cell_type": "code",
   "execution_count": 93,
   "id": "b8f26d49",
   "metadata": {},
   "outputs": [
    {
     "data": {
      "image/png": "[encoded data removed]",
      "text/plain": [
       "<Figure size 432x288 with 1 Axes>"
      ]
     },
     "metadata": {},
     "output_type": "display_data"
    }
   ],
   "source": [
    "gg = nx.Graph()\n",
    "gg.add_nodes_from([1,2,3,4,5])\n",
    "gg.add_edges_from([(1, 2), (1, 3), (2, 3), (1,4), (3,4), (4,2), (5,1), (5,2), (5,3)])\n",
    "\n",
    "nx.draw_networkx(gg)"
   ]
  },
  {
   "cell_type": "code",
   "execution_count": 94,
   "id": "55b4be0f",
   "metadata": {},
   "outputs": [
    {
     "name": "stdout",
     "output_type": "stream",
     "text": [
      "0\n",
      "0\n",
      "2\n",
      "2\n",
      "4\n",
      "4\n"
     ]
    }
   ],
   "source": [
    "\n",
    "\n",
    "seeds = [4,5]\n",
    "print(num_2seed_triangles(gg,seeds))\n",
    "print(num_2seed_trianglesV2(gg,seeds))\n",
    "\n",
    "seeds = [5,1]\n",
    "print(num_2seed_triangles(gg,seeds))\n",
    "print(num_2seed_trianglesV2(gg,seeds))\n",
    "\n",
    "seeds = [5,1,2]\n",
    "print(num_2seed_triangles(gg,seeds))\n",
    "print(num_2seed_trianglesV2(gg,seeds))"
   ]
  },
  {
   "cell_type": "code",
   "execution_count": 95,
   "id": "f8dc9a83",
   "metadata": {},
   "outputs": [
    {
     "data": {
      "image/png": "[encoded data removed]",
      "text/plain": [
       "<Figure size 432x288 with 1 Axes>"
      ]
     },
     "metadata": {},
     "output_type": "display_data"
    }
   ],
   "source": [
    "#EDGE CASE: more than one connected component\n",
    "gg = nx.Graph()\n",
    "gg.add_nodes_from([1,2,3,4,5, 6,7,8])\n",
    "gg.add_edges_from([(1, 2), (1, 3), (2, 3), (1,4), (3,4), (4,2), (5,1), (5,2), (5,3),\n",
    "                  (6,7), (7,8)])\n",
    "\n",
    "nx.draw_networkx(gg)"
   ]
  },
  {
   "cell_type": "code",
   "execution_count": 97,
   "id": "16780fb8",
   "metadata": {},
   "outputs": [
    {
     "name": "stdout",
     "output_type": "stream",
     "text": [
      "0\n",
      "0\n",
      "2\n",
      "2\n",
      "4\n",
      "4\n"
     ]
    }
   ],
   "source": [
    "#SHOULD BE SAME AS ABOVE\n",
    "\n",
    "seeds = [4,5]\n",
    "print(num_2seed_triangles(gg,seeds))\n",
    "print(num_2seed_trianglesV2(gg,seeds))\n",
    "\n",
    "seeds = [5,1]\n",
    "print(num_2seed_triangles(gg,seeds))\n",
    "print(num_2seed_trianglesV2(gg,seeds))\n",
    "\n",
    "seeds = [5,1,2]\n",
    "print(num_2seed_triangles(gg,seeds))\n",
    "print(num_2seed_trianglesV2(gg,seeds))"
   ]
  },
  {
   "cell_type": "markdown",
   "id": "3a4179ce",
   "metadata": {},
   "source": [
    "## The idea of a measure\n",
    "\n",
    "Recall: the transitivity was \n",
    "$$3\\frac{\\#triangles}{\\#connected triples}$$\n",
    "\n",
    "*Note*: (see first week lec)\n",
    "\n",
    "a connected triple (i)-(j)-(k)\n",
    "contains two paths length 2: {i,j,k}, {k,j,i}"
   ]
  },
  {
   "cell_type": "markdown",
   "id": "c97af827",
   "metadata": {},
   "source": [
    "From our discussions (also see original seeding paper), the probability of a nontargeted node getting the innovation is affected by two things:\n",
    "\n",
    "- the number of alters that are targeted\n",
    "- whether two targeted alters are themselves friends"
   ]
  },
  {
   "cell_type": "code",
   "execution_count": null,
   "id": "d34c4413",
   "metadata": {},
   "outputs": [],
   "source": [
    "\n",
    "# (target)  (not target)        (target)  (target)           (target) - (target)\n",
    "#    \\            /        <        \\        /        <         \\           /\n",
    "#         (x)                           (x)                           (x)\n"
   ]
  },
  {
   "cell_type": "markdown",
   "id": "886ccd7e",
   "metadata": {},
   "source": [
    "This triangle property is a possible mechanism to explain the probability of a innovation spreading. the strongest type of influence would come from the third type of connected triple (in code, called `2seed_triangles`)\n",
    "\n",
    "Some way of measuring the prevlance of such `2seed_triangles`, might be indicative of the success of a seeding method. But how to measure? \n",
    "\n",
    "- $$3 \\frac{\\# 2seed triangles}{\\#connected triples}$$\n",
    "\n",
    "then this is like a 'harsher' version of the transitivity coefficient, where we're only counting **triangles with 2 seeds as vertices.** \n",
    "\n",
    "This has a nice relationship wtih the transitivity coefficient in that their ratio\n",
    "\n",
    "$$3 \\frac{\\# 2seed triangles}{\\#connected triples}/ 3\\frac{\\#triangles}{\\#connected triples} = \n",
    "\\frac{\\# 2seed triangles}{\\# triangles}$$\n",
    "\n",
    "is the proportion of *actual triangles* that are `2seed_triangles`. \n",
    "\n",
    "Note this ratio will always $<1$ since `2seed_triangles` are a subset of triangles.  "
   ]
  },
  {
   "cell_type": "code",
   "execution_count": 26,
   "id": "a11f06af",
   "metadata": {},
   "outputs": [],
   "source": [
    "# def num_con_triples(g):\n",
    "#     #solve for #connected triples from the transitivity formula:\n",
    "#     # 3*num_triangles/transitivity = #connected triples\n",
    "#     num_triangles = sum(nx.triangles(g).values()) / 3 #triple-counting each triangle\n",
    "#     trans = nx.transitivity(g)\n",
    "    \n",
    "#     return (3*num_triangles/trans)"
   ]
  },
  {
   "cell_type": "code",
   "execution_count": 27,
   "id": "4f05b4de",
   "metadata": {},
   "outputs": [],
   "source": [
    "# def two_seed_tran(g, seeds):\n",
    "#     return(num_2seed_triangles(g, seeds) / num_con_triples(g))"
   ]
  },
  {
   "cell_type": "markdown",
   "id": "d9f7a0d7",
   "metadata": {},
   "source": [
    "## testing on karate club"
   ]
  },
  {
   "cell_type": "code",
   "execution_count": 78,
   "id": "bc13f583",
   "metadata": {
    "scrolled": true
   },
   "outputs": [
    {
     "data": {
      "image/png": "[encoded data removed]",
      "text/plain": [
       "<Figure size 432x288 with 1 Axes>"
      ]
     },
     "metadata": {},
     "output_type": "display_data"
    }
   ],
   "source": [
    "G=nx.read_adjlist(\"data/karate_edges_77.txt\",nodetype=int)\n",
    "nx.draw_networkx(G,pos=nx.spring_layout(G))"
   ]
  },
  {
   "cell_type": "code",
   "execution_count": 79,
   "id": "0b15e2a2",
   "metadata": {},
   "outputs": [],
   "source": [
    "#kinda annoying to do it this way, but it will avoid copying over large objects when over repated networks\n",
    "\n",
    "#create empty dataframe\n",
    "nsamp = 200\n",
    "big_dat = pd.DataFrame({\"seeding method\": ['random']*nsamp + ['friend']*nsamp + ['pair']*nsamp})"
   ]
  },
  {
   "cell_type": "code",
   "execution_count": 90,
   "id": "cf5a5d59",
   "metadata": {},
   "outputs": [],
   "source": [
    "#for a graph g, simulate seeds nsamp times. Each time, calculate the transiticity measures\n",
    "#name: string for network name\n",
    "# def sim_2seed_transitivity(g, p, nsamp = 200):\n",
    "#     random_2tran = []\n",
    "#     friend_2tran = []\n",
    "#     pair_2tran = []\n",
    "    \n",
    "\n",
    "#     for i in range(0,nsamp):\n",
    "#         random_seeds = get_seeds(g, p, 'random')\n",
    "#         friend_seeds = get_seeds(g, p, 'friend')\n",
    "#         pair_seeds = get_seeds(g, p, 'pair')\n",
    "\n",
    "#         random_2tran.append(two_seed_tranV2(g, random_seeds))\n",
    "#         friend_2tran.append(two_seed_tranV2(g, friend_seeds))\n",
    "#         pair_2tran.append(two_seed_tranV2(g, pair_seeds))\n",
    "    \n",
    "#     #(nsamp x 1 vector, ...)\n",
    "#     return (random_2tran, friend_2tran, pair_2tran)"
   ]
  },
  {
   "cell_type": "code",
   "execution_count": 56,
   "id": "3a3bbc6a",
   "metadata": {},
   "outputs": [],
   "source": [
    "#append results as columns\n",
    "(rtran, ftran, ptran) = sim_2seed_transitivity(G, p, nsamp)\n",
    "big_dat[\"2-seed transitivity\"] = rtran + ftran + ptran\n",
    "big_dat['tran'] = nx.transitivity(G)"
   ]
  },
  {
   "cell_type": "code",
   "execution_count": 48,
   "id": "4e9ae466",
   "metadata": {},
   "outputs": [
    {
     "data": {
      "application/vnd.plotly.v1+json": {
       "config": {
        "plotlyServerURL": "https://plot.ly"
       },
       "data": [
        {
         "alignmentgroup": "True",
         "hovertemplate": "seeding method=%{x}<br>2-seed transitivity=%{y}<extra></extra>",
         "legendgroup": "",
         "marker": {
          "color": "#636efa"
         },
         "name": "",
         "notched": false,
         "offsetgroup": "",
         "orientation": "v",
         "showlegend": false,
         "type": "box",
         "x": [
          "random",
          "random",
          "random",
          "random",
          "random",
          "random",
          "random",
          "random",
          "random",
          "random",
          "random",
          "random",
          "random",
          "random",
          "random",
          "random",
          "random",
          "random",
          "random",
          "random",
          "random",
          "random",
          "random",
          "random",
          "random",
          "random",
          "random",
          "random",
          "random",
          "random",
          "random",
          "random",
          "random",
          "random",
          "random",
          "random",
          "random",
          "random",
          "random",
          "random",
          "random",
          "random",
          "random",
          "random",
          "random",
          "random",
          "random",
          "random",
          "random",
          "random",
          "random",
          "random",
          "random",
          "random",
          "random",
          "random",
          "random",
          "random",
          "random",
          "random",
          "random",
          "random",
          "random",
          "random",
          "random",
          "random",
          "random",
          "random",
          "random",
          "random",
          "random",
          "random",
          "random",
          "random",
          "random",
          "random",
          "random",
          "random",
          "random",
          "random",
          "random",
          "random",
          "random",
          "random",
          "random",
          "random",
          "random",
          "random",
          "random",
          "random",
          "random",
          "random",
          "random",
          "random",
          "random",
          "random",
          "random",
          "random",
          "random",
          "random",
          "random",
          "random",
          "random",
          "random",
          "random",
          "random",
          "random",
          "random",
          "random",
          "random",
          "random",
          "random",
          "random",
          "random",
          "random",
          "random",
          "random",
          "random",
          "random",
          "random",
          "random",
          "random",
          "random",
          "random",
          "random",
          "random",
          "random",
          "random",
          "random",
          "random",
          "random",
          "random",
          "random",
          "random",
          "random",
          "random",
          "random",
          "random",
          "random",
          "random",
          "random",
          "random",
          "random",
          "random",
          "random",
          "random",
          "random",
          "random",
          "random",
          "random",
          "random",
          "random",
          "random",
          "random",
          "random",
          "random",
          "random",
          "random",
          "random",
          "random",
          "random",
          "random",
          "random",
          "random",
          "random",
          "random",
          "random",
          "random",
          "random",
          "random",
          "random",
          "random",
          "random",
          "random",
          "random",
          "random",
          "random",
          "random",
          "random",
          "random",
          "random",
          "random",
          "random",
          "random",
          "random",
          "random",
          "random",
          "random",
          "random",
          "random",
          "random",
          "random",
          "random",
          "random",
          "random",
          "random",
          "random",
          "random",
          "random",
          "random",
          "friend",
          "friend",
          "friend",
          "friend",
          "friend",
          "friend",
          "friend",
          "friend",
          "friend",
          "friend",
          "friend",
          "friend",
          "friend",
          "friend",
          "friend",
          "friend",
          "friend",
          "friend",
          "friend",
          "friend",
          "friend",
          "friend",
          "friend",
          "friend",
          "friend",
          "friend",
          "friend",
          "friend",
          "friend",
          "friend",
          "friend",
          "friend",
          "friend",
          "friend",
          "friend",
          "friend",
          "friend",
          "friend",
          "friend",
          "friend",
          "friend",
          "friend",
          "friend",
          "friend",
          "friend",
          "friend",
          "friend",
          "friend",
          "friend",
          "friend",
          "friend",
          "friend",
          "friend",
          "friend",
          "friend",
          "friend",
          "friend",
          "friend",
          "friend",
          "friend",
          "friend",
          "friend",
          "friend",
          "friend",
          "friend",
          "friend",
          "friend",
          "friend",
          "friend",
          "friend",
          "friend",
          "friend",
          "friend",
          "friend",
          "friend",
          "friend",
          "friend",
          "friend",
          "friend",
          "friend",
          "friend",
          "friend",
          "friend",
          "friend",
          "friend",
          "friend",
          "friend",
          "friend",
          "friend",
          "friend",
          "friend",
          "friend",
          "friend",
          "friend",
          "friend",
          "friend",
          "friend",
          "friend",
          "friend",
          "friend",
          "friend",
          "friend",
          "friend",
          "friend",
          "friend",
          "friend",
          "friend",
          "friend",
          "friend",
          "friend",
          "friend",
          "friend",
          "friend",
          "friend",
          "friend",
          "friend",
          "friend",
          "friend",
          "friend",
          "friend",
          "friend",
          "friend",
          "friend",
          "friend",
          "friend",
          "friend",
          "friend",
          "friend",
          "friend",
          "friend",
          "friend",
          "friend",
          "friend",
          "friend",
          "friend",
          "friend",
          "friend",
          "friend",
          "friend",
          "friend",
          "friend",
          "friend",
          "friend",
          "friend",
          "friend",
          "friend",
          "friend",
          "friend",
          "friend",
          "friend",
          "friend",
          "friend",
          "friend",
          "friend",
          "friend",
          "friend",
          "friend",
          "friend",
          "friend",
          "friend",
          "friend",
          "friend",
          "friend",
          "friend",
          "friend",
          "friend",
          "friend",
          "friend",
          "friend",
          "friend",
          "friend",
          "friend",
          "friend",
          "friend",
          "friend",
          "friend",
          "friend",
          "friend",
          "friend",
          "friend",
          "friend",
          "friend",
          "friend",
          "friend",
          "friend",
          "friend",
          "friend",
          "friend",
          "friend",
          "friend",
          "friend",
          "friend",
          "friend",
          "friend",
          "friend",
          "friend",
          "friend",
          "friend",
          "friend",
          "friend",
          "pair",
          "pair",
          "pair",
          "pair",
          "pair",
          "pair",
          "pair",
          "pair",
          "pair",
          "pair",
          "pair",
          "pair",
          "pair",
          "pair",
          "pair",
          "pair",
          "pair",
          "pair",
          "pair",
          "pair",
          "pair",
          "pair",
          "pair",
          "pair",
          "pair",
          "pair",
          "pair",
          "pair",
          "pair",
          "pair",
          "pair",
          "pair",
          "pair",
          "pair",
          "pair",
          "pair",
          "pair",
          "pair",
          "pair",
          "pair",
          "pair",
          "pair",
          "pair",
          "pair",
          "pair",
          "pair",
          "pair",
          "pair",
          "pair",
          "pair",
          "pair",
          "pair",
          "pair",
          "pair",
          "pair",
          "pair",
          "pair",
          "pair",
          "pair",
          "pair",
          "pair",
          "pair",
          "pair",
          "pair",
          "pair",
          "pair",
          "pair",
          "pair",
          "pair",
          "pair",
          "pair",
          "pair",
          "pair",
          "pair",
          "pair",
          "pair",
          "pair",
          "pair",
          "pair",
          "pair",
          "pair",
          "pair",
          "pair",
          "pair",
          "pair",
          "pair",
          "pair",
          "pair",
          "pair",
          "pair",
          "pair",
          "pair",
          "pair",
          "pair",
          "pair",
          "pair",
          "pair",
          "pair",
          "pair",
          "pair",
          "pair",
          "pair",
          "pair",
          "pair",
          "pair",
          "pair",
          "pair",
          "pair",
          "pair",
          "pair",
          "pair",
          "pair",
          "pair",
          "pair",
          "pair",
          "pair",
          "pair",
          "pair",
          "pair",
          "pair",
          "pair",
          "pair",
          "pair",
          "pair",
          "pair",
          "pair",
          "pair",
          "pair",
          "pair",
          "pair",
          "pair",
          "pair",
          "pair",
          "pair",
          "pair",
          "pair",
          "pair",
          "pair",
          "pair",
          "pair",
          "pair",
          "pair",
          "pair",
          "pair",
          "pair",
          "pair",
          "pair",
          "pair",
          "pair",
          "pair",
          "pair",
          "pair",
          "pair",
          "pair",
          "pair",
          "pair",
          "pair",
          "pair",
          "pair",
          "pair",
          "pair",
          "pair",
          "pair",
          "pair",
          "pair",
          "pair",
          "pair",
          "pair",
          "pair",
          "pair",
          "pair",
          "pair",
          "pair",
          "pair",
          "pair",
          "pair",
          "pair",
          "pair",
          "pair",
          "pair",
          "pair",
          "pair",
          "pair",
          "pair",
          "pair",
          "pair",
          "pair",
          "pair",
          "pair",
          "pair",
          "pair",
          "pair",
          "pair",
          "pair",
          "pair",
          "pair",
          "pair",
          "pair",
          "pair",
          "pair"
         ],
         "x0": " ",
         "xaxis": "x",
         "y": [
          0,
          0.003913894324853229,
          0.003913894324853229,
          0,
          0.0136986301369863,
          0,
          0.0019569471624266144,
          0,
          0,
          0.003913894324853229,
          0.019569471624266144,
          0.003913894324853229,
          0.0019569471624266144,
          0.0019569471624266144,
          0.029354207436399216,
          0.005870841487279843,
          0.019569471624266144,
          0.005870841487279843,
          0.003913894324853229,
          0.003913894324853229,
          0.0019569471624266144,
          0.0136986301369863,
          0.003913894324853229,
          0.005870841487279843,
          0.0019569471624266144,
          0.005870841487279843,
          0.0019569471624266144,
          0.003913894324853229,
          0,
          0.011741682974559686,
          0,
          0,
          0.0019569471624266144,
          0,
          0.0019569471624266144,
          0.003913894324853229,
          0.003913894324853229,
          0.021526418786692758,
          0.01761252446183953,
          0.01761252446183953,
          0.0019569471624266144,
          0.023483365949119372,
          0.007827788649706457,
          0,
          0.003913894324853229,
          0.021526418786692758,
          0.009784735812133072,
          0.0019569471624266144,
          0.005870841487279843,
          0,
          0.0019569471624266144,
          0,
          0.003913894324853229,
          0.0136986301369863,
          0.003913894324853229,
          0,
          0.003913894324853229,
          0.0019569471624266144,
          0,
          0.0136986301369863,
          0.007827788649706457,
          0.005870841487279843,
          0.0019569471624266144,
          0.009784735812133072,
          0,
          0.005870841487279843,
          0.003913894324853229,
          0.03131115459882583,
          0.005870841487279843,
          0,
          0,
          0,
          0,
          0,
          0.007827788649706457,
          0.015655577299412915,
          0.011741682974559686,
          0.003913894324853229,
          0.011741682974559686,
          0,
          0.005870841487279843,
          0.005870841487279843,
          0.0019569471624266144,
          0.005870841487279843,
          0.019569471624266144,
          0.007827788649706457,
          0.0019569471624266144,
          0.005870841487279843,
          0.0019569471624266144,
          0.003913894324853229,
          0.003913894324853229,
          0.0136986301369863,
          0.007827788649706457,
          0.0019569471624266144,
          0.005870841487279843,
          0,
          0,
          0.0019569471624266144,
          0.0019569471624266144,
          0.0136986301369863,
          0.0019569471624266144,
          0.0019569471624266144,
          0.009784735812133072,
          0.005870841487279843,
          0,
          0.007827788649706457,
          0.0019569471624266144,
          0.011741682974559686,
          0.005870841487279843,
          0.005870841487279843,
          0,
          0,
          0.005870841487279843,
          0.0136986301369863,
          0.007827788649706457,
          0,
          0.0019569471624266144,
          0.0019569471624266144,
          0.009784735812133072,
          0.0019569471624266144,
          0,
          0.009784735812133072,
          0.005870841487279843,
          0.003913894324853229,
          0,
          0.005870841487279843,
          0.025440313111545987,
          0.005870841487279843,
          0.019569471624266144,
          0.003913894324853229,
          0.003913894324853229,
          0.0019569471624266144,
          0.0136986301369863,
          0,
          0,
          0.005870841487279843,
          0,
          0.015655577299412915,
          0.007827788649706457,
          0.007827788649706457,
          0.011741682974559686,
          0,
          0.0136986301369863,
          0.011741682974559686,
          0.003913894324853229,
          0,
          0.011741682974559686,
          0.0019569471624266144,
          0.0136986301369863,
          0.007827788649706457,
          0.011741682974559686,
          0,
          0.007827788649706457,
          0,
          0,
          0.005870841487279843,
          0,
          0.003913894324853229,
          0.0019569471624266144,
          0.005870841487279843,
          0.007827788649706457,
          0,
          0.005870841487279843,
          0.011741682974559686,
          0,
          0.009784735812133072,
          0,
          0.015655577299412915,
          0.0019569471624266144,
          0.0136986301369863,
          0.01761252446183953,
          0.0019569471624266144,
          0.0019569471624266144,
          0.007827788649706457,
          0.005870841487279843,
          0.007827788649706457,
          0,
          0.009784735812133072,
          0.003913894324853229,
          0.005870841487279843,
          0.005870841487279843,
          0,
          0.0019569471624266144,
          0.0019569471624266144,
          0,
          0.003913894324853229,
          0,
          0.0019569471624266144,
          0.0019569471624266144,
          0.007827788649706457,
          0.003913894324853229,
          0,
          0,
          0,
          0.011741682974559686,
          0,
          0.007827788649706457,
          0.003913894324853229,
          0.005870841487279843,
          0.003913894324853229,
          0.023483365949119372,
          0.03718199608610567,
          0.019569471624266144,
          0.025440313111545987,
          0.003913894324853229,
          0.023483365949119372,
          0.01761252446183953,
          0.0273972602739726,
          0.03131115459882583,
          0.029354207436399216,
          0.023483365949119372,
          0.023483365949119372,
          0.029354207436399216,
          0.0136986301369863,
          0.0273972602739726,
          0.01761252446183953,
          0,
          0.021526418786692758,
          0.0136986301369863,
          0.009784735812133072,
          0.033268101761252444,
          0.019569471624266144,
          0.023483365949119372,
          0.021526418786692758,
          0.011741682974559686,
          0.003913894324853229,
          0.011741682974559686,
          0.0136986301369863,
          0.029354207436399216,
          0,
          0.046966731898238745,
          0.021526418786692758,
          0.033268101761252444,
          0.007827788649706457,
          0.025440313111545987,
          0.025440313111545987,
          0.015655577299412915,
          0.029354207436399216,
          0.019569471624266144,
          0.0136986301369863,
          0.015655577299412915,
          0.023483365949119372,
          0.0410958904109589,
          0.025440313111545987,
          0.0273972602739726,
          0.025440313111545987,
          0.0410958904109589,
          0.021526418786692758,
          0.007827788649706457,
          0.01761252446183953,
          0.023483365949119372,
          0.0136986301369863,
          0.03522504892367906,
          0.007827788649706457,
          0.0273972602739726,
          0.019569471624266144,
          0.0136986301369863,
          0.0136986301369863,
          0.021526418786692758,
          0.03718199608610567,
          0.023483365949119372,
          0.003913894324853229,
          0.007827788649706457,
          0.025440313111545987,
          0.0136986301369863,
          0.03131115459882583,
          0.01761252446183953,
          0.0136986301369863,
          0.005870841487279843,
          0.01761252446183953,
          0.04500978473581213,
          0.0273972602739726,
          0.023483365949119372,
          0.011741682974559686,
          0.033268101761252444,
          0.009784735812133072,
          0.04500978473581213,
          0.0136986301369863,
          0.023483365949119372,
          0.025440313111545987,
          0.009784735812133072,
          0.029354207436399216,
          0.03131115459882583,
          0.011741682974559686,
          0.011741682974559686,
          0.025440313111545987,
          0.0273972602739726,
          0.03131115459882583,
          0.003913894324853229,
          0.03131115459882583,
          0.01761252446183953,
          0.003913894324853229,
          0.0410958904109589,
          0.03131115459882583,
          0.011741682974559686,
          0.015655577299412915,
          0.023483365949119372,
          0.025440313111545987,
          0.01761252446183953,
          0.005870841487279843,
          0.01761252446183953,
          0.0273972602739726,
          0.023483365949119372,
          0.033268101761252444,
          0.01761252446183953,
          0.021526418786692758,
          0.021526418786692758,
          0.0273972602739726,
          0.005870841487279843,
          0.019569471624266144,
          0.019569471624266144,
          0.03522504892367906,
          0.029354207436399216,
          0.0273972602739726,
          0.021526418786692758,
          0.019569471624266144,
          0.015655577299412915,
          0.03718199608610567,
          0.01761252446183953,
          0.03718199608610567,
          0.0136986301369863,
          0.043052837573385516,
          0.021526418786692758,
          0.025440313111545987,
          0.03131115459882583,
          0.03131115459882583,
          0.01761252446183953,
          0.0273972602739726,
          0.005870841487279843,
          0.01761252446183953,
          0.0273972602739726,
          0.033268101761252444,
          0.0273972602739726,
          0.021526418786692758,
          0.005870841487279843,
          0.019569471624266144,
          0.019569471624266144,
          0.046966731898238745,
          0.019569471624266144,
          0.0136986301369863,
          0.029354207436399216,
          0.03718199608610567,
          0.021526418786692758,
          0.04892367906066536,
          0.033268101761252444,
          0.009784735812133072,
          0.029354207436399216,
          0.0273972602739726,
          0.023483365949119372,
          0.021526418786692758,
          0.03522504892367906,
          0.015655577299412915,
          0.003913894324853229,
          0.03131115459882583,
          0.04500978473581213,
          0.0273972602739726,
          0.011741682974559686,
          0.03131115459882583,
          0.021526418786692758,
          0.019569471624266144,
          0.019569471624266144,
          0.025440313111545987,
          0.0273972602739726,
          0,
          0.03913894324853229,
          0.019569471624266144,
          0.0136986301369863,
          0.019569471624266144,
          0.0273972602739726,
          0.03131115459882583,
          0.043052837573385516,
          0.03522504892367906,
          0.021526418786692758,
          0.0136986301369863,
          0.0273972602739726,
          0.0273972602739726,
          0.0136986301369863,
          0.019569471624266144,
          0.011741682974559686,
          0,
          0.009784735812133072,
          0.023483365949119372,
          0.005870841487279843,
          0.023483365949119372,
          0.01761252446183953,
          0,
          0.023483365949119372,
          0.03131115459882583,
          0.005870841487279843,
          0.021526418786692758,
          0.019569471624266144,
          0.03131115459882583,
          0.029354207436399216,
          0.011741682974559686,
          0.0136986301369863,
          0.0136986301369863,
          0.025440313111545987,
          0.043052837573385516,
          0.043052837573385516,
          0.029354207436399216,
          0.003913894324853229,
          0.025440313111545987,
          0.021526418786692758,
          0.025440313111545987,
          0.005870841487279843,
          0.005870841487279843,
          0.007827788649706457,
          0.019569471624266144,
          0.003913894324853229,
          0.015655577299412915,
          0.029354207436399216,
          0.005870841487279843,
          0.01761252446183953,
          0.005870841487279843,
          0.0136986301369863,
          0.015655577299412915,
          0.003913894324853229,
          0.007827788649706457,
          0.0136986301369863,
          0.021526418786692758,
          0.007827788649706457,
          0.019569471624266144,
          0.015655577299412915,
          0.011741682974559686,
          0.011741682974559686,
          0.015655577299412915,
          0.005870841487279843,
          0.007827788649706457,
          0.003913894324853229,
          0.015655577299412915,
          0.011741682974559686,
          0.003913894324853229,
          0.009784735812133072,
          0.021526418786692758,
          0.005870841487279843,
          0.01761252446183953,
          0.021526418786692758,
          0.023483365949119372,
          0.011741682974559686,
          0.01761252446183953,
          0.023483365949119372,
          0.003913894324853229,
          0.005870841487279843,
          0.011741682974559686,
          0.007827788649706457,
          0.019569471624266144,
          0.011741682974559686,
          0.009784735812133072,
          0.01761252446183953,
          0.0136986301369863,
          0.011741682974559686,
          0.021526418786692758,
          0.015655577299412915,
          0.009784735812133072,
          0.019569471624266144,
          0.021526418786692758,
          0.0019569471624266144,
          0.01761252446183953,
          0.01761252446183953,
          0.019569471624266144,
          0.021526418786692758,
          0.009784735812133072,
          0.005870841487279843,
          0.01761252446183953,
          0.009784735812133072,
          0.01761252446183953,
          0.015655577299412915,
          0.009784735812133072,
          0.019569471624266144,
          0.007827788649706457,
          0.003913894324853229,
          0.03131115459882583,
          0.005870841487279843,
          0.005870841487279843,
          0.015655577299412915,
          0.007827788649706457,
          0.011741682974559686,
          0.015655577299412915,
          0.007827788649706457,
          0.007827788649706457,
          0.005870841487279843,
          0.021526418786692758,
          0.0136986301369863,
          0.007827788649706457,
          0.025440313111545987,
          0.007827788649706457,
          0.007827788649706457,
          0.0136986301369863,
          0.003913894324853229,
          0.011741682974559686,
          0.01761252446183953,
          0.021526418786692758,
          0.019569471624266144,
          0.0136986301369863,
          0.01761252446183953,
          0.029354207436399216,
          0.019569471624266144,
          0.015655577299412915,
          0.007827788649706457,
          0.011741682974559686,
          0.0136986301369863,
          0.005870841487279843,
          0.007827788649706457,
          0.029354207436399216,
          0.011741682974559686,
          0.01761252446183953,
          0.005870841487279843,
          0.009784735812133072,
          0.007827788649706457,
          0.015655577299412915,
          0.011741682974559686,
          0.025440313111545987,
          0.0136986301369863,
          0.005870841487279843,
          0.011741682974559686,
          0.01761252446183953,
          0.0019569471624266144,
          0.011741682974559686,
          0.011741682974559686,
          0.009784735812133072,
          0.01761252446183953,
          0.011741682974559686,
          0.007827788649706457,
          0.019569471624266144,
          0.011741682974559686,
          0.009784735812133072,
          0.015655577299412915,
          0.005870841487279843,
          0.005870841487279843,
          0.023483365949119372,
          0.015655577299412915,
          0.015655577299412915,
          0.0273972602739726,
          0.019569471624266144,
          0.025440313111545987,
          0.005870841487279843,
          0.009784735812133072,
          0.009784735812133072,
          0.009784735812133072,
          0.019569471624266144,
          0.009784735812133072,
          0.009784735812133072,
          0.005870841487279843,
          0.009784735812133072,
          0.007827788649706457,
          0.021526418786692758,
          0.005870841487279843,
          0.01761252446183953,
          0.005870841487279843,
          0.0019569471624266144,
          0.009784735812133072,
          0.019569471624266144,
          0.019569471624266144,
          0.011741682974559686,
          0.007827788649706457,
          0.009784735812133072,
          0.003913894324853229,
          0.009784735812133072,
          0.0273972602739726,
          0.01761252446183953,
          0.0273972602739726,
          0.0136986301369863,
          0.015655577299412915,
          0.007827788649706457,
          0.005870841487279843,
          0.0273972602739726,
          0.015655577299412915,
          0.015655577299412915,
          0.025440313111545987,
          0.0136986301369863,
          0.009784735812133072,
          0.011741682974559686,
          0.009784735812133072,
          0.015655577299412915,
          0.005870841487279843,
          0.019569471624266144,
          0.01761252446183953,
          0.021526418786692758,
          0.009784735812133072,
          0.009784735812133072,
          0.009784735812133072,
          0.01761252446183953,
          0.011741682974559686,
          0.005870841487279843,
          0.005870841487279843,
          0.005870841487279843,
          0.009784735812133072,
          0.0136986301369863,
          0.011741682974559686,
          0.009784735812133072,
          0.015655577299412915,
          0.01761252446183953,
          0.025440313111545987,
          0.005870841487279843,
          0.029354207436399216,
          0.019569471624266144,
          0.009784735812133072,
          0.011741682974559686,
          0.005870841487279843,
          0.005870841487279843
         ],
         "y0": " ",
         "yaxis": "y"
        }
       ],
       "layout": {
        "boxmode": "group",
        "legend": {
         "tracegroupgap": 0
        },
        "margin": {
         "t": 60
        },
        "template": {
         "data": {
          "bar": [
           {
            "error_x": {
             "color": "#2a3f5f"
            },
            "error_y": {
             "color": "#2a3f5f"
            },
            "marker": {
             "line": {
              "color": "#E5ECF6",
              "width": 0.5
             },
             "pattern": {
              "fillmode": "overlay",
              "size": 10,
              "solidity": 0.2
             }
            },
            "type": "bar"
           }
          ],
          "barpolar": [
           {
            "marker": {
             "line": {
              "color": "#E5ECF6",
              "width": 0.5
             },
             "pattern": {
              "fillmode": "overlay",
              "size": 10,
              "solidity": 0.2
             }
            },
            "type": "barpolar"
           }
          ],
          "carpet": [
           {
            "aaxis": {
             "endlinecolor": "#2a3f5f",
             "gridcolor": "white",
             "linecolor": "white",
             "minorgridcolor": "white",
             "startlinecolor": "#2a3f5f"
            },
            "baxis": {
             "endlinecolor": "#2a3f5f",
             "gridcolor": "white",
             "linecolor": "white",
             "minorgridcolor": "white",
             "startlinecolor": "#2a3f5f"
            },
            "type": "carpet"
           }
          ],
          "choropleth": [
           {
            "colorbar": {
             "outlinewidth": 0,
             "ticks": ""
            },
            "type": "choropleth"
           }
          ],
          "contour": [
           {
            "colorbar": {
             "outlinewidth": 0,
             "ticks": ""
            },
            "colorscale": [
             [
              0,
              "#0d0887"
             ],
             [
              0.1111111111111111,
              "#46039f"
             ],
             [
              0.2222222222222222,
              "#7201a8"
             ],
             [
              0.3333333333333333,
              "#9c179e"
             ],
             [
              0.4444444444444444,
              "#bd3786"
             ],
             [
              0.5555555555555556,
              "#d8576b"
             ],
             [
              0.6666666666666666,
              "#ed7953"
             ],
             [
              0.7777777777777778,
              "#fb9f3a"
             ],
             [
              0.8888888888888888,
              "#fdca26"
             ],
             [
              1,
              "#f0f921"
             ]
            ],
            "type": "contour"
           }
          ],
          "contourcarpet": [
           {
            "colorbar": {
             "outlinewidth": 0,
             "ticks": ""
            },
            "type": "contourcarpet"
           }
          ],
          "heatmap": [
           {
            "colorbar": {
             "outlinewidth": 0,
             "ticks": ""
            },
            "colorscale": [
             [
              0,
              "#0d0887"
             ],
             [
              0.1111111111111111,
              "#46039f"
             ],
             [
              0.2222222222222222,
              "#7201a8"
             ],
             [
              0.3333333333333333,
              "#9c179e"
             ],
             [
              0.4444444444444444,
              "#bd3786"
             ],
             [
              0.5555555555555556,
              "#d8576b"
             ],
             [
              0.6666666666666666,
              "#ed7953"
             ],
             [
              0.7777777777777778,
              "#fb9f3a"
             ],
             [
              0.8888888888888888,
              "#fdca26"
             ],
             [
              1,
              "#f0f921"
             ]
            ],
            "type": "heatmap"
           }
          ],
          "heatmapgl": [
           {
            "colorbar": {
             "outlinewidth": 0,
             "ticks": ""
            },
            "colorscale": [
             [
              0,
              "#0d0887"
             ],
             [
              0.1111111111111111,
              "#46039f"
             ],
             [
              0.2222222222222222,
              "#7201a8"
             ],
             [
              0.3333333333333333,
              "#9c179e"
             ],
             [
              0.4444444444444444,
              "#bd3786"
             ],
             [
              0.5555555555555556,
              "#d8576b"
             ],
             [
              0.6666666666666666,
              "#ed7953"
             ],
             [
              0.7777777777777778,
              "#fb9f3a"
             ],
             [
              0.8888888888888888,
              "#fdca26"
             ],
             [
              1,
              "#f0f921"
             ]
            ],
            "type": "heatmapgl"
           }
          ],
          "histogram": [
           {
            "marker": {
             "pattern": {
              "fillmode": "overlay",
              "size": 10,
              "solidity": 0.2
             }
            },
            "type": "histogram"
           }
          ],
          "histogram2d": [
           {
            "colorbar": {
             "outlinewidth": 0,
             "ticks": ""
            },
            "colorscale": [
             [
              0,
              "#0d0887"
             ],
             [
              0.1111111111111111,
              "#46039f"
             ],
             [
              0.2222222222222222,
              "#7201a8"
             ],
             [
              0.3333333333333333,
              "#9c179e"
             ],
             [
              0.4444444444444444,
              "#bd3786"
             ],
             [
              0.5555555555555556,
              "#d8576b"
             ],
             [
              0.6666666666666666,
              "#ed7953"
             ],
             [
              0.7777777777777778,
              "#fb9f3a"
             ],
             [
              0.8888888888888888,
              "#fdca26"
             ],
             [
              1,
              "#f0f921"
             ]
            ],
            "type": "histogram2d"
           }
          ],
          "histogram2dcontour": [
           {
            "colorbar": {
             "outlinewidth": 0,
             "ticks": ""
            },
            "colorscale": [
             [
              0,
              "#0d0887"
             ],
             [
              0.1111111111111111,
              "#46039f"
             ],
             [
              0.2222222222222222,
              "#7201a8"
             ],
             [
              0.3333333333333333,
              "#9c179e"
             ],
             [
              0.4444444444444444,
              "#bd3786"
             ],
             [
              0.5555555555555556,
              "#d8576b"
             ],
             [
              0.6666666666666666,
              "#ed7953"
             ],
             [
              0.7777777777777778,
              "#fb9f3a"
             ],
             [
              0.8888888888888888,
              "#fdca26"
             ],
             [
              1,
              "#f0f921"
             ]
            ],
            "type": "histogram2dcontour"
           }
          ],
          "mesh3d": [
           {
            "colorbar": {
             "outlinewidth": 0,
             "ticks": ""
            },
            "type": "mesh3d"
           }
          ],
          "parcoords": [
           {
            "line": {
             "colorbar": {
              "outlinewidth": 0,
              "ticks": ""
             }
            },
            "type": "parcoords"
           }
          ],
          "pie": [
           {
            "automargin": true,
            "type": "pie"
           }
          ],
          "scatter": [
           {
            "fillpattern": {
             "fillmode": "overlay",
             "size": 10,
             "solidity": 0.2
            },
            "type": "scatter"
           }
          ],
          "scatter3d": [
           {
            "line": {
             "colorbar": {
              "outlinewidth": 0,
              "ticks": ""
             }
            },
            "marker": {
             "colorbar": {
              "outlinewidth": 0,
              "ticks": ""
             }
            },
            "type": "scatter3d"
           }
          ],
          "scattercarpet": [
           {
            "marker": {
             "colorbar": {
              "outlinewidth": 0,
              "ticks": ""
             }
            },
            "type": "scattercarpet"
           }
          ],
          "scattergeo": [
           {
            "marker": {
             "colorbar": {
              "outlinewidth": 0,
              "ticks": ""
             }
            },
            "type": "scattergeo"
           }
          ],
          "scattergl": [
           {
            "marker": {
             "colorbar": {
              "outlinewidth": 0,
              "ticks": ""
             }
            },
            "type": "scattergl"
           }
          ],
          "scattermapbox": [
           {
            "marker": {
             "colorbar": {
              "outlinewidth": 0,
              "ticks": ""
             }
            },
            "type": "scattermapbox"
           }
          ],
          "scatterpolar": [
           {
            "marker": {
             "colorbar": {
              "outlinewidth": 0,
              "ticks": ""
             }
            },
            "type": "scatterpolar"
           }
          ],
          "scatterpolargl": [
           {
            "marker": {
             "colorbar": {
              "outlinewidth": 0,
              "ticks": ""
             }
            },
            "type": "scatterpolargl"
           }
          ],
          "scatterternary": [
           {
            "marker": {
             "colorbar": {
              "outlinewidth": 0,
              "ticks": ""
             }
            },
            "type": "scatterternary"
           }
          ],
          "surface": [
           {
            "colorbar": {
             "outlinewidth": 0,
             "ticks": ""
            },
            "colorscale": [
             [
              0,
              "#0d0887"
             ],
             [
              0.1111111111111111,
              "#46039f"
             ],
             [
              0.2222222222222222,
              "#7201a8"
             ],
             [
              0.3333333333333333,
              "#9c179e"
             ],
             [
              0.4444444444444444,
              "#bd3786"
             ],
             [
              0.5555555555555556,
              "#d8576b"
             ],
             [
              0.6666666666666666,
              "#ed7953"
             ],
             [
              0.7777777777777778,
              "#fb9f3a"
             ],
             [
              0.8888888888888888,
              "#fdca26"
             ],
             [
              1,
              "#f0f921"
             ]
            ],
            "type": "surface"
           }
          ],
          "table": [
           {
            "cells": {
             "fill": {
              "color": "#EBF0F8"
             },
             "line": {
              "color": "white"
             }
            },
            "header": {
             "fill": {
              "color": "#C8D4E3"
             },
             "line": {
              "color": "white"
             }
            },
            "type": "table"
           }
          ]
         },
         "layout": {
          "annotationdefaults": {
           "arrowcolor": "#2a3f5f",
           "arrowhead": 0,
           "arrowwidth": 1
          },
          "autotypenumbers": "strict",
          "coloraxis": {
           "colorbar": {
            "outlinewidth": 0,
            "ticks": ""
           }
          },
          "colorscale": {
           "diverging": [
            [
             0,
             "#8e0152"
            ],
            [
             0.1,
             "#c51b7d"
            ],
            [
             0.2,
             "#de77ae"
            ],
            [
             0.3,
             "#f1b6da"
            ],
            [
             0.4,
             "#fde0ef"
            ],
            [
             0.5,
             "#f7f7f7"
            ],
            [
             0.6,
             "#e6f5d0"
            ],
            [
             0.7,
             "#b8e186"
            ],
            [
             0.8,
             "#7fbc41"
            ],
            [
             0.9,
             "#4d9221"
            ],
            [
             1,
             "#276419"
            ]
           ],
           "sequential": [
            [
             0,
             "#0d0887"
            ],
            [
             0.1111111111111111,
             "#46039f"
            ],
            [
             0.2222222222222222,
             "#7201a8"
            ],
            [
             0.3333333333333333,
             "#9c179e"
            ],
            [
             0.4444444444444444,
             "#bd3786"
            ],
            [
             0.5555555555555556,
             "#d8576b"
            ],
            [
             0.6666666666666666,
             "#ed7953"
            ],
            [
             0.7777777777777778,
             "#fb9f3a"
            ],
            [
             0.8888888888888888,
             "#fdca26"
            ],
            [
             1,
             "#f0f921"
            ]
           ],
           "sequentialminus": [
            [
             0,
             "#0d0887"
            ],
            [
             0.1111111111111111,
             "#46039f"
            ],
            [
             0.2222222222222222,
             "#7201a8"
            ],
            [
             0.3333333333333333,
             "#9c179e"
            ],
            [
             0.4444444444444444,
             "#bd3786"
            ],
            [
             0.5555555555555556,
             "#d8576b"
            ],
            [
             0.6666666666666666,
             "#ed7953"
            ],
            [
             0.7777777777777778,
             "#fb9f3a"
            ],
            [
             0.8888888888888888,
             "#fdca26"
            ],
            [
             1,
             "#f0f921"
            ]
           ]
          },
          "colorway": [
           "#636efa",
           "#EF553B",
           "#00cc96",
           "#ab63fa",
           "#FFA15A",
           "#19d3f3",
           "#FF6692",
           "#B6E880",
           "#FF97FF",
           "#FECB52"
          ],
          "font": {
           "color": "#2a3f5f"
          },
          "geo": {
           "bgcolor": "white",
           "lakecolor": "white",
           "landcolor": "#E5ECF6",
           "showlakes": true,
           "showland": true,
           "subunitcolor": "white"
          },
          "hoverlabel": {
           "align": "left"
          },
          "hovermode": "closest",
          "mapbox": {
           "style": "light"
          },
          "paper_bgcolor": "white",
          "plot_bgcolor": "#E5ECF6",
          "polar": {
           "angularaxis": {
            "gridcolor": "white",
            "linecolor": "white",
            "ticks": ""
           },
           "bgcolor": "#E5ECF6",
           "radialaxis": {
            "gridcolor": "white",
            "linecolor": "white",
            "ticks": ""
           }
          },
          "scene": {
           "xaxis": {
            "backgroundcolor": "#E5ECF6",
            "gridcolor": "white",
            "gridwidth": 2,
            "linecolor": "white",
            "showbackground": true,
            "ticks": "",
            "zerolinecolor": "white"
           },
           "yaxis": {
            "backgroundcolor": "#E5ECF6",
            "gridcolor": "white",
            "gridwidth": 2,
            "linecolor": "white",
            "showbackground": true,
            "ticks": "",
            "zerolinecolor": "white"
           },
           "zaxis": {
            "backgroundcolor": "#E5ECF6",
            "gridcolor": "white",
            "gridwidth": 2,
            "linecolor": "white",
            "showbackground": true,
            "ticks": "",
            "zerolinecolor": "white"
           }
          },
          "shapedefaults": {
           "line": {
            "color": "#2a3f5f"
           }
          },
          "ternary": {
           "aaxis": {
            "gridcolor": "white",
            "linecolor": "white",
            "ticks": ""
           },
           "baxis": {
            "gridcolor": "white",
            "linecolor": "white",
            "ticks": ""
           },
           "bgcolor": "#E5ECF6",
           "caxis": {
            "gridcolor": "white",
            "linecolor": "white",
            "ticks": ""
           }
          },
          "title": {
           "x": 0.05
          },
          "xaxis": {
           "automargin": true,
           "gridcolor": "white",
           "linecolor": "white",
           "ticks": "",
           "title": {
            "standoff": 15
           },
           "zerolinecolor": "white",
           "zerolinewidth": 2
          },
          "yaxis": {
           "automargin": true,
           "gridcolor": "white",
           "linecolor": "white",
           "ticks": "",
           "title": {
            "standoff": 15
           },
           "zerolinecolor": "white",
           "zerolinewidth": 2
          }
         }
        },
        "xaxis": {
         "anchor": "y",
         "domain": [
          0,
          1
         ],
         "title": {
          "text": "seeding method"
         }
        },
        "yaxis": {
         "anchor": "x",
         "domain": [
          0,
          1
         ],
         "title": {
          "text": "2-seed transitivity"
         }
        }
       }
      },
      "text/html": [
       "<div>                            <div id=\"e0d86a33-f82d-402f-bca6-a33fb2694693\" class=\"plotly-graph-div\" style=\"height:525px; width:100%;\"></div>            <script type=\"text/javascript\">                require([\"plotly\"], function(Plotly) {                    window.PLOTLYENV=window.PLOTLYENV || {};                                    if (document.getElementById(\"e0d86a33-f82d-402f-bca6-a33fb2694693\")) {                    Plotly.newPlot(                        \"e0d86a33-f82d-402f-bca6-a33fb2694693\",                        [{\"alignmentgroup\":\"True\",\"hovertemplate\":\"seeding method=%{x}<br>2-seed transitivity=%{y}<extra></extra>\",\"legendgroup\":\"\",\"marker\":{\"color\":\"#636efa\"},\"name\":\"\",\"notched\":false,\"offsetgroup\":\"\",\"orientation\":\"v\",\"showlegend\":false,\"x\":[\"random\",\"random\",\"random\",\"random\",\"random\",\"random\",\"random\",\"random\",\"random\",\"random\",\"random\",\"random\",\"random\",\"random\",\"random\",\"random\",\"random\",\"random\",\"random\",\"random\",\"random\",\"random\",\"random\",\"random\",\"random\",\"random\",\"random\",\"random\",\"random\",\"random\",\"random\",\"random\",\"random\",\"random\",\"random\",\"random\",\"random\",\"random\",\"random\",\"random\",\"random\",\"random\",\"random\",\"random\",\"random\",\"random\",\"random\",\"random\",\"random\",\"random\",\"random\",\"random\",\"random\",\"random\",\"random\",\"random\",\"random\",\"random\",\"random\",\"random\",\"random\",\"random\",\"random\",\"random\",\"random\",\"random\",\"random\",\"random\",\"random\",\"random\",\"random\",\"random\",\"random\",\"random\",\"random\",\"random\",\"random\",\"random\",\"random\",\"random\",\"random\",\"random\",\"random\",\"random\",\"random\",\"random\",\"random\",\"random\",\"random\",\"random\",\"random\",\"random\",\"random\",\"random\",\"random\",\"random\",\"random\",\"random\",\"random\",\"random\",\"random\",\"random\",\"random\",\"random\",\"random\",\"random\",\"random\",\"random\",\"random\",\"random\",\"random\",\"random\",\"random\",\"random\",\"random\",\"random\",\"random\",\"random\",\"random\",\"random\",\"random\",\"random\",\"random\",\"random\",\"random\",\"random\",\"random\",\"random\",\"random\",\"random\",\"random\",\"random\",\"random\",\"random\",\"random\",\"random\",\"random\",\"random\",\"random\",\"random\",\"random\",\"random\",\"random\",\"random\",\"random\",\"random\",\"random\",\"random\",\"random\",\"random\",\"random\",\"random\",\"random\",\"random\",\"random\",\"random\",\"random\",\"random\",\"random\",\"random\",\"random\",\"random\",\"random\",\"random\",\"random\",\"random\",\"random\",\"random\",\"random\",\"random\",\"random\",\"random\",\"random\",\"random\",\"random\",\"random\",\"random\",\"random\",\"random\",\"random\",\"random\",\"random\",\"random\",\"random\",\"random\",\"random\",\"random\",\"random\",\"random\",\"random\",\"random\",\"random\",\"random\",\"random\",\"random\",\"random\",\"random\",\"random\",\"random\",\"random\",\"friend\",\"friend\",\"friend\",\"friend\",\"friend\",\"friend\",\"friend\",\"friend\",\"friend\",\"friend\",\"friend\",\"friend\",\"friend\",\"friend\",\"friend\",\"friend\",\"friend\",\"friend\",\"friend\",\"friend\",\"friend\",\"friend\",\"friend\",\"friend\",\"friend\",\"friend\",\"friend\",\"friend\",\"friend\",\"friend\",\"friend\",\"friend\",\"friend\",\"friend\",\"friend\",\"friend\",\"friend\",\"friend\",\"friend\",\"friend\",\"friend\",\"friend\",\"friend\",\"friend\",\"friend\",\"friend\",\"friend\",\"friend\",\"friend\",\"friend\",\"friend\",\"friend\",\"friend\",\"friend\",\"friend\",\"friend\",\"friend\",\"friend\",\"friend\",\"friend\",\"friend\",\"friend\",\"friend\",\"friend\",\"friend\",\"friend\",\"friend\",\"friend\",\"friend\",\"friend\",\"friend\",\"friend\",\"friend\",\"friend\",\"friend\",\"friend\",\"friend\",\"friend\",\"friend\",\"friend\",\"friend\",\"friend\",\"friend\",\"friend\",\"friend\",\"friend\",\"friend\",\"friend\",\"friend\",\"friend\",\"friend\",\"friend\",\"friend\",\"friend\",\"friend\",\"friend\",\"friend\",\"friend\",\"friend\",\"friend\",\"friend\",\"friend\",\"friend\",\"friend\",\"friend\",\"friend\",\"friend\",\"friend\",\"friend\",\"friend\",\"friend\",\"friend\",\"friend\",\"friend\",\"friend\",\"friend\",\"friend\",\"friend\",\"friend\",\"friend\",\"friend\",\"friend\",\"friend\",\"friend\",\"friend\",\"friend\",\"friend\",\"friend\",\"friend\",\"friend\",\"friend\",\"friend\",\"friend\",\"friend\",\"friend\",\"friend\",\"friend\",\"friend\",\"friend\",\"friend\",\"friend\",\"friend\",\"friend\",\"friend\",\"friend\",\"friend\",\"friend\",\"friend\",\"friend\",\"friend\",\"friend\",\"friend\",\"friend\",\"friend\",\"friend\",\"friend\",\"friend\",\"friend\",\"friend\",\"friend\",\"friend\",\"friend\",\"friend\",\"friend\",\"friend\",\"friend\",\"friend\",\"friend\",\"friend\",\"friend\",\"friend\",\"friend\",\"friend\",\"friend\",\"friend\",\"friend\",\"friend\",\"friend\",\"friend\",\"friend\",\"friend\",\"friend\",\"friend\",\"friend\",\"friend\",\"friend\",\"friend\",\"friend\",\"friend\",\"friend\",\"friend\",\"friend\",\"friend\",\"friend\",\"friend\",\"friend\",\"friend\",\"friend\",\"friend\",\"friend\",\"pair\",\"pair\",\"pair\",\"pair\",\"pair\",\"pair\",\"pair\",\"pair\",\"pair\",\"pair\",\"pair\",\"pair\",\"pair\",\"pair\",\"pair\",\"pair\",\"pair\",\"pair\",\"pair\",\"pair\",\"pair\",\"pair\",\"pair\",\"pair\",\"pair\",\"pair\",\"pair\",\"pair\",\"pair\",\"pair\",\"pair\",\"pair\",\"pair\",\"pair\",\"pair\",\"pair\",\"pair\",\"pair\",\"pair\",\"pair\",\"pair\",\"pair\",\"pair\",\"pair\",\"pair\",\"pair\",\"pair\",\"pair\",\"pair\",\"pair\",\"pair\",\"pair\",\"pair\",\"pair\",\"pair\",\"pair\",\"pair\",\"pair\",\"pair\",\"pair\",\"pair\",\"pair\",\"pair\",\"pair\",\"pair\",\"pair\",\"pair\",\"pair\",\"pair\",\"pair\",\"pair\",\"pair\",\"pair\",\"pair\",\"pair\",\"pair\",\"pair\",\"pair\",\"pair\",\"pair\",\"pair\",\"pair\",\"pair\",\"pair\",\"pair\",\"pair\",\"pair\",\"pair\",\"pair\",\"pair\",\"pair\",\"pair\",\"pair\",\"pair\",\"pair\",\"pair\",\"pair\",\"pair\",\"pair\",\"pair\",\"pair\",\"pair\",\"pair\",\"pair\",\"pair\",\"pair\",\"pair\",\"pair\",\"pair\",\"pair\",\"pair\",\"pair\",\"pair\",\"pair\",\"pair\",\"pair\",\"pair\",\"pair\",\"pair\",\"pair\",\"pair\",\"pair\",\"pair\",\"pair\",\"pair\",\"pair\",\"pair\",\"pair\",\"pair\",\"pair\",\"pair\",\"pair\",\"pair\",\"pair\",\"pair\",\"pair\",\"pair\",\"pair\",\"pair\",\"pair\",\"pair\",\"pair\",\"pair\",\"pair\",\"pair\",\"pair\",\"pair\",\"pair\",\"pair\",\"pair\",\"pair\",\"pair\",\"pair\",\"pair\",\"pair\",\"pair\",\"pair\",\"pair\",\"pair\",\"pair\",\"pair\",\"pair\",\"pair\",\"pair\",\"pair\",\"pair\",\"pair\",\"pair\",\"pair\",\"pair\",\"pair\",\"pair\",\"pair\",\"pair\",\"pair\",\"pair\",\"pair\",\"pair\",\"pair\",\"pair\",\"pair\",\"pair\",\"pair\",\"pair\",\"pair\",\"pair\",\"pair\",\"pair\",\"pair\",\"pair\",\"pair\",\"pair\",\"pair\",\"pair\",\"pair\",\"pair\",\"pair\",\"pair\",\"pair\",\"pair\"],\"x0\":\" \",\"xaxis\":\"x\",\"y\":[0.0,0.003913894324853229,0.003913894324853229,0.0,0.0136986301369863,0.0,0.0019569471624266144,0.0,0.0,0.003913894324853229,0.019569471624266144,0.003913894324853229,0.0019569471624266144,0.0019569471624266144,0.029354207436399216,0.005870841487279843,0.019569471624266144,0.005870841487279843,0.003913894324853229,0.003913894324853229,0.0019569471624266144,0.0136986301369863,0.003913894324853229,0.005870841487279843,0.0019569471624266144,0.005870841487279843,0.0019569471624266144,0.003913894324853229,0.0,0.011741682974559686,0.0,0.0,0.0019569471624266144,0.0,0.0019569471624266144,0.003913894324853229,0.003913894324853229,0.021526418786692758,0.01761252446183953,0.01761252446183953,0.0019569471624266144,0.023483365949119372,0.007827788649706457,0.0,0.003913894324853229,0.021526418786692758,0.009784735812133072,0.0019569471624266144,0.005870841487279843,0.0,0.0019569471624266144,0.0,0.003913894324853229,0.0136986301369863,0.003913894324853229,0.0,0.003913894324853229,0.0019569471624266144,0.0,0.0136986301369863,0.007827788649706457,0.005870841487279843,0.0019569471624266144,0.009784735812133072,0.0,0.005870841487279843,0.003913894324853229,0.03131115459882583,0.005870841487279843,0.0,0.0,0.0,0.0,0.0,0.007827788649706457,0.015655577299412915,0.011741682974559686,0.003913894324853229,0.011741682974559686,0.0,0.005870841487279843,0.005870841487279843,0.0019569471624266144,0.005870841487279843,0.019569471624266144,0.007827788649706457,0.0019569471624266144,0.005870841487279843,0.0019569471624266144,0.003913894324853229,0.003913894324853229,0.0136986301369863,0.007827788649706457,0.0019569471624266144,0.005870841487279843,0.0,0.0,0.0019569471624266144,0.0019569471624266144,0.0136986301369863,0.0019569471624266144,0.0019569471624266144,0.009784735812133072,0.005870841487279843,0.0,0.007827788649706457,0.0019569471624266144,0.011741682974559686,0.005870841487279843,0.005870841487279843,0.0,0.0,0.005870841487279843,0.0136986301369863,0.007827788649706457,0.0,0.0019569471624266144,0.0019569471624266144,0.009784735812133072,0.0019569471624266144,0.0,0.009784735812133072,0.005870841487279843,0.003913894324853229,0.0,0.005870841487279843,0.025440313111545987,0.005870841487279843,0.019569471624266144,0.003913894324853229,0.003913894324853229,0.0019569471624266144,0.0136986301369863,0.0,0.0,0.005870841487279843,0.0,0.015655577299412915,0.007827788649706457,0.007827788649706457,0.011741682974559686,0.0,0.0136986301369863,0.011741682974559686,0.003913894324853229,0.0,0.011741682974559686,0.0019569471624266144,0.0136986301369863,0.007827788649706457,0.011741682974559686,0.0,0.007827788649706457,0.0,0.0,0.005870841487279843,0.0,0.003913894324853229,0.0019569471624266144,0.005870841487279843,0.007827788649706457,0.0,0.005870841487279843,0.011741682974559686,0.0,0.009784735812133072,0.0,0.015655577299412915,0.0019569471624266144,0.0136986301369863,0.01761252446183953,0.0019569471624266144,0.0019569471624266144,0.007827788649706457,0.005870841487279843,0.007827788649706457,0.0,0.009784735812133072,0.003913894324853229,0.005870841487279843,0.005870841487279843,0.0,0.0019569471624266144,0.0019569471624266144,0.0,0.003913894324853229,0.0,0.0019569471624266144,0.0019569471624266144,0.007827788649706457,0.003913894324853229,0.0,0.0,0.0,0.011741682974559686,0.0,0.007827788649706457,0.003913894324853229,0.005870841487279843,0.003913894324853229,0.023483365949119372,0.03718199608610567,0.019569471624266144,0.025440313111545987,0.003913894324853229,0.023483365949119372,0.01761252446183953,0.0273972602739726,0.03131115459882583,0.029354207436399216,0.023483365949119372,0.023483365949119372,0.029354207436399216,0.0136986301369863,0.0273972602739726,0.01761252446183953,0.0,0.021526418786692758,0.0136986301369863,0.009784735812133072,0.033268101761252444,0.019569471624266144,0.023483365949119372,0.021526418786692758,0.011741682974559686,0.003913894324853229,0.011741682974559686,0.0136986301369863,0.029354207436399216,0.0,0.046966731898238745,0.021526418786692758,0.033268101761252444,0.007827788649706457,0.025440313111545987,0.025440313111545987,0.015655577299412915,0.029354207436399216,0.019569471624266144,0.0136986301369863,0.015655577299412915,0.023483365949119372,0.0410958904109589,0.025440313111545987,0.0273972602739726,0.025440313111545987,0.0410958904109589,0.021526418786692758,0.007827788649706457,0.01761252446183953,0.023483365949119372,0.0136986301369863,0.03522504892367906,0.007827788649706457,0.0273972602739726,0.019569471624266144,0.0136986301369863,0.0136986301369863,0.021526418786692758,0.03718199608610567,0.023483365949119372,0.003913894324853229,0.007827788649706457,0.025440313111545987,0.0136986301369863,0.03131115459882583,0.01761252446183953,0.0136986301369863,0.005870841487279843,0.01761252446183953,0.04500978473581213,0.0273972602739726,0.023483365949119372,0.011741682974559686,0.033268101761252444,0.009784735812133072,0.04500978473581213,0.0136986301369863,0.023483365949119372,0.025440313111545987,0.009784735812133072,0.029354207436399216,0.03131115459882583,0.011741682974559686,0.011741682974559686,0.025440313111545987,0.0273972602739726,0.03131115459882583,0.003913894324853229,0.03131115459882583,0.01761252446183953,0.003913894324853229,0.0410958904109589,0.03131115459882583,0.011741682974559686,0.015655577299412915,0.023483365949119372,0.025440313111545987,0.01761252446183953,0.005870841487279843,0.01761252446183953,0.0273972602739726,0.023483365949119372,0.033268101761252444,0.01761252446183953,0.021526418786692758,0.021526418786692758,0.0273972602739726,0.005870841487279843,0.019569471624266144,0.019569471624266144,0.03522504892367906,0.029354207436399216,0.0273972602739726,0.021526418786692758,0.019569471624266144,0.015655577299412915,0.03718199608610567,0.01761252446183953,0.03718199608610567,0.0136986301369863,0.043052837573385516,0.021526418786692758,0.025440313111545987,0.03131115459882583,0.03131115459882583,0.01761252446183953,0.0273972602739726,0.005870841487279843,0.01761252446183953,0.0273972602739726,0.033268101761252444,0.0273972602739726,0.021526418786692758,0.005870841487279843,0.019569471624266144,0.019569471624266144,0.046966731898238745,0.019569471624266144,0.0136986301369863,0.029354207436399216,0.03718199608610567,0.021526418786692758,0.04892367906066536,0.033268101761252444,0.009784735812133072,0.029354207436399216,0.0273972602739726,0.023483365949119372,0.021526418786692758,0.03522504892367906,0.015655577299412915,0.003913894324853229,0.03131115459882583,0.04500978473581213,0.0273972602739726,0.011741682974559686,0.03131115459882583,0.021526418786692758,0.019569471624266144,0.019569471624266144,0.025440313111545987,0.0273972602739726,0.0,0.03913894324853229,0.019569471624266144,0.0136986301369863,0.019569471624266144,0.0273972602739726,0.03131115459882583,0.043052837573385516,0.03522504892367906,0.021526418786692758,0.0136986301369863,0.0273972602739726,0.0273972602739726,0.0136986301369863,0.019569471624266144,0.011741682974559686,0.0,0.009784735812133072,0.023483365949119372,0.005870841487279843,0.023483365949119372,0.01761252446183953,0.0,0.023483365949119372,0.03131115459882583,0.005870841487279843,0.021526418786692758,0.019569471624266144,0.03131115459882583,0.029354207436399216,0.011741682974559686,0.0136986301369863,0.0136986301369863,0.025440313111545987,0.043052837573385516,0.043052837573385516,0.029354207436399216,0.003913894324853229,0.025440313111545987,0.021526418786692758,0.025440313111545987,0.005870841487279843,0.005870841487279843,0.007827788649706457,0.019569471624266144,0.003913894324853229,0.015655577299412915,0.029354207436399216,0.005870841487279843,0.01761252446183953,0.005870841487279843,0.0136986301369863,0.015655577299412915,0.003913894324853229,0.007827788649706457,0.0136986301369863,0.021526418786692758,0.007827788649706457,0.019569471624266144,0.015655577299412915,0.011741682974559686,0.011741682974559686,0.015655577299412915,0.005870841487279843,0.007827788649706457,0.003913894324853229,0.015655577299412915,0.011741682974559686,0.003913894324853229,0.009784735812133072,0.021526418786692758,0.005870841487279843,0.01761252446183953,0.021526418786692758,0.023483365949119372,0.011741682974559686,0.01761252446183953,0.023483365949119372,0.003913894324853229,0.005870841487279843,0.011741682974559686,0.007827788649706457,0.019569471624266144,0.011741682974559686,0.009784735812133072,0.01761252446183953,0.0136986301369863,0.011741682974559686,0.021526418786692758,0.015655577299412915,0.009784735812133072,0.019569471624266144,0.021526418786692758,0.0019569471624266144,0.01761252446183953,0.01761252446183953,0.019569471624266144,0.021526418786692758,0.009784735812133072,0.005870841487279843,0.01761252446183953,0.009784735812133072,0.01761252446183953,0.015655577299412915,0.009784735812133072,0.019569471624266144,0.007827788649706457,0.003913894324853229,0.03131115459882583,0.005870841487279843,0.005870841487279843,0.015655577299412915,0.007827788649706457,0.011741682974559686,0.015655577299412915,0.007827788649706457,0.007827788649706457,0.005870841487279843,0.021526418786692758,0.0136986301369863,0.007827788649706457,0.025440313111545987,0.007827788649706457,0.007827788649706457,0.0136986301369863,0.003913894324853229,0.011741682974559686,0.01761252446183953,0.021526418786692758,0.019569471624266144,0.0136986301369863,0.01761252446183953,0.029354207436399216,0.019569471624266144,0.015655577299412915,0.007827788649706457,0.011741682974559686,0.0136986301369863,0.005870841487279843,0.007827788649706457,0.029354207436399216,0.011741682974559686,0.01761252446183953,0.005870841487279843,0.009784735812133072,0.007827788649706457,0.015655577299412915,0.011741682974559686,0.025440313111545987,0.0136986301369863,0.005870841487279843,0.011741682974559686,0.01761252446183953,0.0019569471624266144,0.011741682974559686,0.011741682974559686,0.009784735812133072,0.01761252446183953,0.011741682974559686,0.007827788649706457,0.019569471624266144,0.011741682974559686,0.009784735812133072,0.015655577299412915,0.005870841487279843,0.005870841487279843,0.023483365949119372,0.015655577299412915,0.015655577299412915,0.0273972602739726,0.019569471624266144,0.025440313111545987,0.005870841487279843,0.009784735812133072,0.009784735812133072,0.009784735812133072,0.019569471624266144,0.009784735812133072,0.009784735812133072,0.005870841487279843,0.009784735812133072,0.007827788649706457,0.021526418786692758,0.005870841487279843,0.01761252446183953,0.005870841487279843,0.0019569471624266144,0.009784735812133072,0.019569471624266144,0.019569471624266144,0.011741682974559686,0.007827788649706457,0.009784735812133072,0.003913894324853229,0.009784735812133072,0.0273972602739726,0.01761252446183953,0.0273972602739726,0.0136986301369863,0.015655577299412915,0.007827788649706457,0.005870841487279843,0.0273972602739726,0.015655577299412915,0.015655577299412915,0.025440313111545987,0.0136986301369863,0.009784735812133072,0.011741682974559686,0.009784735812133072,0.015655577299412915,0.005870841487279843,0.019569471624266144,0.01761252446183953,0.021526418786692758,0.009784735812133072,0.009784735812133072,0.009784735812133072,0.01761252446183953,0.011741682974559686,0.005870841487279843,0.005870841487279843,0.005870841487279843,0.009784735812133072,0.0136986301369863,0.011741682974559686,0.009784735812133072,0.015655577299412915,0.01761252446183953,0.025440313111545987,0.005870841487279843,0.029354207436399216,0.019569471624266144,0.009784735812133072,0.011741682974559686,0.005870841487279843,0.005870841487279843],\"y0\":\" \",\"yaxis\":\"y\",\"type\":\"box\"}],                        {\"template\":{\"data\":{\"histogram2dcontour\":[{\"type\":\"histogram2dcontour\",\"colorbar\":{\"outlinewidth\":0,\"ticks\":\"\"},\"colorscale\":[[0.0,\"#0d0887\"],[0.1111111111111111,\"#46039f\"],[0.2222222222222222,\"#7201a8\"],[0.3333333333333333,\"#9c179e\"],[0.4444444444444444,\"#bd3786\"],[0.5555555555555556,\"#d8576b\"],[0.6666666666666666,\"#ed7953\"],[0.7777777777777778,\"#fb9f3a\"],[0.8888888888888888,\"#fdca26\"],[1.0,\"#f0f921\"]]}],\"choropleth\":[{\"type\":\"choropleth\",\"colorbar\":{\"outlinewidth\":0,\"ticks\":\"\"}}],\"histogram2d\":[{\"type\":\"histogram2d\",\"colorbar\":{\"outlinewidth\":0,\"ticks\":\"\"},\"colorscale\":[[0.0,\"#0d0887\"],[0.1111111111111111,\"#46039f\"],[0.2222222222222222,\"#7201a8\"],[0.3333333333333333,\"#9c179e\"],[0.4444444444444444,\"#bd3786\"],[0.5555555555555556,\"#d8576b\"],[0.6666666666666666,\"#ed7953\"],[0.7777777777777778,\"#fb9f3a\"],[0.8888888888888888,\"#fdca26\"],[1.0,\"#f0f921\"]]}],\"heatmap\":[{\"type\":\"heatmap\",\"colorbar\":{\"outlinewidth\":0,\"ticks\":\"\"},\"colorscale\":[[0.0,\"#0d0887\"],[0.1111111111111111,\"#46039f\"],[0.2222222222222222,\"#7201a8\"],[0.3333333333333333,\"#9c179e\"],[0.4444444444444444,\"#bd3786\"],[0.5555555555555556,\"#d8576b\"],[0.6666666666666666,\"#ed7953\"],[0.7777777777777778,\"#fb9f3a\"],[0.8888888888888888,\"#fdca26\"],[1.0,\"#f0f921\"]]}],\"heatmapgl\":[{\"type\":\"heatmapgl\",\"colorbar\":{\"outlinewidth\":0,\"ticks\":\"\"},\"colorscale\":[[0.0,\"#0d0887\"],[0.1111111111111111,\"#46039f\"],[0.2222222222222222,\"#7201a8\"],[0.3333333333333333,\"#9c179e\"],[0.4444444444444444,\"#bd3786\"],[0.5555555555555556,\"#d8576b\"],[0.6666666666666666,\"#ed7953\"],[0.7777777777777778,\"#fb9f3a\"],[0.8888888888888888,\"#fdca26\"],[1.0,\"#f0f921\"]]}],\"contourcarpet\":[{\"type\":\"contourcarpet\",\"colorbar\":{\"outlinewidth\":0,\"ticks\":\"\"}}],\"contour\":[{\"type\":\"contour\",\"colorbar\":{\"outlinewidth\":0,\"ticks\":\"\"},\"colorscale\":[[0.0,\"#0d0887\"],[0.1111111111111111,\"#46039f\"],[0.2222222222222222,\"#7201a8\"],[0.3333333333333333,\"#9c179e\"],[0.4444444444444444,\"#bd3786\"],[0.5555555555555556,\"#d8576b\"],[0.6666666666666666,\"#ed7953\"],[0.7777777777777778,\"#fb9f3a\"],[0.8888888888888888,\"#fdca26\"],[1.0,\"#f0f921\"]]}],\"surface\":[{\"type\":\"surface\",\"colorbar\":{\"outlinewidth\":0,\"ticks\":\"\"},\"colorscale\":[[0.0,\"#0d0887\"],[0.1111111111111111,\"#46039f\"],[0.2222222222222222,\"#7201a8\"],[0.3333333333333333,\"#9c179e\"],[0.4444444444444444,\"#bd3786\"],[0.5555555555555556,\"#d8576b\"],[0.6666666666666666,\"#ed7953\"],[0.7777777777777778,\"#fb9f3a\"],[0.8888888888888888,\"#fdca26\"],[1.0,\"#f0f921\"]]}],\"mesh3d\":[{\"type\":\"mesh3d\",\"colorbar\":{\"outlinewidth\":0,\"ticks\":\"\"}}],\"scatter\":[{\"fillpattern\":{\"fillmode\":\"overlay\",\"size\":10,\"solidity\":0.2},\"type\":\"scatter\"}],\"parcoords\":[{\"type\":\"parcoords\",\"line\":{\"colorbar\":{\"outlinewidth\":0,\"ticks\":\"\"}}}],\"scatterpolargl\":[{\"type\":\"scatterpolargl\",\"marker\":{\"colorbar\":{\"outlinewidth\":0,\"ticks\":\"\"}}}],\"bar\":[{\"error_x\":{\"color\":\"#2a3f5f\"},\"error_y\":{\"color\":\"#2a3f5f\"},\"marker\":{\"line\":{\"color\":\"#E5ECF6\",\"width\":0.5},\"pattern\":{\"fillmode\":\"overlay\",\"size\":10,\"solidity\":0.2}},\"type\":\"bar\"}],\"scattergeo\":[{\"type\":\"scattergeo\",\"marker\":{\"colorbar\":{\"outlinewidth\":0,\"ticks\":\"\"}}}],\"scatterpolar\":[{\"type\":\"scatterpolar\",\"marker\":{\"colorbar\":{\"outlinewidth\":0,\"ticks\":\"\"}}}],\"histogram\":[{\"marker\":{\"pattern\":{\"fillmode\":\"overlay\",\"size\":10,\"solidity\":0.2}},\"type\":\"histogram\"}],\"scattergl\":[{\"type\":\"scattergl\",\"marker\":{\"colorbar\":{\"outlinewidth\":0,\"ticks\":\"\"}}}],\"scatter3d\":[{\"type\":\"scatter3d\",\"line\":{\"colorbar\":{\"outlinewidth\":0,\"ticks\":\"\"}},\"marker\":{\"colorbar\":{\"outlinewidth\":0,\"ticks\":\"\"}}}],\"scattermapbox\":[{\"type\":\"scattermapbox\",\"marker\":{\"colorbar\":{\"outlinewidth\":0,\"ticks\":\"\"}}}],\"scatterternary\":[{\"type\":\"scatterternary\",\"marker\":{\"colorbar\":{\"outlinewidth\":0,\"ticks\":\"\"}}}],\"scattercarpet\":[{\"type\":\"scattercarpet\",\"marker\":{\"colorbar\":{\"outlinewidth\":0,\"ticks\":\"\"}}}],\"carpet\":[{\"aaxis\":{\"endlinecolor\":\"#2a3f5f\",\"gridcolor\":\"white\",\"linecolor\":\"white\",\"minorgridcolor\":\"white\",\"startlinecolor\":\"#2a3f5f\"},\"baxis\":{\"endlinecolor\":\"#2a3f5f\",\"gridcolor\":\"white\",\"linecolor\":\"white\",\"minorgridcolor\":\"white\",\"startlinecolor\":\"#2a3f5f\"},\"type\":\"carpet\"}],\"table\":[{\"cells\":{\"fill\":{\"color\":\"#EBF0F8\"},\"line\":{\"color\":\"white\"}},\"header\":{\"fill\":{\"color\":\"#C8D4E3\"},\"line\":{\"color\":\"white\"}},\"type\":\"table\"}],\"barpolar\":[{\"marker\":{\"line\":{\"color\":\"#E5ECF6\",\"width\":0.5},\"pattern\":{\"fillmode\":\"overlay\",\"size\":10,\"solidity\":0.2}},\"type\":\"barpolar\"}],\"pie\":[{\"automargin\":true,\"type\":\"pie\"}]},\"layout\":{\"autotypenumbers\":\"strict\",\"colorway\":[\"#636efa\",\"#EF553B\",\"#00cc96\",\"#ab63fa\",\"#FFA15A\",\"#19d3f3\",\"#FF6692\",\"#B6E880\",\"#FF97FF\",\"#FECB52\"],\"font\":{\"color\":\"#2a3f5f\"},\"hovermode\":\"closest\",\"hoverlabel\":{\"align\":\"left\"},\"paper_bgcolor\":\"white\",\"plot_bgcolor\":\"#E5ECF6\",\"polar\":{\"bgcolor\":\"#E5ECF6\",\"angularaxis\":{\"gridcolor\":\"white\",\"linecolor\":\"white\",\"ticks\":\"\"},\"radialaxis\":{\"gridcolor\":\"white\",\"linecolor\":\"white\",\"ticks\":\"\"}},\"ternary\":{\"bgcolor\":\"#E5ECF6\",\"aaxis\":{\"gridcolor\":\"white\",\"linecolor\":\"white\",\"ticks\":\"\"},\"baxis\":{\"gridcolor\":\"white\",\"linecolor\":\"white\",\"ticks\":\"\"},\"caxis\":{\"gridcolor\":\"white\",\"linecolor\":\"white\",\"ticks\":\"\"}},\"coloraxis\":{\"colorbar\":{\"outlinewidth\":0,\"ticks\":\"\"}},\"colorscale\":{\"sequential\":[[0.0,\"#0d0887\"],[0.1111111111111111,\"#46039f\"],[0.2222222222222222,\"#7201a8\"],[0.3333333333333333,\"#9c179e\"],[0.4444444444444444,\"#bd3786\"],[0.5555555555555556,\"#d8576b\"],[0.6666666666666666,\"#ed7953\"],[0.7777777777777778,\"#fb9f3a\"],[0.8888888888888888,\"#fdca26\"],[1.0,\"#f0f921\"]],\"sequentialminus\":[[0.0,\"#0d0887\"],[0.1111111111111111,\"#46039f\"],[0.2222222222222222,\"#7201a8\"],[0.3333333333333333,\"#9c179e\"],[0.4444444444444444,\"#bd3786\"],[0.5555555555555556,\"#d8576b\"],[0.6666666666666666,\"#ed7953\"],[0.7777777777777778,\"#fb9f3a\"],[0.8888888888888888,\"#fdca26\"],[1.0,\"#f0f921\"]],\"diverging\":[[0,\"#8e0152\"],[0.1,\"#c51b7d\"],[0.2,\"#de77ae\"],[0.3,\"#f1b6da\"],[0.4,\"#fde0ef\"],[0.5,\"#f7f7f7\"],[0.6,\"#e6f5d0\"],[0.7,\"#b8e186\"],[0.8,\"#7fbc41\"],[0.9,\"#4d9221\"],[1,\"#276419\"]]},\"xaxis\":{\"gridcolor\":\"white\",\"linecolor\":\"white\",\"ticks\":\"\",\"title\":{\"standoff\":15},\"zerolinecolor\":\"white\",\"automargin\":true,\"zerolinewidth\":2},\"yaxis\":{\"gridcolor\":\"white\",\"linecolor\":\"white\",\"ticks\":\"\",\"title\":{\"standoff\":15},\"zerolinecolor\":\"white\",\"automargin\":true,\"zerolinewidth\":2},\"scene\":{\"xaxis\":{\"backgroundcolor\":\"#E5ECF6\",\"gridcolor\":\"white\",\"linecolor\":\"white\",\"showbackground\":true,\"ticks\":\"\",\"zerolinecolor\":\"white\",\"gridwidth\":2},\"yaxis\":{\"backgroundcolor\":\"#E5ECF6\",\"gridcolor\":\"white\",\"linecolor\":\"white\",\"showbackground\":true,\"ticks\":\"\",\"zerolinecolor\":\"white\",\"gridwidth\":2},\"zaxis\":{\"backgroundcolor\":\"#E5ECF6\",\"gridcolor\":\"white\",\"linecolor\":\"white\",\"showbackground\":true,\"ticks\":\"\",\"zerolinecolor\":\"white\",\"gridwidth\":2}},\"shapedefaults\":{\"line\":{\"color\":\"#2a3f5f\"}},\"annotationdefaults\":{\"arrowcolor\":\"#2a3f5f\",\"arrowhead\":0,\"arrowwidth\":1},\"geo\":{\"bgcolor\":\"white\",\"landcolor\":\"#E5ECF6\",\"subunitcolor\":\"white\",\"showland\":true,\"showlakes\":true,\"lakecolor\":\"white\"},\"title\":{\"x\":0.05},\"mapbox\":{\"style\":\"light\"}}},\"xaxis\":{\"anchor\":\"y\",\"domain\":[0.0,1.0],\"title\":{\"text\":\"seeding method\"}},\"yaxis\":{\"anchor\":\"x\",\"domain\":[0.0,1.0],\"title\":{\"text\":\"2-seed transitivity\"}},\"legend\":{\"tracegroupgap\":0},\"margin\":{\"t\":60},\"boxmode\":\"group\"},                        {\"responsive\": true}                    ).then(function(){\n",
       "                            \n",
       "var gd = document.getElementById('e0d86a33-f82d-402f-bca6-a33fb2694693');\n",
       "var x = new MutationObserver(function (mutations, observer) {{\n",
       "        var display = window.getComputedStyle(gd).display;\n",
       "        if (!display || display === 'none') {{\n",
       "            console.log([gd, 'removed!']);\n",
       "            Plotly.purge(gd);\n",
       "            observer.disconnect();\n",
       "        }}\n",
       "}});\n",
       "\n",
       "// Listen for the removal of the full notebook cells\n",
       "var notebookContainer = gd.closest('#notebook-container');\n",
       "if (notebookContainer) {{\n",
       "    x.observe(notebookContainer, {childList: true});\n",
       "}}\n",
       "\n",
       "// Listen for the clearing of the current output cell\n",
       "var outputEl = gd.closest('.output');\n",
       "if (outputEl) {{\n",
       "    x.observe(outputEl, {childList: true});\n",
       "}}\n",
       "\n",
       "                        })                };                });            </script>        </div>"
      ]
     },
     "metadata": {},
     "output_type": "display_data"
    }
   ],
   "source": [
    "import plotly.express as px\n",
    "fig = px.box(big_dat, x=\"seeding method\", y=\"2-seed transitivity\")\n",
    "fig.show()"
   ]
  },
  {
   "cell_type": "markdown",
   "id": "13951e31",
   "metadata": {},
   "source": [
    "It is expected that the friend method will give higher `2-seed transitivity` than pair method. \n",
    "By the frienship paradox, both seeds in the friend method will have higher degree than the original egos.\n",
    "\n",
    "\n",
    "But in the pair method, the ego in the pair (on average) has lower degree than the alter. And intuitively, we know that nodes with higher degrees are more likely to be involved in triangles (in small world networks for example, triangles mostly form around the hubs). So the friend method would likely have seeds involved in more triangles. "
   ]
  },
  {
   "cell_type": "markdown",
   "id": "ecda97df",
   "metadata": {},
   "source": [
    "## on the empirical networks\n",
    "\n",
    "on village 1, the faster algorithm shoudl take 40 seconds. The old algorithm took 1 min 30. "
   ]
  },
  {
   "cell_type": "code",
   "execution_count": 6,
   "id": "75a9288b",
   "metadata": {},
   "outputs": [
    {
     "name": "stdout",
     "output_type": "stream",
     "text": [
      "['1', '2', '3', '4', '6', '9', '12', '15', '19', '20', '21', '23', '24', '25', '29', '31', '32', '33', '36', '39', '42', '43', '45', '46', '47', '48', '50', '51', '52', '55', '57', '59', '60', '62', '64', '65', '67', '68', '70', '71', '72', '73', '75']\n"
     ]
    }
   ],
   "source": [
    "#Banerjee vilages\n",
    "cross_sec = pd.read_stata(\"banerjee12_data/datav4.0/Stata Replication/data/cross_sectional.dta\")\n",
    "villages = [str(int(vil)) for vil in cross_sec['village']]\n",
    "print(villages)"
   ]
  },
  {
   "cell_type": "code",
   "execution_count": 7,
   "id": "856e4508",
   "metadata": {},
   "outputs": [
    {
     "name": "stdout",
     "output_type": "stream",
     "text": [
      "1\n",
      "2\n",
      "3\n",
      "4\n",
      "6\n",
      "9\n",
      "12\n",
      "15\n",
      "19\n",
      "20\n",
      "21\n",
      "23\n",
      "24\n",
      "25\n",
      "29\n",
      "31\n",
      "32\n",
      "33\n",
      "36\n",
      "39\n",
      "42\n",
      "43\n",
      "45\n",
      "46\n",
      "47\n",
      "48\n",
      "50\n",
      "51\n",
      "52\n",
      "55\n",
      "57\n",
      "59\n",
      "60\n",
      "62\n",
      "64\n",
      "65\n",
      "67\n",
      "68\n",
      "70\n",
      "71\n",
      "72\n",
      "73\n",
      "75\n",
      "CPU times: user 38min 18s, sys: 14.8 s, total: 38min 32s\n",
      "Wall time: 40min 34s\n"
     ]
    }
   ],
   "source": [
    "%%time\n",
    "\n",
    "#take smaller subset. on village 1 this shoudl take around 40 sec\n",
    "nsamp = 50\n",
    "big_dat = pd.DataFrame({\"seeding method\": ['random']*nsamp + ['friend']*nsamp + ['pair']*nsamp})\n",
    "\n",
    "for vil in villages:\n",
    "    \n",
    "    path = 'banerjee12_data/datav4.0/Data/1. Network Data/Adjacency Matrices/adj_allVillageRelationships_HH_vilno_{}.csv'.format(vil)\n",
    "    adj_mat = pd.read_csv(path,header = None)\n",
    "    current_g = nx.from_pandas_adjacency(adj_mat)\n",
    "    print(vil)\n",
    "    \n",
    "    #append results as columns\n",
    "    ( rtran, ftran, ptran) = sim_2seed_transitivity(current_g, p = 0.2, nsamp = nsamp)\n",
    "    big_dat[\"2tran\" + \" vil{}_{}\".format(vil,nx.number_of_nodes(current_g))] = rtran + ftran + ptran\n",
    "    \n",
    "    #big_dat['tran'+ \" vil {}\".format(vil)] = nx.transitivity(current_g)"
   ]
  },
  {
   "cell_type": "code",
   "execution_count": 8,
   "id": "033153b3",
   "metadata": {
    "scrolled": true
   },
   "outputs": [
    {
     "data": {
      "text/html": [
       "<div>\n",
       "<style scoped>\n",
       "    .dataframe tbody tr th:only-of-type {\n",
       "        vertical-align: middle;\n",
       "    }\n",
       "\n",
       "    .dataframe tbody tr th {\n",
       "        vertical-align: top;\n",
       "    }\n",
       "\n",
       "    .dataframe thead th {\n",
       "        text-align: right;\n",
       "    }\n",
       "</style>\n",
       "<table border=\"1\" class=\"dataframe\">\n",
       "  <thead>\n",
       "    <tr style=\"text-align: right;\">\n",
       "      <th></th>\n",
       "      <th>seeding method</th>\n",
       "      <th>2tran vil1_182</th>\n",
       "      <th>2tran vil2_195</th>\n",
       "      <th>2tran vil3_292</th>\n",
       "      <th>2tran vil4_239</th>\n",
       "      <th>2tran vil6_114</th>\n",
       "      <th>2tran vil9_207</th>\n",
       "      <th>2tran vil12_175</th>\n",
       "      <th>2tran vil15_171</th>\n",
       "      <th>2tran vil19_204</th>\n",
       "      <th>...</th>\n",
       "      <th>2tran vil62_190</th>\n",
       "      <th>2tran vil64_257</th>\n",
       "      <th>2tran vil65_297</th>\n",
       "      <th>2tran vil67_193</th>\n",
       "      <th>2tran vil68_153</th>\n",
       "      <th>2tran vil70_205</th>\n",
       "      <th>2tran vil71_298</th>\n",
       "      <th>2tran vil72_223</th>\n",
       "      <th>2tran vil73_174</th>\n",
       "      <th>2tran vil75_172</th>\n",
       "    </tr>\n",
       "  </thead>\n",
       "  <tbody>\n",
       "    <tr>\n",
       "      <th>0</th>\n",
       "      <td>random</td>\n",
       "      <td>0.005836</td>\n",
       "      <td>0.007828</td>\n",
       "      <td>0.003424</td>\n",
       "      <td>0.003715</td>\n",
       "      <td>0.007079</td>\n",
       "      <td>0.003728</td>\n",
       "      <td>0.008706</td>\n",
       "      <td>0.004686</td>\n",
       "      <td>0.003193</td>\n",
       "      <td>...</td>\n",
       "      <td>0.006273</td>\n",
       "      <td>0.006832</td>\n",
       "      <td>0.011124</td>\n",
       "      <td>0.009409</td>\n",
       "      <td>0.003992</td>\n",
       "      <td>0.013015</td>\n",
       "      <td>0.007663</td>\n",
       "      <td>0.006693</td>\n",
       "      <td>0.006261</td>\n",
       "      <td>0.006735</td>\n",
       "    </tr>\n",
       "    <tr>\n",
       "      <th>1</th>\n",
       "      <td>random</td>\n",
       "      <td>0.003428</td>\n",
       "      <td>0.006749</td>\n",
       "      <td>0.004584</td>\n",
       "      <td>0.003238</td>\n",
       "      <td>0.007895</td>\n",
       "      <td>0.009411</td>\n",
       "      <td>0.007059</td>\n",
       "      <td>0.007105</td>\n",
       "      <td>0.008541</td>\n",
       "      <td>...</td>\n",
       "      <td>0.004351</td>\n",
       "      <td>0.004212</td>\n",
       "      <td>0.008541</td>\n",
       "      <td>0.005898</td>\n",
       "      <td>0.006448</td>\n",
       "      <td>0.007685</td>\n",
       "      <td>0.005955</td>\n",
       "      <td>0.004151</td>\n",
       "      <td>0.005509</td>\n",
       "      <td>0.014662</td>\n",
       "    </tr>\n",
       "    <tr>\n",
       "      <th>2</th>\n",
       "      <td>random</td>\n",
       "      <td>0.008607</td>\n",
       "      <td>0.002025</td>\n",
       "      <td>0.003369</td>\n",
       "      <td>0.002857</td>\n",
       "      <td>0.009529</td>\n",
       "      <td>0.005561</td>\n",
       "      <td>0.004353</td>\n",
       "      <td>0.005971</td>\n",
       "      <td>0.006164</td>\n",
       "      <td>...</td>\n",
       "      <td>0.005970</td>\n",
       "      <td>0.005615</td>\n",
       "      <td>0.006952</td>\n",
       "      <td>0.012147</td>\n",
       "      <td>0.006346</td>\n",
       "      <td>0.007892</td>\n",
       "      <td>0.011310</td>\n",
       "      <td>0.003269</td>\n",
       "      <td>0.004946</td>\n",
       "      <td>0.010252</td>\n",
       "    </tr>\n",
       "    <tr>\n",
       "      <th>3</th>\n",
       "      <td>random</td>\n",
       "      <td>0.005179</td>\n",
       "      <td>0.002834</td>\n",
       "      <td>0.003866</td>\n",
       "      <td>0.004096</td>\n",
       "      <td>0.006262</td>\n",
       "      <td>0.006661</td>\n",
       "      <td>0.006118</td>\n",
       "      <td>0.004006</td>\n",
       "      <td>0.005793</td>\n",
       "      <td>...</td>\n",
       "      <td>0.009916</td>\n",
       "      <td>0.004118</td>\n",
       "      <td>0.004966</td>\n",
       "      <td>0.006811</td>\n",
       "      <td>0.004197</td>\n",
       "      <td>0.006280</td>\n",
       "      <td>0.010248</td>\n",
       "      <td>0.006797</td>\n",
       "      <td>0.005697</td>\n",
       "      <td>0.006497</td>\n",
       "    </tr>\n",
       "    <tr>\n",
       "      <th>4</th>\n",
       "      <td>random</td>\n",
       "      <td>0.002918</td>\n",
       "      <td>0.002295</td>\n",
       "      <td>0.003203</td>\n",
       "      <td>0.005524</td>\n",
       "      <td>0.008984</td>\n",
       "      <td>0.005928</td>\n",
       "      <td>0.002588</td>\n",
       "      <td>0.004762</td>\n",
       "      <td>0.005570</td>\n",
       "      <td>...</td>\n",
       "      <td>0.007285</td>\n",
       "      <td>0.008610</td>\n",
       "      <td>0.006058</td>\n",
       "      <td>0.010813</td>\n",
       "      <td>0.005425</td>\n",
       "      <td>0.009379</td>\n",
       "      <td>0.005678</td>\n",
       "      <td>0.005137</td>\n",
       "      <td>0.005885</td>\n",
       "      <td>0.012338</td>\n",
       "    </tr>\n",
       "    <tr>\n",
       "      <th>...</th>\n",
       "      <td>...</td>\n",
       "      <td>...</td>\n",
       "      <td>...</td>\n",
       "      <td>...</td>\n",
       "      <td>...</td>\n",
       "      <td>...</td>\n",
       "      <td>...</td>\n",
       "      <td>...</td>\n",
       "      <td>...</td>\n",
       "      <td>...</td>\n",
       "      <td>...</td>\n",
       "      <td>...</td>\n",
       "      <td>...</td>\n",
       "      <td>...</td>\n",
       "      <td>...</td>\n",
       "      <td>...</td>\n",
       "      <td>...</td>\n",
       "      <td>...</td>\n",
       "      <td>...</td>\n",
       "      <td>...</td>\n",
       "      <td>...</td>\n",
       "    </tr>\n",
       "    <tr>\n",
       "      <th>145</th>\n",
       "      <td>pair</td>\n",
       "      <td>0.011963</td>\n",
       "      <td>0.009313</td>\n",
       "      <td>0.010272</td>\n",
       "      <td>0.004286</td>\n",
       "      <td>0.015246</td>\n",
       "      <td>0.013322</td>\n",
       "      <td>0.005412</td>\n",
       "      <td>0.003855</td>\n",
       "      <td>0.011734</td>\n",
       "      <td>...</td>\n",
       "      <td>0.012142</td>\n",
       "      <td>0.012635</td>\n",
       "      <td>0.011786</td>\n",
       "      <td>0.011375</td>\n",
       "      <td>0.012180</td>\n",
       "      <td>0.013801</td>\n",
       "      <td>0.010848</td>\n",
       "      <td>0.009443</td>\n",
       "      <td>0.015276</td>\n",
       "      <td>0.015496</td>\n",
       "    </tr>\n",
       "    <tr>\n",
       "      <th>146</th>\n",
       "      <td>pair</td>\n",
       "      <td>0.008753</td>\n",
       "      <td>0.010393</td>\n",
       "      <td>0.009333</td>\n",
       "      <td>0.005715</td>\n",
       "      <td>0.012524</td>\n",
       "      <td>0.004461</td>\n",
       "      <td>0.008471</td>\n",
       "      <td>0.009448</td>\n",
       "      <td>0.012105</td>\n",
       "      <td>...</td>\n",
       "      <td>0.011737</td>\n",
       "      <td>0.010295</td>\n",
       "      <td>0.006224</td>\n",
       "      <td>0.013341</td>\n",
       "      <td>0.013408</td>\n",
       "      <td>0.013553</td>\n",
       "      <td>0.015142</td>\n",
       "      <td>0.011363</td>\n",
       "      <td>0.010142</td>\n",
       "      <td>0.011444</td>\n",
       "    </tr>\n",
       "    <tr>\n",
       "      <th>147</th>\n",
       "      <td>pair</td>\n",
       "      <td>0.012547</td>\n",
       "      <td>0.012822</td>\n",
       "      <td>0.009168</td>\n",
       "      <td>0.006572</td>\n",
       "      <td>0.011707</td>\n",
       "      <td>0.008433</td>\n",
       "      <td>0.010706</td>\n",
       "      <td>0.006878</td>\n",
       "      <td>0.006981</td>\n",
       "      <td>...</td>\n",
       "      <td>0.011535</td>\n",
       "      <td>0.008423</td>\n",
       "      <td>0.010627</td>\n",
       "      <td>0.008566</td>\n",
       "      <td>0.014227</td>\n",
       "      <td>0.011611</td>\n",
       "      <td>0.015003</td>\n",
       "      <td>0.011259</td>\n",
       "      <td>0.009453</td>\n",
       "      <td>0.014900</td>\n",
       "    </tr>\n",
       "    <tr>\n",
       "      <th>148</th>\n",
       "      <td>pair</td>\n",
       "      <td>0.016267</td>\n",
       "      <td>0.005399</td>\n",
       "      <td>0.008395</td>\n",
       "      <td>0.008001</td>\n",
       "      <td>0.007351</td>\n",
       "      <td>0.013139</td>\n",
       "      <td>0.009529</td>\n",
       "      <td>0.006349</td>\n",
       "      <td>0.007724</td>\n",
       "      <td>...</td>\n",
       "      <td>0.010321</td>\n",
       "      <td>0.009733</td>\n",
       "      <td>0.011322</td>\n",
       "      <td>0.012428</td>\n",
       "      <td>0.008700</td>\n",
       "      <td>0.008594</td>\n",
       "      <td>0.009417</td>\n",
       "      <td>0.009858</td>\n",
       "      <td>0.011770</td>\n",
       "      <td>0.014602</td>\n",
       "    </tr>\n",
       "    <tr>\n",
       "      <th>149</th>\n",
       "      <td>pair</td>\n",
       "      <td>0.010869</td>\n",
       "      <td>0.011877</td>\n",
       "      <td>0.006572</td>\n",
       "      <td>0.006763</td>\n",
       "      <td>0.012252</td>\n",
       "      <td>0.010939</td>\n",
       "      <td>0.009529</td>\n",
       "      <td>0.006274</td>\n",
       "      <td>0.009506</td>\n",
       "      <td>...</td>\n",
       "      <td>0.013053</td>\n",
       "      <td>0.006832</td>\n",
       "      <td>0.013242</td>\n",
       "      <td>0.012147</td>\n",
       "      <td>0.010747</td>\n",
       "      <td>0.009421</td>\n",
       "      <td>0.012233</td>\n",
       "      <td>0.010118</td>\n",
       "      <td>0.012709</td>\n",
       "      <td>0.017642</td>\n",
       "    </tr>\n",
       "  </tbody>\n",
       "</table>\n",
       "<p>150 rows × 44 columns</p>\n",
       "</div>"
      ],
      "text/plain": [
       "    seeding method  2tran vil1_182  2tran vil2_195  2tran vil3_292  \\\n",
       "0           random        0.005836        0.007828        0.003424   \n",
       "1           random        0.003428        0.006749        0.004584   \n",
       "2           random        0.008607        0.002025        0.003369   \n",
       "3           random        0.005179        0.002834        0.003866   \n",
       "4           random        0.002918        0.002295        0.003203   \n",
       "..             ...             ...             ...             ...   \n",
       "145           pair        0.011963        0.009313        0.010272   \n",
       "146           pair        0.008753        0.010393        0.009333   \n",
       "147           pair        0.012547        0.012822        0.009168   \n",
       "148           pair        0.016267        0.005399        0.008395   \n",
       "149           pair        0.010869        0.011877        0.006572   \n",
       "\n",
       "     2tran vil4_239  2tran vil6_114  2tran vil9_207  2tran vil12_175  \\\n",
       "0          0.003715        0.007079        0.003728         0.008706   \n",
       "1          0.003238        0.007895        0.009411         0.007059   \n",
       "2          0.002857        0.009529        0.005561         0.004353   \n",
       "3          0.004096        0.006262        0.006661         0.006118   \n",
       "4          0.005524        0.008984        0.005928         0.002588   \n",
       "..              ...             ...             ...              ...   \n",
       "145        0.004286        0.015246        0.013322         0.005412   \n",
       "146        0.005715        0.012524        0.004461         0.008471   \n",
       "147        0.006572        0.011707        0.008433         0.010706   \n",
       "148        0.008001        0.007351        0.013139         0.009529   \n",
       "149        0.006763        0.012252        0.010939         0.009529   \n",
       "\n",
       "     2tran vil15_171  2tran vil19_204  ...  2tran vil62_190  2tran vil64_257  \\\n",
       "0           0.004686         0.003193  ...         0.006273         0.006832   \n",
       "1           0.007105         0.008541  ...         0.004351         0.004212   \n",
       "2           0.005971         0.006164  ...         0.005970         0.005615   \n",
       "3           0.004006         0.005793  ...         0.009916         0.004118   \n",
       "4           0.004762         0.005570  ...         0.007285         0.008610   \n",
       "..               ...              ...  ...              ...              ...   \n",
       "145         0.003855         0.011734  ...         0.012142         0.012635   \n",
       "146         0.009448         0.012105  ...         0.011737         0.010295   \n",
       "147         0.006878         0.006981  ...         0.011535         0.008423   \n",
       "148         0.006349         0.007724  ...         0.010321         0.009733   \n",
       "149         0.006274         0.009506  ...         0.013053         0.006832   \n",
       "\n",
       "     2tran vil65_297  2tran vil67_193  2tran vil68_153  2tran vil70_205  \\\n",
       "0           0.011124         0.009409         0.003992         0.013015   \n",
       "1           0.008541         0.005898         0.006448         0.007685   \n",
       "2           0.006952         0.012147         0.006346         0.007892   \n",
       "3           0.004966         0.006811         0.004197         0.006280   \n",
       "4           0.006058         0.010813         0.005425         0.009379   \n",
       "..               ...              ...              ...              ...   \n",
       "145         0.011786         0.011375         0.012180         0.013801   \n",
       "146         0.006224         0.013341         0.013408         0.013553   \n",
       "147         0.010627         0.008566         0.014227         0.011611   \n",
       "148         0.011322         0.012428         0.008700         0.008594   \n",
       "149         0.013242         0.012147         0.010747         0.009421   \n",
       "\n",
       "     2tran vil71_298  2tran vil72_223  2tran vil73_174  2tran vil75_172  \n",
       "0           0.007663         0.006693         0.006261         0.006735  \n",
       "1           0.005955         0.004151         0.005509         0.014662  \n",
       "2           0.011310         0.003269         0.004946         0.010252  \n",
       "3           0.010248         0.006797         0.005697         0.006497  \n",
       "4           0.005678         0.005137         0.005885         0.012338  \n",
       "..               ...              ...              ...              ...  \n",
       "145         0.010848         0.009443         0.015276         0.015496  \n",
       "146         0.015142         0.011363         0.010142         0.011444  \n",
       "147         0.015003         0.011259         0.009453         0.014900  \n",
       "148         0.009417         0.009858         0.011770         0.014602  \n",
       "149         0.012233         0.010118         0.012709         0.017642  \n",
       "\n",
       "[150 rows x 44 columns]"
      ]
     },
     "execution_count": 8,
     "metadata": {},
     "output_type": "execute_result"
    }
   ],
   "source": [
    "big_dat"
   ]
  },
  {
   "cell_type": "code",
   "execution_count": 9,
   "id": "c90e1e3a",
   "metadata": {},
   "outputs": [],
   "source": [
    "big_dat.to_csv(\"big_dat_v.csv\", index = False)"
   ]
  },
  {
   "cell_type": "markdown",
   "id": "c8b1395d",
   "metadata": {},
   "source": [
    "for plots, see `transitivity_plot.Rmd`"
   ]
  }
 ],
 "metadata": {
  "kernelspec": {
   "display_name": "Python 3 (ipykernel)",
   "language": "python",
   "name": "python3"
  },
  "language_info": {
   "codemirror_mode": {
    "name": "ipython",
    "version": 3
   },
   "file_extension": ".py",
   "mimetype": "text/x-python",
   "name": "python",
   "nbconvert_exporter": "python",
   "pygments_lexer": "ipython3",
   "version": "3.8.8"
  }
 },
 "nbformat": 4,
 "nbformat_minor": 5
}
