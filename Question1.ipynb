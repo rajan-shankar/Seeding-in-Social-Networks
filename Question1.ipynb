{
 "cells": [
  {
   "cell_type": "code",
   "execution_count": 1,
   "id": "a6de7a1e",
   "metadata": {},
   "outputs": [],
   "source": [
    "import networkx as nx\n",
    "import numpy as np\n",
    "import pandas as pd\n",
    "import random\n",
    "import glob\n",
    "\n",
    "from functions import *"
   ]
  },
  {
   "cell_type": "code",
   "execution_count": 2,
   "id": "19baa7fd",
   "metadata": {},
   "outputs": [
    {
     "data": {
      "text/html": [
       "<div>\n",
       "<style scoped>\n",
       "    .dataframe tbody tr th:only-of-type {\n",
       "        vertical-align: middle;\n",
       "    }\n",
       "\n",
       "    .dataframe tbody tr th {\n",
       "        vertical-align: top;\n",
       "    }\n",
       "\n",
       "    .dataframe thead th {\n",
       "        text-align: right;\n",
       "    }\n",
       "</style>\n",
       "<table border=\"1\" class=\"dataframe\">\n",
       "  <thead>\n",
       "    <tr style=\"text-align: right;\">\n",
       "      <th></th>\n",
       "      <th>Targeting Method</th>\n",
       "      <th>Measure</th>\n",
       "    </tr>\n",
       "  </thead>\n",
       "  <tbody>\n",
       "    <tr>\n",
       "      <th>0</th>\n",
       "      <td>Friend</td>\n",
       "      <td>Betweeness</td>\n",
       "    </tr>\n",
       "    <tr>\n",
       "      <th>1</th>\n",
       "      <td>Pair</td>\n",
       "      <td>Betweeness</td>\n",
       "    </tr>\n",
       "    <tr>\n",
       "      <th>2</th>\n",
       "      <td>Random</td>\n",
       "      <td>Betweeness</td>\n",
       "    </tr>\n",
       "    <tr>\n",
       "      <th>3</th>\n",
       "      <td>Friend</td>\n",
       "      <td>Degree</td>\n",
       "    </tr>\n",
       "    <tr>\n",
       "      <th>4</th>\n",
       "      <td>Pair</td>\n",
       "      <td>Degree</td>\n",
       "    </tr>\n",
       "    <tr>\n",
       "      <th>5</th>\n",
       "      <td>Random</td>\n",
       "      <td>Degree</td>\n",
       "    </tr>\n",
       "    <tr>\n",
       "      <th>6</th>\n",
       "      <td>Friend</td>\n",
       "      <td>Eigenvector</td>\n",
       "    </tr>\n",
       "    <tr>\n",
       "      <th>7</th>\n",
       "      <td>Pair</td>\n",
       "      <td>Eigenvector</td>\n",
       "    </tr>\n",
       "    <tr>\n",
       "      <th>8</th>\n",
       "      <td>Random</td>\n",
       "      <td>Eigenvector</td>\n",
       "    </tr>\n",
       "    <tr>\n",
       "      <th>9</th>\n",
       "      <td>Friend</td>\n",
       "      <td>Katz</td>\n",
       "    </tr>\n",
       "    <tr>\n",
       "      <th>10</th>\n",
       "      <td>Pair</td>\n",
       "      <td>Katz</td>\n",
       "    </tr>\n",
       "    <tr>\n",
       "      <th>11</th>\n",
       "      <td>Random</td>\n",
       "      <td>Katz</td>\n",
       "    </tr>\n",
       "    <tr>\n",
       "      <th>12</th>\n",
       "      <td>Friend</td>\n",
       "      <td>Page Rank</td>\n",
       "    </tr>\n",
       "    <tr>\n",
       "      <th>13</th>\n",
       "      <td>Pair</td>\n",
       "      <td>Page Rank</td>\n",
       "    </tr>\n",
       "    <tr>\n",
       "      <th>14</th>\n",
       "      <td>Random</td>\n",
       "      <td>Page Rank</td>\n",
       "    </tr>\n",
       "  </tbody>\n",
       "</table>\n",
       "</div>"
      ],
      "text/plain": [
       "   Targeting Method      Measure\n",
       "0            Friend   Betweeness\n",
       "1              Pair   Betweeness\n",
       "2            Random   Betweeness\n",
       "3            Friend       Degree\n",
       "4              Pair       Degree\n",
       "5            Random       Degree\n",
       "6            Friend  Eigenvector\n",
       "7              Pair  Eigenvector\n",
       "8            Random  Eigenvector\n",
       "9            Friend         Katz\n",
       "10             Pair         Katz\n",
       "11           Random         Katz\n",
       "12           Friend    Page Rank\n",
       "13             Pair    Page Rank\n",
       "14           Random    Page Rank"
      ]
     },
     "execution_count": 2,
     "metadata": {},
     "output_type": "execute_result"
    }
   ],
   "source": [
    "big_res = pd.DataFrame({\"Targeting Method\": [\"Friend\",\"Pair\",\"Random\"]*5,\n",
    "              \"Measure\": list(np.repeat(['Betweeness', \"Degree\",'Eigenvector','Katz',\"Page Rank\"],3))})\n",
    "big_res"
   ]
  },
  {
   "cell_type": "code",
   "execution_count": 8,
   "id": "df108bb0",
   "metadata": {},
   "outputs": [
    {
     "name": "stdout",
     "output_type": "stream",
     "text": [
      "village 60\n",
      "village 59\n",
      "village 52\n",
      "village 71\n",
      "village 65\n"
     ]
    }
   ],
   "source": [
    "#the five largest villages (by N) in Banerjee are \n",
    "villages = [60, 59, 52, 71, 65]\n",
    "\n",
    "n_samples = 200\n",
    "p = 0.10\n",
    "\n",
    "for vil in villages:\n",
    "    path = 'banerjee12_data/datav4.0/Data/1. Network Data/Adjacency Matrices/adj_allVillageRelationships_HH_vilno_{}.csv'.format(vil)\n",
    "    adj_mat = pd.read_csv(path,header = None)\n",
    "    current_g = nx.from_pandas_adjacency(adj_mat) #network for the village\n",
    "    \n",
    "    probs, centralities = get_prob_centralities(current_g, n_samples = n_samples, p = p) #over 500 seed iterations\n",
    "    \n",
    "    combinedDataProbs = pd.concat([centralities, probs], axis=1)\n",
    "\n",
    "    seedNames = [\"Random\", \"Friend\", \"Pair\"]\n",
    "    meltedDataProbs = pd.melt(combinedDataProbs.reset_index(), id_vars = [*seedNames, \"index\"], value_name = 'Measure Value', var_name = \"Measure\")\n",
    "    meltedDataProbs = pd.melt(meltedDataProbs, id_vars = [\"index\", \"Measure\", \"Measure Value\"], value_name = 'Selection Probability', var_name = \"Targeting Method\")\n",
    "    \n",
    "    # Calculating Spearman Correlation\n",
    "    spearmanData = meltedDataProbs.groupby(['Targeting Method', 'Measure'])[['Selection Probability','Measure Value']].corr(method=\"spearman\").iloc[0::2,-1]\n",
    "    # Dropping level_2 which was artificially created by grouping\n",
    "    spearmanData = spearmanData.reset_index().drop('level_2', axis = 1).query(\"`Measure Value` != 1\")\n",
    "    \n",
    "    print('village {}'.format(vil))\n",
    "    res = spearmanData.sort_values(\"Measure\").reset_index().drop(\"index\", axis = 1)\n",
    "    #print(res)\n",
    "    big_res[\"Vil\" + str(vil) + \" N={}\".format(nx.number_of_nodes(current_g))] = res['Measure Value']\n",
    "    "
   ]
  },
  {
   "cell_type": "code",
   "execution_count": 9,
   "id": "705b1ac3",
   "metadata": {},
   "outputs": [
    {
     "data": {
      "text/html": [
       "<div>\n",
       "<style scoped>\n",
       "    .dataframe tbody tr th:only-of-type {\n",
       "        vertical-align: middle;\n",
       "    }\n",
       "\n",
       "    .dataframe tbody tr th {\n",
       "        vertical-align: top;\n",
       "    }\n",
       "\n",
       "    .dataframe thead th {\n",
       "        text-align: right;\n",
       "    }\n",
       "</style>\n",
       "<table border=\"1\" class=\"dataframe\">\n",
       "  <thead>\n",
       "    <tr style=\"text-align: right;\">\n",
       "      <th></th>\n",
       "      <th>Targeting Method</th>\n",
       "      <th>Measure</th>\n",
       "      <th>Vil60 N=356</th>\n",
       "      <th>Vil59 N=329</th>\n",
       "      <th>Vil52 N=327</th>\n",
       "      <th>Vil71 N=298</th>\n",
       "      <th>Vil65 N=297</th>\n",
       "    </tr>\n",
       "  </thead>\n",
       "  <tbody>\n",
       "    <tr>\n",
       "      <th>0</th>\n",
       "      <td>Friend</td>\n",
       "      <td>Betweeness</td>\n",
       "      <td>0.913873</td>\n",
       "      <td>0.915381</td>\n",
       "      <td>0.929804</td>\n",
       "      <td>0.914863</td>\n",
       "      <td>0.928320</td>\n",
       "    </tr>\n",
       "    <tr>\n",
       "      <th>1</th>\n",
       "      <td>Pair</td>\n",
       "      <td>Betweeness</td>\n",
       "      <td>0.825622</td>\n",
       "      <td>0.829512</td>\n",
       "      <td>0.849470</td>\n",
       "      <td>0.807951</td>\n",
       "      <td>0.846116</td>\n",
       "    </tr>\n",
       "    <tr>\n",
       "      <th>2</th>\n",
       "      <td>Random</td>\n",
       "      <td>Betweeness</td>\n",
       "      <td>0.116211</td>\n",
       "      <td>0.211235</td>\n",
       "      <td>0.043392</td>\n",
       "      <td>0.015885</td>\n",
       "      <td>0.129158</td>\n",
       "    </tr>\n",
       "    <tr>\n",
       "      <th>3</th>\n",
       "      <td>Friend</td>\n",
       "      <td>Degree</td>\n",
       "      <td>0.915042</td>\n",
       "      <td>0.919160</td>\n",
       "      <td>0.935624</td>\n",
       "      <td>0.938591</td>\n",
       "      <td>0.924149</td>\n",
       "    </tr>\n",
       "    <tr>\n",
       "      <th>4</th>\n",
       "      <td>Pair</td>\n",
       "      <td>Degree</td>\n",
       "      <td>0.828116</td>\n",
       "      <td>0.826052</td>\n",
       "      <td>0.857667</td>\n",
       "      <td>0.829859</td>\n",
       "      <td>0.833607</td>\n",
       "    </tr>\n",
       "    <tr>\n",
       "      <th>5</th>\n",
       "      <td>Random</td>\n",
       "      <td>Degree</td>\n",
       "      <td>0.118028</td>\n",
       "      <td>0.248777</td>\n",
       "      <td>0.030672</td>\n",
       "      <td>0.040911</td>\n",
       "      <td>0.167919</td>\n",
       "    </tr>\n",
       "    <tr>\n",
       "      <th>6</th>\n",
       "      <td>Friend</td>\n",
       "      <td>Eigenvector</td>\n",
       "      <td>0.702892</td>\n",
       "      <td>0.795534</td>\n",
       "      <td>0.857756</td>\n",
       "      <td>0.829753</td>\n",
       "      <td>0.772540</td>\n",
       "    </tr>\n",
       "    <tr>\n",
       "      <th>7</th>\n",
       "      <td>Pair</td>\n",
       "      <td>Eigenvector</td>\n",
       "      <td>0.667422</td>\n",
       "      <td>0.700527</td>\n",
       "      <td>0.756800</td>\n",
       "      <td>0.721879</td>\n",
       "      <td>0.685434</td>\n",
       "    </tr>\n",
       "    <tr>\n",
       "      <th>8</th>\n",
       "      <td>Random</td>\n",
       "      <td>Eigenvector</td>\n",
       "      <td>0.146341</td>\n",
       "      <td>0.234716</td>\n",
       "      <td>0.024539</td>\n",
       "      <td>0.065571</td>\n",
       "      <td>0.187370</td>\n",
       "    </tr>\n",
       "    <tr>\n",
       "      <th>9</th>\n",
       "      <td>Friend</td>\n",
       "      <td>Katz</td>\n",
       "      <td>0.530920</td>\n",
       "      <td>0.500946</td>\n",
       "      <td>0.260951</td>\n",
       "      <td>0.276563</td>\n",
       "      <td>0.091169</td>\n",
       "    </tr>\n",
       "    <tr>\n",
       "      <th>10</th>\n",
       "      <td>Pair</td>\n",
       "      <td>Katz</td>\n",
       "      <td>0.472468</td>\n",
       "      <td>0.449943</td>\n",
       "      <td>0.298272</td>\n",
       "      <td>0.227044</td>\n",
       "      <td>0.062608</td>\n",
       "    </tr>\n",
       "    <tr>\n",
       "      <th>11</th>\n",
       "      <td>Random</td>\n",
       "      <td>Katz</td>\n",
       "      <td>0.097178</td>\n",
       "      <td>0.173544</td>\n",
       "      <td>0.012221</td>\n",
       "      <td>0.158951</td>\n",
       "      <td>0.064938</td>\n",
       "    </tr>\n",
       "    <tr>\n",
       "      <th>12</th>\n",
       "      <td>Friend</td>\n",
       "      <td>Page Rank</td>\n",
       "      <td>0.945381</td>\n",
       "      <td>0.945187</td>\n",
       "      <td>0.951013</td>\n",
       "      <td>0.955128</td>\n",
       "      <td>0.945808</td>\n",
       "    </tr>\n",
       "    <tr>\n",
       "      <th>13</th>\n",
       "      <td>Pair</td>\n",
       "      <td>Page Rank</td>\n",
       "      <td>0.854282</td>\n",
       "      <td>0.851264</td>\n",
       "      <td>0.876851</td>\n",
       "      <td>0.846296</td>\n",
       "      <td>0.857654</td>\n",
       "    </tr>\n",
       "    <tr>\n",
       "      <th>14</th>\n",
       "      <td>Random</td>\n",
       "      <td>Page Rank</td>\n",
       "      <td>0.110961</td>\n",
       "      <td>0.245464</td>\n",
       "      <td>0.041794</td>\n",
       "      <td>0.037547</td>\n",
       "      <td>0.164010</td>\n",
       "    </tr>\n",
       "  </tbody>\n",
       "</table>\n",
       "</div>"
      ],
      "text/plain": [
       "   Targeting Method      Measure  Vil60 N=356  Vil59 N=329  Vil52 N=327  \\\n",
       "0            Friend   Betweeness     0.913873     0.915381     0.929804   \n",
       "1              Pair   Betweeness     0.825622     0.829512     0.849470   \n",
       "2            Random   Betweeness     0.116211     0.211235     0.043392   \n",
       "3            Friend       Degree     0.915042     0.919160     0.935624   \n",
       "4              Pair       Degree     0.828116     0.826052     0.857667   \n",
       "5            Random       Degree     0.118028     0.248777     0.030672   \n",
       "6            Friend  Eigenvector     0.702892     0.795534     0.857756   \n",
       "7              Pair  Eigenvector     0.667422     0.700527     0.756800   \n",
       "8            Random  Eigenvector     0.146341     0.234716     0.024539   \n",
       "9            Friend         Katz     0.530920     0.500946     0.260951   \n",
       "10             Pair         Katz     0.472468     0.449943     0.298272   \n",
       "11           Random         Katz     0.097178     0.173544     0.012221   \n",
       "12           Friend    Page Rank     0.945381     0.945187     0.951013   \n",
       "13             Pair    Page Rank     0.854282     0.851264     0.876851   \n",
       "14           Random    Page Rank     0.110961     0.245464     0.041794   \n",
       "\n",
       "    Vil71 N=298  Vil65 N=297  \n",
       "0      0.914863     0.928320  \n",
       "1      0.807951     0.846116  \n",
       "2      0.015885     0.129158  \n",
       "3      0.938591     0.924149  \n",
       "4      0.829859     0.833607  \n",
       "5      0.040911     0.167919  \n",
       "6      0.829753     0.772540  \n",
       "7      0.721879     0.685434  \n",
       "8      0.065571     0.187370  \n",
       "9      0.276563     0.091169  \n",
       "10     0.227044     0.062608  \n",
       "11     0.158951     0.064938  \n",
       "12     0.955128     0.945808  \n",
       "13     0.846296     0.857654  \n",
       "14     0.037547     0.164010  "
      ]
     },
     "execution_count": 9,
     "metadata": {},
     "output_type": "execute_result"
    }
   ],
   "source": [
    "big_res"
   ]
  },
  {
   "cell_type": "code",
   "execution_count": 5,
   "id": "6313ca2a",
   "metadata": {},
   "outputs": [
    {
     "data": {
      "text/plain": [
       "['contacts-prox-high-school-2013',\n",
       " 'inf-euroroad',\n",
       " 'bt.csv',\n",
       " 'swingers',\n",
       " 'Karate',\n",
       " 'fb-pages-tvshow',\n",
       " 'kor.2015.mers.1.00',\n",
       " 'uni_email',\n",
       " 'contacts-prox-high-school-2013-attr',\n",
       " 'fb-pages-politician',\n",
       " 'sgp.2003.sars.1.00',\n",
       " 'law_firm',\n",
       " 'fb-messages',\n",
       " 'soc-hamsterster',\n",
       " 'webkb-wisc',\n",
       " 'usa.2020.covid.6.00',\n",
       " 'primary-school-proximity',\n",
       " 'KKI',\n",
       " 'infect-hyper',\n",
       " 'infect-dublin',\n",
       " 'fb_friends.csv',\n",
       " 'high_tech_company',\n",
       " 'usa.2009.flu.1.00',\n",
       " 'soc-firm-hi-tech',\n",
       " 'physician_trust',\n",
       " '7th_graders',\n",
       " 'aves-weaver-social',\n",
       " 'kidnappings',\n",
       " 'email_company',\n",
       " 'moreno_taro']"
      ]
     },
     "execution_count": 5,
     "metadata": {},
     "output_type": "execute_result"
    }
   ],
   "source": [
    "path = \"mass_data/less_than_1500_nodes\"\n",
    "data_paths = [x.replace(\"{}/\".format(path), \"\") for x in glob.glob(\"{}/*\".format(path))]\n",
    "data_paths"
   ]
  },
  {
   "cell_type": "code",
   "execution_count": 6,
   "id": "373c0dd1",
   "metadata": {},
   "outputs": [],
   "source": [
    "#remove fb-pages tvshow and politician\n",
    "data_paths.remove(\"fb-pages-tvshow\")\n",
    "data_paths.remove(\"fb-pages-politician\")"
   ]
  },
  {
   "cell_type": "code",
   "execution_count": 7,
   "id": "fdc46bbe",
   "metadata": {},
   "outputs": [
    {
     "name": "stdout",
     "output_type": "stream",
     "text": [
      "contacts-prox-high-school-2013 N = 327\n",
      "inf-euroroad N = 1174\n",
      "bt.csv N = 692\n",
      "swingers N = 96\n",
      "Karate N = 34\n",
      "kor.2015.mers.1.00 N = 186\n",
      "uni_email N = 1133\n",
      "contacts-prox-high-school-2013-attr N = 327\n",
      "sgp.2003.sars.1.00 N = 172\n",
      "law_firm N = 71\n",
      "fb-messages N = 1899\n",
      "soc-hamsterster N = 2426\n",
      "webkb-wisc N = 265\n",
      "usa.2020.covid.6.00 N = 92\n",
      "primary-school-proximity N = 242\n",
      "KKI N = 2238\n",
      "infect-hyper N = 113\n",
      "infect-dublin N = 410\n",
      "fb_friends.csv N = 800\n",
      "high_tech_company N = 21\n",
      "usa.2009.flu.1.00 N = 286\n",
      "soc-firm-hi-tech N = 33\n",
      "physician_trust N = 241\n",
      "7th_graders N = 29\n",
      "aves-weaver-social N = 445\n",
      "kidnappings N = 351\n",
      "email_company N = 167\n",
      "moreno_taro N = 22\n"
     ]
    }
   ],
   "source": [
    "G_list = []\n",
    "for d_path in data_paths:\n",
    "    \n",
    "    if any(fname.endswith('.csv') for fname in  glob.glob('{}/{}/*'.format(path,d_path))):\n",
    "        df = pd.read_csv('{}/{}/edges.csv'.format(path,d_path))\n",
    "        G = nx.from_pandas_edgelist(df, \"# source\", \" target\")\n",
    "        \n",
    "    elif any(fname.endswith('.edgelist') for fname in glob.glob('{}/{}/*'.format(path,d_path))):\n",
    "        G = nx.read_edgelist(\"{}/{}/edges.edgelist\".format(path, d_path), nodetype=int)\n",
    "        \n",
    "    elif not any(fname.endswith('txt.gz') for fname in  glob.glob('{}/{}/*'.format(path,d_path))):\n",
    "        G = nx.read_adjlist(\"{}/{}/edges.txt\".format(path, d_path), nodetype=int)\n",
    "\n",
    "    else:\n",
    "        G = nx.read_adjlist(gzip.open('{}/{}/edges.txt.gz'.format(path,d_path)), nodetype=int)\n",
    "    print(d_path, \"N = \" + str(nx.number_of_nodes(G)))\n",
    "    G_list.append(G)"
   ]
  },
  {
   "cell_type": "code",
   "execution_count": 12,
   "id": "69e555d3",
   "metadata": {},
   "outputs": [
    {
     "name": "stdout",
     "output_type": "stream",
     "text": [
      "contacts-prox-high-school-2013 N =  327\n",
      "   Targeting Method      Measure  Measure Value\n",
      "0            Friend   Betweeness       0.738967\n",
      "1              Pair   Betweeness       0.503822\n",
      "2            Random   Betweeness      -0.027612\n",
      "3            Friend       Degree       0.760983\n",
      "4              Pair       Degree       0.542885\n",
      "5            Random       Degree      -0.029237\n",
      "6            Friend  Eigenvector       0.643252\n",
      "7              Pair  Eigenvector       0.461283\n",
      "8            Random  Eigenvector      -0.023290\n",
      "9            Friend         Katz       0.547974\n",
      "10             Pair         Katz       0.342276\n",
      "11           Random         Katz       0.014812\n",
      "12           Friend    Page Rank       0.785744\n",
      "13             Pair    Page Rank       0.555524\n",
      "14           Random    Page Rank      -0.028232\n",
      "inf-euroroad N =  1174\n",
      "   Targeting Method      Measure  Measure Value\n",
      "0            Friend   Betweeness       0.461755\n",
      "1              Pair   Betweeness       0.377699\n",
      "2            Random   Betweeness       0.033803\n",
      "3            Friend       Degree       0.716601\n",
      "4              Pair       Degree       0.601023\n",
      "5            Random       Degree       0.005566\n",
      "6            Friend  Eigenvector       0.046339\n",
      "7              Pair  Eigenvector       0.092966\n",
      "8            Random  Eigenvector       0.047646\n",
      "9            Friend         Katz       0.480144\n",
      "10             Pair         Katz       0.431848\n",
      "11           Random         Katz       0.028102\n",
      "12           Friend    Page Rank       0.843984\n",
      "13             Pair    Page Rank       0.665817\n",
      "14           Random    Page Rank      -0.017302\n",
      "bt.csv N =  692\n",
      "   Targeting Method      Measure  Measure Value\n",
      "0            Friend   Betweeness       0.870936\n",
      "1              Pair   Betweeness       0.698695\n",
      "2            Random   Betweeness       0.036340\n",
      "3            Friend       Degree       0.871828\n",
      "4              Pair       Degree       0.664427\n",
      "5            Random       Degree       0.027302\n",
      "6            Friend  Eigenvector       0.865060\n",
      "7              Pair  Eigenvector       0.657723\n",
      "8            Random  Eigenvector       0.023251\n",
      "9            Friend         Katz      -0.049504\n",
      "10             Pair         Katz      -0.037352\n",
      "11           Random         Katz      -0.011585\n",
      "12           Friend    Page Rank       0.882553\n",
      "13             Pair    Page Rank       0.677938\n",
      "14           Random    Page Rank       0.026263\n",
      "swingers N =  96\n",
      "   Targeting Method      Measure  Measure Value\n",
      "0            Friend   Betweeness       0.784098\n",
      "1              Pair   Betweeness       0.638247\n",
      "2            Random   Betweeness      -0.066336\n",
      "3            Friend       Degree       0.737105\n",
      "4              Pair       Degree       0.533550\n",
      "5            Random       Degree      -0.143173\n",
      "6            Friend  Eigenvector       0.421535\n",
      "7              Pair  Eigenvector       0.302788\n",
      "8            Random  Eigenvector      -0.195752\n",
      "9            Friend         Katz       0.454634\n",
      "10             Pair         Katz       0.328033\n",
      "11           Random         Katz      -0.191440\n",
      "12           Friend    Page Rank       0.838826\n",
      "13             Pair    Page Rank       0.634363\n",
      "14           Random    Page Rank      -0.119381\n",
      "Karate N =  34\n",
      "   Targeting Method      Measure  Measure Value\n",
      "0            Friend   Betweeness       0.823270\n",
      "1              Pair   Betweeness       0.543377\n",
      "2            Random   Betweeness       0.119259\n",
      "3            Friend       Degree       0.890072\n",
      "4              Pair       Degree       0.572605\n",
      "5            Random       Degree       0.174616\n",
      "6            Friend  Eigenvector       0.515983\n",
      "7              Pair  Eigenvector       0.289145\n",
      "8            Random  Eigenvector       0.166681\n",
      "9            Friend         Katz       0.649393\n",
      "10             Pair         Katz       0.313682\n",
      "11           Random         Katz       0.228546\n",
      "12           Friend    Page Rank       0.932410\n",
      "13             Pair    Page Rank       0.578943\n",
      "14           Random    Page Rank       0.169072\n",
      "kor.2015.mers.1.00 N =  186\n",
      "   Targeting Method      Measure  Measure Value\n",
      "0            Friend   Betweeness       0.617615\n",
      "1              Pair   Betweeness       0.595160\n",
      "2            Random   Betweeness       0.099786\n",
      "3            Friend       Degree       0.618265\n",
      "4              Pair       Degree       0.595710\n",
      "5            Random       Degree       0.098237\n",
      "6            Friend  Eigenvector      -0.246629\n",
      "7              Pair  Eigenvector      -0.396630\n",
      "8            Random  Eigenvector       0.103700\n",
      "9            Friend         Katz      -0.248821\n",
      "10             Pair         Katz      -0.369991\n",
      "11           Random         Katz       0.102430\n",
      "12           Friend    Page Rank       0.804246\n",
      "13             Pair    Page Rank       0.812557\n",
      "14           Random    Page Rank       0.089453\n",
      "uni_email N =  1133\n",
      "   Targeting Method      Measure  Measure Value\n",
      "0            Friend   Betweeness       0.898836\n",
      "1              Pair   Betweeness       0.829506\n",
      "2            Random   Betweeness       0.017981\n",
      "3            Friend       Degree       0.881071\n",
      "4              Pair       Degree       0.801312\n",
      "5            Random       Degree       0.010535\n",
      "6            Friend  Eigenvector       0.672680\n",
      "7              Pair  Eigenvector       0.618820\n",
      "8            Random  Eigenvector      -0.011179\n",
      "9            Friend         Katz      -0.173917\n",
      "10             Pair         Katz      -0.157467\n",
      "11           Random         Katz       0.025225\n",
      "12           Friend    Page Rank       0.927905\n",
      "13             Pair    Page Rank       0.842611\n",
      "14           Random    Page Rank       0.022256\n",
      "contacts-prox-high-school-2013-attr N =  327\n",
      "   Targeting Method      Measure  Measure Value\n",
      "0            Friend   Betweeness       0.770210\n",
      "1              Pair   Betweeness       0.602347\n",
      "2            Random   Betweeness      -0.088089\n",
      "3            Friend       Degree       0.765944\n",
      "4              Pair       Degree       0.597286\n",
      "5            Random       Degree      -0.056024\n",
      "6            Friend  Eigenvector       0.644130\n",
      "7              Pair  Eigenvector       0.497771\n",
      "8            Random  Eigenvector      -0.012172\n",
      "9            Friend         Katz       0.527190\n",
      "10             Pair         Katz       0.395027\n",
      "11           Random         Katz      -0.128069\n",
      "12           Friend    Page Rank       0.785993\n",
      "13             Pair    Page Rank       0.617182\n",
      "14           Random    Page Rank      -0.062663\n",
      "sgp.2003.sars.1.00 N =  172\n",
      "   Targeting Method      Measure  Measure Value\n",
      "0            Friend   Betweeness       0.659623\n",
      "1              Pair   Betweeness       0.642520\n",
      "2            Random   Betweeness      -0.020565\n",
      "3            Friend       Degree       0.675120\n",
      "4              Pair       Degree       0.658348\n",
      "5            Random       Degree      -0.019659\n",
      "6            Friend  Eigenvector      -0.300747\n",
      "7              Pair  Eigenvector      -0.377679\n",
      "8            Random  Eigenvector      -0.044111\n",
      "9            Friend         Katz      -0.234801\n",
      "10             Pair         Katz      -0.310356\n",
      "11           Random         Katz      -0.045758\n",
      "12           Friend    Page Rank       0.837260\n",
      "13             Pair    Page Rank       0.824499\n",
      "14           Random    Page Rank      -0.020025\n",
      "law_firm N =  71\n",
      "   Targeting Method      Measure  Measure Value\n",
      "0            Friend   Betweeness       0.709076\n",
      "1              Pair   Betweeness       0.432345\n",
      "2            Random   Betweeness       0.224593\n",
      "3            Friend       Degree       0.731033\n",
      "4              Pair       Degree       0.335128\n",
      "5            Random       Degree       0.135651\n",
      "6            Friend  Eigenvector       0.691880\n",
      "7              Pair  Eigenvector       0.275831\n",
      "8            Random  Eigenvector       0.089309\n",
      "9            Friend         Katz       0.326930\n",
      "10             Pair         Katz       0.240719\n",
      "11           Random         Katz       0.218874\n",
      "12           Friend    Page Rank       0.733879\n",
      "13             Pair    Page Rank       0.351505\n",
      "14           Random    Page Rank       0.148271\n",
      "fb-messages N =  1899\n",
      "   Targeting Method      Measure  Measure Value\n",
      "0            Friend   Betweeness       0.872477\n",
      "1              Pair   Betweeness       0.806288\n",
      "2            Random   Betweeness       0.061071\n",
      "3            Friend       Degree       0.844967\n",
      "4              Pair       Degree       0.789835\n",
      "5            Random       Degree       0.056583\n",
      "6            Friend  Eigenvector       0.719960\n",
      "7              Pair  Eigenvector       0.686518\n",
      "8            Random  Eigenvector       0.044187\n",
      "9            Friend         Katz      -0.040156\n",
      "10             Pair         Katz      -0.045424\n",
      "11           Random         Katz       0.012067\n",
      "12           Friend    Page Rank       0.893856\n",
      "13             Pair    Page Rank       0.808574\n",
      "14           Random    Page Rank       0.059724\n"
     ]
    },
    {
     "name": "stdout",
     "output_type": "stream",
     "text": [
      "soc-hamsterster N =  2426\n",
      "   Targeting Method      Measure  Measure Value\n",
      "0            Friend   Betweeness       0.517848\n",
      "1              Pair   Betweeness       0.496517\n",
      "2            Random   Betweeness       0.007706\n",
      "3            Friend       Degree       0.514010\n",
      "4              Pair       Degree       0.469176\n",
      "5            Random       Degree       0.003513\n",
      "6            Friend  Eigenvector       0.185272\n",
      "7              Pair  Eigenvector       0.221953\n",
      "8            Random  Eigenvector       0.005114\n",
      "9            Friend         Katz       0.011282\n",
      "10             Pair         Katz       0.031432\n",
      "11           Random         Katz       0.009961\n",
      "12           Friend    Page Rank       0.828041\n",
      "13             Pair    Page Rank       0.675913\n",
      "14           Random    Page Rank       0.017414\n",
      "webkb-wisc N =  265\n",
      "   Targeting Method      Measure  Measure Value\n",
      "0            Friend   Betweeness       0.666396\n",
      "1              Pair   Betweeness       0.666202\n",
      "2            Random   Betweeness       0.044795\n",
      "3            Friend       Degree       0.728844\n",
      "4              Pair       Degree       0.714266\n",
      "5            Random       Degree       0.065983\n",
      "6            Friend  Eigenvector       0.138809\n",
      "7              Pair  Eigenvector       0.177415\n",
      "8            Random  Eigenvector      -0.069378\n",
      "9            Friend         Katz       0.036725\n",
      "10             Pair         Katz       0.074094\n",
      "11           Random         Katz      -0.084878\n",
      "12           Friend    Page Rank       0.848553\n",
      "13             Pair    Page Rank       0.796364\n",
      "14           Random    Page Rank       0.052916\n",
      "usa.2020.covid.6.00 N =  92\n",
      "   Targeting Method      Measure  Measure Value\n",
      "0            Friend   Betweeness       0.666154\n",
      "1              Pair   Betweeness       0.641522\n",
      "2            Random   Betweeness      -0.182388\n",
      "3            Friend       Degree       0.674763\n",
      "4              Pair       Degree       0.648736\n",
      "5            Random       Degree      -0.171618\n",
      "6            Friend  Eigenvector      -0.050252\n",
      "7              Pair  Eigenvector      -0.064600\n",
      "8            Random  Eigenvector      -0.100867\n",
      "9            Friend         Katz      -0.028492\n",
      "10             Pair         Katz      -0.041772\n",
      "11           Random         Katz      -0.058545\n",
      "12           Friend    Page Rank       0.939367\n",
      "13             Pair    Page Rank       0.918762\n",
      "14           Random    Page Rank      -0.121555\n",
      "primary-school-proximity N =  242\n",
      "   Targeting Method      Measure  Measure Value\n",
      "0            Friend   Betweeness       0.808248\n",
      "1              Pair   Betweeness       0.515928\n",
      "2            Random   Betweeness       0.073832\n",
      "3            Friend       Degree       0.830635\n",
      "4              Pair       Degree       0.494733\n",
      "5            Random       Degree       0.029412\n",
      "6            Friend  Eigenvector       0.816664\n",
      "7              Pair  Eigenvector       0.462348\n",
      "8            Random  Eigenvector       0.011044\n",
      "9            Friend         Katz      -0.335288\n",
      "10             Pair         Katz      -0.162677\n",
      "11           Random         Katz       0.064065\n",
      "12           Friend    Page Rank       0.833998\n",
      "13             Pair    Page Rank       0.499926\n",
      "14           Random    Page Rank       0.031892\n",
      "KKI N =  2238\n",
      "   Targeting Method      Measure  Measure Value\n",
      "0            Friend   Betweeness       0.714518\n",
      "1              Pair   Betweeness       0.613420\n",
      "2            Random   Betweeness       0.013138\n",
      "3            Friend       Degree       0.721706\n",
      "4              Pair       Degree       0.620615\n",
      "5            Random       Degree      -0.002436\n",
      "6            Friend  Eigenvector      -0.036242\n",
      "7              Pair  Eigenvector      -0.043158\n",
      "8            Random  Eigenvector       0.031319\n",
      "9            Friend         Katz       0.526580\n",
      "10             Pair         Katz       0.459418\n",
      "11           Random         Katz      -0.020159\n",
      "12           Friend    Page Rank       0.880706\n",
      "13             Pair    Page Rank       0.754392\n",
      "14           Random    Page Rank       0.006905\n",
      "infect-hyper N =  113\n",
      "   Targeting Method      Measure  Measure Value\n",
      "0            Friend   Betweeness       0.922692\n",
      "1              Pair   Betweeness       0.630600\n",
      "2            Random   Betweeness      -0.076846\n",
      "3            Friend       Degree       0.918989\n",
      "4              Pair       Degree       0.626559\n",
      "5            Random       Degree      -0.088791\n",
      "6            Friend  Eigenvector       0.906640\n",
      "7              Pair  Eigenvector       0.621839\n",
      "8            Random  Eigenvector      -0.104615\n",
      "9            Friend         Katz       0.577418\n",
      "10             Pair         Katz       0.354186\n",
      "11           Random         Katz      -0.207218\n",
      "12           Friend    Page Rank       0.920723\n",
      "13             Pair    Page Rank       0.626526\n",
      "14           Random    Page Rank      -0.088519\n",
      "infect-dublin N =  410\n",
      "   Targeting Method      Measure  Measure Value\n",
      "0            Friend   Betweeness       0.704961\n",
      "1              Pair   Betweeness       0.584111\n",
      "2            Random   Betweeness       0.010425\n",
      "3            Friend       Degree       0.714918\n",
      "4              Pair       Degree       0.575621\n",
      "5            Random       Degree      -0.088745\n",
      "6            Friend  Eigenvector       0.338029\n",
      "7              Pair  Eigenvector       0.257667\n",
      "8            Random  Eigenvector      -0.126634\n",
      "9            Friend         Katz       0.050992\n",
      "10             Pair         Katz       0.070861\n",
      "11           Random         Katz      -0.052465\n",
      "12           Friend    Page Rank       0.819441\n",
      "13             Pair    Page Rank       0.659109\n",
      "14           Random    Page Rank      -0.057209\n",
      "fb_friends.csv N =  800\n",
      "   Targeting Method      Measure  Measure Value\n",
      "0            Friend   Betweeness       0.864938\n",
      "1              Pair   Betweeness       0.744341\n",
      "2            Random   Betweeness      -0.037813\n",
      "3            Friend       Degree       0.805220\n",
      "4              Pair       Degree       0.694046\n",
      "5            Random       Degree      -0.060766\n",
      "6            Friend  Eigenvector       0.581521\n",
      "7              Pair  Eigenvector       0.507844\n",
      "8            Random  Eigenvector      -0.019733\n",
      "9            Friend         Katz       0.021054\n",
      "10             Pair         Katz      -0.034405\n",
      "11           Random         Katz       0.026495\n",
      "12           Friend    Page Rank       0.874924\n",
      "13             Pair    Page Rank       0.747928\n",
      "14           Random    Page Rank      -0.067016\n",
      "high_tech_company N =  21\n",
      "   Targeting Method      Measure  Measure Value\n",
      "0            Friend   Betweeness       0.594209\n",
      "1              Pair   Betweeness       0.506895\n",
      "2            Random   Betweeness      -0.423593\n",
      "3            Friend       Degree       0.648571\n",
      "4              Pair       Degree       0.517590\n",
      "5            Random       Degree      -0.437788\n",
      "6            Friend  Eigenvector       0.645625\n",
      "7              Pair  Eigenvector       0.556012\n",
      "8            Random  Eigenvector      -0.440537\n",
      "9            Friend         Katz       0.645625\n",
      "10             Pair         Katz       0.556012\n",
      "11           Random         Katz      -0.440537\n",
      "12           Friend    Page Rank       0.624147\n",
      "13             Pair    Page Rank       0.465636\n",
      "14           Random    Page Rank      -0.429459\n",
      "usa.2009.flu.1.00 N =  286\n",
      "   Targeting Method      Measure  Measure Value\n",
      "0            Friend   Betweeness       0.713806\n",
      "1              Pair   Betweeness       0.664030\n",
      "2            Random   Betweeness      -0.042828\n",
      "3            Friend       Degree       0.884958\n",
      "4              Pair       Degree       0.804647\n",
      "5            Random       Degree       0.012886\n",
      "6            Friend  Eigenvector       0.150203\n",
      "7              Pair  Eigenvector       0.172780\n",
      "8            Random  Eigenvector       0.032306\n",
      "9            Friend         Katz       0.750537\n",
      "10             Pair         Katz       0.696090\n",
      "11           Random         Katz       0.001157\n",
      "12           Friend    Page Rank       0.918751\n",
      "13             Pair    Page Rank       0.817558\n",
      "14           Random    Page Rank       0.040487\n",
      "soc-firm-hi-tech N =  33\n",
      "   Targeting Method      Measure  Measure Value\n",
      "0            Friend   Betweeness       0.926620\n",
      "1              Pair   Betweeness       0.524328\n",
      "2            Random   Betweeness       0.071740\n",
      "3            Friend       Degree       0.915910\n",
      "4              Pair       Degree       0.526907\n",
      "5            Random       Degree      -0.041131\n",
      "6            Friend  Eigenvector       0.836513\n",
      "7              Pair  Eigenvector       0.416690\n",
      "8            Random  Eigenvector      -0.175956\n",
      "9            Friend         Katz       0.838786\n",
      "10             Pair         Katz       0.422441\n",
      "11           Random         Katz      -0.183724\n",
      "12           Friend    Page Rank       0.920683\n",
      "13             Pair    Page Rank       0.565790\n",
      "14           Random    Page Rank       0.004568\n"
     ]
    },
    {
     "name": "stdout",
     "output_type": "stream",
     "text": [
      "physician_trust N =  241\n",
      "   Targeting Method      Measure  Measure Value\n",
      "0            Friend   Betweeness       0.712756\n",
      "1              Pair   Betweeness       0.600182\n",
      "2            Random   Betweeness       0.028980\n",
      "3            Friend       Degree       0.837740\n",
      "4              Pair       Degree       0.693692\n",
      "5            Random       Degree      -0.018310\n",
      "6            Friend  Eigenvector      -0.130349\n",
      "7              Pair  Eigenvector      -0.131049\n",
      "8            Random  Eigenvector      -0.022980\n",
      "9            Friend         Katz       0.342682\n",
      "10             Pair         Katz       0.343566\n",
      "11           Random         Katz       0.022223\n",
      "12           Friend    Page Rank       0.882248\n",
      "13             Pair    Page Rank       0.707700\n",
      "14           Random    Page Rank      -0.006989\n",
      "7th_graders N =  29\n",
      "   Targeting Method      Measure  Measure Value\n",
      "0            Friend   Betweeness       0.819288\n",
      "1              Pair   Betweeness       0.553114\n",
      "2            Random   Betweeness      -0.081548\n",
      "3            Friend       Degree       0.815302\n",
      "4              Pair       Degree       0.623742\n",
      "5            Random       Degree       0.117097\n",
      "6            Friend  Eigenvector       0.692379\n",
      "7              Pair  Eigenvector       0.554406\n",
      "8            Random  Eigenvector       0.192569\n",
      "9            Friend         Katz       0.579484\n",
      "10             Pair         Katz       0.481393\n",
      "11           Random         Katz       0.200772\n",
      "12           Friend    Page Rank       0.830413\n",
      "13             Pair    Page Rank       0.631759\n",
      "14           Random    Page Rank       0.084275\n",
      "aves-weaver-social N =  445\n",
      "   Targeting Method      Measure  Measure Value\n",
      "0            Friend   Betweeness       0.716861\n",
      "1              Pair   Betweeness       0.596163\n",
      "2            Random   Betweeness      -0.065369\n",
      "3            Friend       Degree       0.656582\n",
      "4              Pair       Degree       0.491219\n",
      "5            Random       Degree      -0.056196\n",
      "6            Friend  Eigenvector       0.028565\n",
      "7              Pair  Eigenvector       0.024468\n",
      "8            Random  Eigenvector      -0.065733\n",
      "9            Friend         Katz      -0.086667\n",
      "10             Pair         Katz      -0.075088\n",
      "11           Random         Katz       0.074643\n",
      "12           Friend    Page Rank       0.862446\n",
      "13             Pair    Page Rank       0.679368\n",
      "14           Random    Page Rank      -0.047179\n",
      "kidnappings N =  351\n",
      "   Targeting Method      Measure  Measure Value\n",
      "0            Friend   Betweeness       0.548464\n",
      "1              Pair   Betweeness       0.533883\n",
      "2            Random   Betweeness      -0.026235\n",
      "3            Friend       Degree       0.585037\n",
      "4              Pair       Degree       0.574302\n",
      "5            Random       Degree      -0.013057\n",
      "6            Friend  Eigenvector      -0.376398\n",
      "7              Pair  Eigenvector      -0.368191\n",
      "8            Random  Eigenvector       0.106190\n",
      "9            Friend         Katz      -0.179178\n",
      "10             Pair         Katz      -0.159587\n",
      "11           Random         Katz       0.064616\n",
      "12           Friend    Page Rank       0.843413\n",
      "13             Pair    Page Rank       0.795545\n",
      "14           Random    Page Rank      -0.038074\n",
      "email_company N =  167\n",
      "   Targeting Method      Measure  Measure Value\n",
      "0            Friend   Betweeness       0.955131\n",
      "1              Pair   Betweeness       0.840028\n",
      "2            Random   Betweeness      -0.042319\n",
      "3            Friend       Degree       0.927389\n",
      "4              Pair       Degree       0.810403\n",
      "5            Random       Degree      -0.002745\n",
      "6            Friend  Eigenvector       0.913159\n",
      "7              Pair  Eigenvector       0.789245\n",
      "8            Random  Eigenvector      -0.008304\n",
      "9            Friend         Katz      -0.486692\n",
      "10             Pair         Katz      -0.450812\n",
      "11           Random         Katz       0.075018\n",
      "12           Friend    Page Rank       0.944929\n",
      "13             Pair    Page Rank       0.827650\n",
      "14           Random    Page Rank       0.000505\n",
      "moreno_taro N =  22\n",
      "   Targeting Method      Measure  Measure Value\n",
      "0            Friend   Betweeness       0.485554\n",
      "1              Pair   Betweeness       0.120913\n",
      "2            Random   Betweeness      -0.300851\n",
      "3            Friend       Degree       0.734413\n",
      "4              Pair       Degree       0.332376\n",
      "5            Random       Degree      -0.337844\n",
      "6            Friend  Eigenvector       0.356275\n",
      "7              Pair  Eigenvector       0.248585\n",
      "8            Random  Eigenvector      -0.459929\n",
      "9            Friend         Katz       0.385728\n",
      "10             Pair         Katz       0.199095\n",
      "11           Random         Katz      -0.514871\n",
      "12           Friend    Page Rank       0.785617\n",
      "13             Pair    Page Rank       0.311158\n",
      "14           Random    Page Rank      -0.137639\n",
      "CPU times: user 7min 28s, sys: 1.86 s, total: 7min 30s\n",
      "Wall time: 7min 25s\n"
     ]
    }
   ],
   "source": [
    "%%time\n",
    "\n",
    "for i,G in enumerate(G_list):    \n",
    "\n",
    "    probs, centralities = get_prob_centralities(G, n_samples, p) \n",
    "    \n",
    "    combinedDataProbs = pd.concat([centralities, probs], axis=1)\n",
    "\n",
    "    seedNames = [\"Random\", \"Friend\", \"Pair\"]\n",
    "    meltedDataProbs = pd.melt(combinedDataProbs.reset_index(), id_vars = [*seedNames, \"index\"], value_name = 'Measure Value', var_name = \"Measure\")\n",
    "    meltedDataProbs = pd.melt(meltedDataProbs, id_vars = [\"index\", \"Measure\", \"Measure Value\"], value_name = 'Selection Probability', var_name = \"Targeting Method\")\n",
    "\n",
    "    # Calculating Spearman Correlation\n",
    "    spearmanData = meltedDataProbs.groupby(['Targeting Method', 'Measure'])[['Selection Probability','Measure Value']].corr(method=\"spearman\").iloc[0::2,-1]\n",
    "    # Dropping level_2 which was artificially created by grouping\n",
    "    spearmanData = spearmanData.reset_index().drop('level_2', axis = 1).query(\"`Measure Value` != 1\")\n",
    "\n",
    "    print(data_paths[i], \"N = \", str(nx.number_of_nodes(G)))\n",
    "    res = spearmanData.sort_values(\"Measure\").reset_index().drop(\"index\", axis = 1)\n",
    "    print(res)\n",
    "    big_res[data_paths[i] + \" N={}\".format(nx.number_of_nodes(G))] = res['Measure Value']\n",
    "    "
   ]
  },
  {
   "cell_type": "code",
   "execution_count": 31,
   "id": "2d658d58",
   "metadata": {},
   "outputs": [
    {
     "data": {
      "text/plain": [
       "Index(['Targeting Method', 'Measure', 'Vil60 N=356', 'Vil59 N=329',\n",
       "       'Vil52 N=327', 'Vil71 N=298', 'Vil65 N=297',\n",
       "       'contacts-prox-high-school-2013 N=327', 'inf-euroroad N=1174',\n",
       "       'bt.csv N=692', 'swingers N=96', 'Karate N=34',\n",
       "       'kor.2015.mers.1.00 N=186', 'uni_email N=1133',\n",
       "       'contacts-prox-high-school-2013-attr N=327', 'sgp.2003.sars.1.00 N=172',\n",
       "       'law_firm N=71', 'fb-messages N=1899', 'soc-hamsterster N=2426',\n",
       "       'webkb-wisc N=265', 'usa.2020.covid.6.00 N=92',\n",
       "       'primary-school-proximity N=242', 'KKI N=2238', 'infect-hyper N=113',\n",
       "       'infect-dublin N=410', 'fb_friends.csv N=800', 'high_tech_company N=21',\n",
       "       'usa.2009.flu.1.00 N=286', 'soc-firm-hi-tech N=33',\n",
       "       'physician_trust N=241', '7th_graders N=29', 'aves-weaver-social N=445',\n",
       "       'kidnappings N=351', 'email_company N=167', 'moreno_taro N=22'],\n",
       "      dtype='object')"
      ]
     },
     "execution_count": 31,
     "metadata": {},
     "output_type": "execute_result"
    }
   ],
   "source": [
    "#big_res.to_csv(\"correlations_dat.csv\", index = False)\n",
    "big_res.columns"
   ]
  },
  {
   "cell_type": "code",
   "execution_count": 37,
   "id": "c609b150",
   "metadata": {},
   "outputs": [
    {
     "data": {
      "application/vnd.plotly.v1+json": {
       "config": {
        "plotlyServerURL": "https://plot.ly"
       },
       "data": [
        {
         "text": [
          [
           0.7145184007605998,
           0.7217055606650856,
           -0.03624172880751411,
           0.5265800230047455,
           0.8807055283605478
          ],
          [
           0.6134197734230536,
           0.6206153356784565,
           -0.04315819718541695,
           0.4594184541288026,
           0.754391500257742
          ],
          [
           0.013137940772725913,
           -0.00243589775524214,
           0.03131905939676232,
           -0.02015864583171167,
           0.006904998078806644
          ]
         ],
         "texttemplate": "%{text:.2f}",
         "type": "heatmap",
         "x": [
          "Betweeness",
          "Degree",
          "Eigenvector",
          "Katz",
          "Page Rank"
         ],
         "y": [
          "Friend",
          "Pair",
          "Random"
         ],
         "z": [
          [
           0.7145184007605998,
           0.7217055606650856,
           -0.03624172880751411,
           0.5265800230047455,
           0.8807055283605478
          ],
          [
           0.6134197734230536,
           0.6206153356784565,
           -0.04315819718541695,
           0.4594184541288026,
           0.754391500257742
          ],
          [
           0.013137940772725913,
           -0.00243589775524214,
           0.03131905939676232,
           -0.02015864583171167,
           0.006904998078806644
          ]
         ]
        }
       ],
       "layout": {
        "template": {
         "data": {
          "bar": [
           {
            "error_x": {
             "color": "#2a3f5f"
            },
            "error_y": {
             "color": "#2a3f5f"
            },
            "marker": {
             "line": {
              "color": "#E5ECF6",
              "width": 0.5
             },
             "pattern": {
              "fillmode": "overlay",
              "size": 10,
              "solidity": 0.2
             }
            },
            "type": "bar"
           }
          ],
          "barpolar": [
           {
            "marker": {
             "line": {
              "color": "#E5ECF6",
              "width": 0.5
             },
             "pattern": {
              "fillmode": "overlay",
              "size": 10,
              "solidity": 0.2
             }
            },
            "type": "barpolar"
           }
          ],
          "carpet": [
           {
            "aaxis": {
             "endlinecolor": "#2a3f5f",
             "gridcolor": "white",
             "linecolor": "white",
             "minorgridcolor": "white",
             "startlinecolor": "#2a3f5f"
            },
            "baxis": {
             "endlinecolor": "#2a3f5f",
             "gridcolor": "white",
             "linecolor": "white",
             "minorgridcolor": "white",
             "startlinecolor": "#2a3f5f"
            },
            "type": "carpet"
           }
          ],
          "choropleth": [
           {
            "colorbar": {
             "outlinewidth": 0,
             "ticks": ""
            },
            "type": "choropleth"
           }
          ],
          "contour": [
           {
            "colorbar": {
             "outlinewidth": 0,
             "ticks": ""
            },
            "colorscale": [
             [
              0,
              "#0d0887"
             ],
             [
              0.1111111111111111,
              "#46039f"
             ],
             [
              0.2222222222222222,
              "#7201a8"
             ],
             [
              0.3333333333333333,
              "#9c179e"
             ],
             [
              0.4444444444444444,
              "#bd3786"
             ],
             [
              0.5555555555555556,
              "#d8576b"
             ],
             [
              0.6666666666666666,
              "#ed7953"
             ],
             [
              0.7777777777777778,
              "#fb9f3a"
             ],
             [
              0.8888888888888888,
              "#fdca26"
             ],
             [
              1,
              "#f0f921"
             ]
            ],
            "type": "contour"
           }
          ],
          "contourcarpet": [
           {
            "colorbar": {
             "outlinewidth": 0,
             "ticks": ""
            },
            "type": "contourcarpet"
           }
          ],
          "heatmap": [
           {
            "colorbar": {
             "outlinewidth": 0,
             "ticks": ""
            },
            "colorscale": [
             [
              0,
              "#0d0887"
             ],
             [
              0.1111111111111111,
              "#46039f"
             ],
             [
              0.2222222222222222,
              "#7201a8"
             ],
             [
              0.3333333333333333,
              "#9c179e"
             ],
             [
              0.4444444444444444,
              "#bd3786"
             ],
             [
              0.5555555555555556,
              "#d8576b"
             ],
             [
              0.6666666666666666,
              "#ed7953"
             ],
             [
              0.7777777777777778,
              "#fb9f3a"
             ],
             [
              0.8888888888888888,
              "#fdca26"
             ],
             [
              1,
              "#f0f921"
             ]
            ],
            "type": "heatmap"
           }
          ],
          "heatmapgl": [
           {
            "colorbar": {
             "outlinewidth": 0,
             "ticks": ""
            },
            "colorscale": [
             [
              0,
              "#0d0887"
             ],
             [
              0.1111111111111111,
              "#46039f"
             ],
             [
              0.2222222222222222,
              "#7201a8"
             ],
             [
              0.3333333333333333,
              "#9c179e"
             ],
             [
              0.4444444444444444,
              "#bd3786"
             ],
             [
              0.5555555555555556,
              "#d8576b"
             ],
             [
              0.6666666666666666,
              "#ed7953"
             ],
             [
              0.7777777777777778,
              "#fb9f3a"
             ],
             [
              0.8888888888888888,
              "#fdca26"
             ],
             [
              1,
              "#f0f921"
             ]
            ],
            "type": "heatmapgl"
           }
          ],
          "histogram": [
           {
            "marker": {
             "pattern": {
              "fillmode": "overlay",
              "size": 10,
              "solidity": 0.2
             }
            },
            "type": "histogram"
           }
          ],
          "histogram2d": [
           {
            "colorbar": {
             "outlinewidth": 0,
             "ticks": ""
            },
            "colorscale": [
             [
              0,
              "#0d0887"
             ],
             [
              0.1111111111111111,
              "#46039f"
             ],
             [
              0.2222222222222222,
              "#7201a8"
             ],
             [
              0.3333333333333333,
              "#9c179e"
             ],
             [
              0.4444444444444444,
              "#bd3786"
             ],
             [
              0.5555555555555556,
              "#d8576b"
             ],
             [
              0.6666666666666666,
              "#ed7953"
             ],
             [
              0.7777777777777778,
              "#fb9f3a"
             ],
             [
              0.8888888888888888,
              "#fdca26"
             ],
             [
              1,
              "#f0f921"
             ]
            ],
            "type": "histogram2d"
           }
          ],
          "histogram2dcontour": [
           {
            "colorbar": {
             "outlinewidth": 0,
             "ticks": ""
            },
            "colorscale": [
             [
              0,
              "#0d0887"
             ],
             [
              0.1111111111111111,
              "#46039f"
             ],
             [
              0.2222222222222222,
              "#7201a8"
             ],
             [
              0.3333333333333333,
              "#9c179e"
             ],
             [
              0.4444444444444444,
              "#bd3786"
             ],
             [
              0.5555555555555556,
              "#d8576b"
             ],
             [
              0.6666666666666666,
              "#ed7953"
             ],
             [
              0.7777777777777778,
              "#fb9f3a"
             ],
             [
              0.8888888888888888,
              "#fdca26"
             ],
             [
              1,
              "#f0f921"
             ]
            ],
            "type": "histogram2dcontour"
           }
          ],
          "mesh3d": [
           {
            "colorbar": {
             "outlinewidth": 0,
             "ticks": ""
            },
            "type": "mesh3d"
           }
          ],
          "parcoords": [
           {
            "line": {
             "colorbar": {
              "outlinewidth": 0,
              "ticks": ""
             }
            },
            "type": "parcoords"
           }
          ],
          "pie": [
           {
            "automargin": true,
            "type": "pie"
           }
          ],
          "scatter": [
           {
            "fillpattern": {
             "fillmode": "overlay",
             "size": 10,
             "solidity": 0.2
            },
            "type": "scatter"
           }
          ],
          "scatter3d": [
           {
            "line": {
             "colorbar": {
              "outlinewidth": 0,
              "ticks": ""
             }
            },
            "marker": {
             "colorbar": {
              "outlinewidth": 0,
              "ticks": ""
             }
            },
            "type": "scatter3d"
           }
          ],
          "scattercarpet": [
           {
            "marker": {
             "colorbar": {
              "outlinewidth": 0,
              "ticks": ""
             }
            },
            "type": "scattercarpet"
           }
          ],
          "scattergeo": [
           {
            "marker": {
             "colorbar": {
              "outlinewidth": 0,
              "ticks": ""
             }
            },
            "type": "scattergeo"
           }
          ],
          "scattergl": [
           {
            "marker": {
             "colorbar": {
              "outlinewidth": 0,
              "ticks": ""
             }
            },
            "type": "scattergl"
           }
          ],
          "scattermapbox": [
           {
            "marker": {
             "colorbar": {
              "outlinewidth": 0,
              "ticks": ""
             }
            },
            "type": "scattermapbox"
           }
          ],
          "scatterpolar": [
           {
            "marker": {
             "colorbar": {
              "outlinewidth": 0,
              "ticks": ""
             }
            },
            "type": "scatterpolar"
           }
          ],
          "scatterpolargl": [
           {
            "marker": {
             "colorbar": {
              "outlinewidth": 0,
              "ticks": ""
             }
            },
            "type": "scatterpolargl"
           }
          ],
          "scatterternary": [
           {
            "marker": {
             "colorbar": {
              "outlinewidth": 0,
              "ticks": ""
             }
            },
            "type": "scatterternary"
           }
          ],
          "surface": [
           {
            "colorbar": {
             "outlinewidth": 0,
             "ticks": ""
            },
            "colorscale": [
             [
              0,
              "#0d0887"
             ],
             [
              0.1111111111111111,
              "#46039f"
             ],
             [
              0.2222222222222222,
              "#7201a8"
             ],
             [
              0.3333333333333333,
              "#9c179e"
             ],
             [
              0.4444444444444444,
              "#bd3786"
             ],
             [
              0.5555555555555556,
              "#d8576b"
             ],
             [
              0.6666666666666666,
              "#ed7953"
             ],
             [
              0.7777777777777778,
              "#fb9f3a"
             ],
             [
              0.8888888888888888,
              "#fdca26"
             ],
             [
              1,
              "#f0f921"
             ]
            ],
            "type": "surface"
           }
          ],
          "table": [
           {
            "cells": {
             "fill": {
              "color": "#EBF0F8"
             },
             "line": {
              "color": "white"
             }
            },
            "header": {
             "fill": {
              "color": "#C8D4E3"
             },
             "line": {
              "color": "white"
             }
            },
            "type": "table"
           }
          ]
         },
         "layout": {
          "annotationdefaults": {
           "arrowcolor": "#2a3f5f",
           "arrowhead": 0,
           "arrowwidth": 1
          },
          "autotypenumbers": "strict",
          "coloraxis": {
           "colorbar": {
            "outlinewidth": 0,
            "ticks": ""
           }
          },
          "colorscale": {
           "diverging": [
            [
             0,
             "#8e0152"
            ],
            [
             0.1,
             "#c51b7d"
            ],
            [
             0.2,
             "#de77ae"
            ],
            [
             0.3,
             "#f1b6da"
            ],
            [
             0.4,
             "#fde0ef"
            ],
            [
             0.5,
             "#f7f7f7"
            ],
            [
             0.6,
             "#e6f5d0"
            ],
            [
             0.7,
             "#b8e186"
            ],
            [
             0.8,
             "#7fbc41"
            ],
            [
             0.9,
             "#4d9221"
            ],
            [
             1,
             "#276419"
            ]
           ],
           "sequential": [
            [
             0,
             "#0d0887"
            ],
            [
             0.1111111111111111,
             "#46039f"
            ],
            [
             0.2222222222222222,
             "#7201a8"
            ],
            [
             0.3333333333333333,
             "#9c179e"
            ],
            [
             0.4444444444444444,
             "#bd3786"
            ],
            [
             0.5555555555555556,
             "#d8576b"
            ],
            [
             0.6666666666666666,
             "#ed7953"
            ],
            [
             0.7777777777777778,
             "#fb9f3a"
            ],
            [
             0.8888888888888888,
             "#fdca26"
            ],
            [
             1,
             "#f0f921"
            ]
           ],
           "sequentialminus": [
            [
             0,
             "#0d0887"
            ],
            [
             0.1111111111111111,
             "#46039f"
            ],
            [
             0.2222222222222222,
             "#7201a8"
            ],
            [
             0.3333333333333333,
             "#9c179e"
            ],
            [
             0.4444444444444444,
             "#bd3786"
            ],
            [
             0.5555555555555556,
             "#d8576b"
            ],
            [
             0.6666666666666666,
             "#ed7953"
            ],
            [
             0.7777777777777778,
             "#fb9f3a"
            ],
            [
             0.8888888888888888,
             "#fdca26"
            ],
            [
             1,
             "#f0f921"
            ]
           ]
          },
          "colorway": [
           "#636efa",
           "#EF553B",
           "#00cc96",
           "#ab63fa",
           "#FFA15A",
           "#19d3f3",
           "#FF6692",
           "#B6E880",
           "#FF97FF",
           "#FECB52"
          ],
          "font": {
           "color": "#2a3f5f"
          },
          "geo": {
           "bgcolor": "white",
           "lakecolor": "white",
           "landcolor": "#E5ECF6",
           "showlakes": true,
           "showland": true,
           "subunitcolor": "white"
          },
          "hoverlabel": {
           "align": "left"
          },
          "hovermode": "closest",
          "mapbox": {
           "style": "light"
          },
          "paper_bgcolor": "white",
          "plot_bgcolor": "#E5ECF6",
          "polar": {
           "angularaxis": {
            "gridcolor": "white",
            "linecolor": "white",
            "ticks": ""
           },
           "bgcolor": "#E5ECF6",
           "radialaxis": {
            "gridcolor": "white",
            "linecolor": "white",
            "ticks": ""
           }
          },
          "scene": {
           "xaxis": {
            "backgroundcolor": "#E5ECF6",
            "gridcolor": "white",
            "gridwidth": 2,
            "linecolor": "white",
            "showbackground": true,
            "ticks": "",
            "zerolinecolor": "white"
           },
           "yaxis": {
            "backgroundcolor": "#E5ECF6",
            "gridcolor": "white",
            "gridwidth": 2,
            "linecolor": "white",
            "showbackground": true,
            "ticks": "",
            "zerolinecolor": "white"
           },
           "zaxis": {
            "backgroundcolor": "#E5ECF6",
            "gridcolor": "white",
            "gridwidth": 2,
            "linecolor": "white",
            "showbackground": true,
            "ticks": "",
            "zerolinecolor": "white"
           }
          },
          "shapedefaults": {
           "line": {
            "color": "#2a3f5f"
           }
          },
          "ternary": {
           "aaxis": {
            "gridcolor": "white",
            "linecolor": "white",
            "ticks": ""
           },
           "baxis": {
            "gridcolor": "white",
            "linecolor": "white",
            "ticks": ""
           },
           "bgcolor": "#E5ECF6",
           "caxis": {
            "gridcolor": "white",
            "linecolor": "white",
            "ticks": ""
           }
          },
          "title": {
           "x": 0.05
          },
          "xaxis": {
           "automargin": true,
           "gridcolor": "white",
           "linecolor": "white",
           "ticks": "",
           "title": {
            "standoff": 15
           },
           "zerolinecolor": "white",
           "zerolinewidth": 2
          },
          "yaxis": {
           "automargin": true,
           "gridcolor": "white",
           "linecolor": "white",
           "ticks": "",
           "title": {
            "standoff": 15
           },
           "zerolinecolor": "white",
           "zerolinewidth": 2
          }
         }
        }
       }
      },
      "text/html": [
       "<div>                            <div id=\"702a1309-12eb-48f6-8e3c-e0286b5a8608\" class=\"plotly-graph-div\" style=\"height:525px; width:100%;\"></div>            <script type=\"text/javascript\">                require([\"plotly\"], function(Plotly) {                    window.PLOTLYENV=window.PLOTLYENV || {};                                    if (document.getElementById(\"702a1309-12eb-48f6-8e3c-e0286b5a8608\")) {                    Plotly.newPlot(                        \"702a1309-12eb-48f6-8e3c-e0286b5a8608\",                        [{\"text\":[[0.7145184007605998,0.7217055606650856,-0.03624172880751411,0.5265800230047455,0.8807055283605478],[0.6134197734230536,0.6206153356784565,-0.04315819718541695,0.4594184541288026,0.754391500257742],[0.013137940772725913,-0.00243589775524214,0.03131905939676232,-0.02015864583171167,0.006904998078806644]],\"texttemplate\":\"%{text:.2f}\",\"x\":[\"Betweeness\",\"Degree\",\"Eigenvector\",\"Katz\",\"Page Rank\"],\"y\":[\"Friend\",\"Pair\",\"Random\"],\"z\":[[0.7145184007605998,0.7217055606650856,-0.03624172880751411,0.5265800230047455,0.8807055283605478],[0.6134197734230536,0.6206153356784565,-0.04315819718541695,0.4594184541288026,0.754391500257742],[0.013137940772725913,-0.00243589775524214,0.03131905939676232,-0.02015864583171167,0.006904998078806644]],\"type\":\"heatmap\"}],                        {\"template\":{\"data\":{\"histogram2dcontour\":[{\"type\":\"histogram2dcontour\",\"colorbar\":{\"outlinewidth\":0,\"ticks\":\"\"},\"colorscale\":[[0.0,\"#0d0887\"],[0.1111111111111111,\"#46039f\"],[0.2222222222222222,\"#7201a8\"],[0.3333333333333333,\"#9c179e\"],[0.4444444444444444,\"#bd3786\"],[0.5555555555555556,\"#d8576b\"],[0.6666666666666666,\"#ed7953\"],[0.7777777777777778,\"#fb9f3a\"],[0.8888888888888888,\"#fdca26\"],[1.0,\"#f0f921\"]]}],\"choropleth\":[{\"type\":\"choropleth\",\"colorbar\":{\"outlinewidth\":0,\"ticks\":\"\"}}],\"histogram2d\":[{\"type\":\"histogram2d\",\"colorbar\":{\"outlinewidth\":0,\"ticks\":\"\"},\"colorscale\":[[0.0,\"#0d0887\"],[0.1111111111111111,\"#46039f\"],[0.2222222222222222,\"#7201a8\"],[0.3333333333333333,\"#9c179e\"],[0.4444444444444444,\"#bd3786\"],[0.5555555555555556,\"#d8576b\"],[0.6666666666666666,\"#ed7953\"],[0.7777777777777778,\"#fb9f3a\"],[0.8888888888888888,\"#fdca26\"],[1.0,\"#f0f921\"]]}],\"heatmap\":[{\"type\":\"heatmap\",\"colorbar\":{\"outlinewidth\":0,\"ticks\":\"\"},\"colorscale\":[[0.0,\"#0d0887\"],[0.1111111111111111,\"#46039f\"],[0.2222222222222222,\"#7201a8\"],[0.3333333333333333,\"#9c179e\"],[0.4444444444444444,\"#bd3786\"],[0.5555555555555556,\"#d8576b\"],[0.6666666666666666,\"#ed7953\"],[0.7777777777777778,\"#fb9f3a\"],[0.8888888888888888,\"#fdca26\"],[1.0,\"#f0f921\"]]}],\"heatmapgl\":[{\"type\":\"heatmapgl\",\"colorbar\":{\"outlinewidth\":0,\"ticks\":\"\"},\"colorscale\":[[0.0,\"#0d0887\"],[0.1111111111111111,\"#46039f\"],[0.2222222222222222,\"#7201a8\"],[0.3333333333333333,\"#9c179e\"],[0.4444444444444444,\"#bd3786\"],[0.5555555555555556,\"#d8576b\"],[0.6666666666666666,\"#ed7953\"],[0.7777777777777778,\"#fb9f3a\"],[0.8888888888888888,\"#fdca26\"],[1.0,\"#f0f921\"]]}],\"contourcarpet\":[{\"type\":\"contourcarpet\",\"colorbar\":{\"outlinewidth\":0,\"ticks\":\"\"}}],\"contour\":[{\"type\":\"contour\",\"colorbar\":{\"outlinewidth\":0,\"ticks\":\"\"},\"colorscale\":[[0.0,\"#0d0887\"],[0.1111111111111111,\"#46039f\"],[0.2222222222222222,\"#7201a8\"],[0.3333333333333333,\"#9c179e\"],[0.4444444444444444,\"#bd3786\"],[0.5555555555555556,\"#d8576b\"],[0.6666666666666666,\"#ed7953\"],[0.7777777777777778,\"#fb9f3a\"],[0.8888888888888888,\"#fdca26\"],[1.0,\"#f0f921\"]]}],\"surface\":[{\"type\":\"surface\",\"colorbar\":{\"outlinewidth\":0,\"ticks\":\"\"},\"colorscale\":[[0.0,\"#0d0887\"],[0.1111111111111111,\"#46039f\"],[0.2222222222222222,\"#7201a8\"],[0.3333333333333333,\"#9c179e\"],[0.4444444444444444,\"#bd3786\"],[0.5555555555555556,\"#d8576b\"],[0.6666666666666666,\"#ed7953\"],[0.7777777777777778,\"#fb9f3a\"],[0.8888888888888888,\"#fdca26\"],[1.0,\"#f0f921\"]]}],\"mesh3d\":[{\"type\":\"mesh3d\",\"colorbar\":{\"outlinewidth\":0,\"ticks\":\"\"}}],\"scatter\":[{\"fillpattern\":{\"fillmode\":\"overlay\",\"size\":10,\"solidity\":0.2},\"type\":\"scatter\"}],\"parcoords\":[{\"type\":\"parcoords\",\"line\":{\"colorbar\":{\"outlinewidth\":0,\"ticks\":\"\"}}}],\"scatterpolargl\":[{\"type\":\"scatterpolargl\",\"marker\":{\"colorbar\":{\"outlinewidth\":0,\"ticks\":\"\"}}}],\"bar\":[{\"error_x\":{\"color\":\"#2a3f5f\"},\"error_y\":{\"color\":\"#2a3f5f\"},\"marker\":{\"line\":{\"color\":\"#E5ECF6\",\"width\":0.5},\"pattern\":{\"fillmode\":\"overlay\",\"size\":10,\"solidity\":0.2}},\"type\":\"bar\"}],\"scattergeo\":[{\"type\":\"scattergeo\",\"marker\":{\"colorbar\":{\"outlinewidth\":0,\"ticks\":\"\"}}}],\"scatterpolar\":[{\"type\":\"scatterpolar\",\"marker\":{\"colorbar\":{\"outlinewidth\":0,\"ticks\":\"\"}}}],\"histogram\":[{\"marker\":{\"pattern\":{\"fillmode\":\"overlay\",\"size\":10,\"solidity\":0.2}},\"type\":\"histogram\"}],\"scattergl\":[{\"type\":\"scattergl\",\"marker\":{\"colorbar\":{\"outlinewidth\":0,\"ticks\":\"\"}}}],\"scatter3d\":[{\"type\":\"scatter3d\",\"line\":{\"colorbar\":{\"outlinewidth\":0,\"ticks\":\"\"}},\"marker\":{\"colorbar\":{\"outlinewidth\":0,\"ticks\":\"\"}}}],\"scattermapbox\":[{\"type\":\"scattermapbox\",\"marker\":{\"colorbar\":{\"outlinewidth\":0,\"ticks\":\"\"}}}],\"scatterternary\":[{\"type\":\"scatterternary\",\"marker\":{\"colorbar\":{\"outlinewidth\":0,\"ticks\":\"\"}}}],\"scattercarpet\":[{\"type\":\"scattercarpet\",\"marker\":{\"colorbar\":{\"outlinewidth\":0,\"ticks\":\"\"}}}],\"carpet\":[{\"aaxis\":{\"endlinecolor\":\"#2a3f5f\",\"gridcolor\":\"white\",\"linecolor\":\"white\",\"minorgridcolor\":\"white\",\"startlinecolor\":\"#2a3f5f\"},\"baxis\":{\"endlinecolor\":\"#2a3f5f\",\"gridcolor\":\"white\",\"linecolor\":\"white\",\"minorgridcolor\":\"white\",\"startlinecolor\":\"#2a3f5f\"},\"type\":\"carpet\"}],\"table\":[{\"cells\":{\"fill\":{\"color\":\"#EBF0F8\"},\"line\":{\"color\":\"white\"}},\"header\":{\"fill\":{\"color\":\"#C8D4E3\"},\"line\":{\"color\":\"white\"}},\"type\":\"table\"}],\"barpolar\":[{\"marker\":{\"line\":{\"color\":\"#E5ECF6\",\"width\":0.5},\"pattern\":{\"fillmode\":\"overlay\",\"size\":10,\"solidity\":0.2}},\"type\":\"barpolar\"}],\"pie\":[{\"automargin\":true,\"type\":\"pie\"}]},\"layout\":{\"autotypenumbers\":\"strict\",\"colorway\":[\"#636efa\",\"#EF553B\",\"#00cc96\",\"#ab63fa\",\"#FFA15A\",\"#19d3f3\",\"#FF6692\",\"#B6E880\",\"#FF97FF\",\"#FECB52\"],\"font\":{\"color\":\"#2a3f5f\"},\"hovermode\":\"closest\",\"hoverlabel\":{\"align\":\"left\"},\"paper_bgcolor\":\"white\",\"plot_bgcolor\":\"#E5ECF6\",\"polar\":{\"bgcolor\":\"#E5ECF6\",\"angularaxis\":{\"gridcolor\":\"white\",\"linecolor\":\"white\",\"ticks\":\"\"},\"radialaxis\":{\"gridcolor\":\"white\",\"linecolor\":\"white\",\"ticks\":\"\"}},\"ternary\":{\"bgcolor\":\"#E5ECF6\",\"aaxis\":{\"gridcolor\":\"white\",\"linecolor\":\"white\",\"ticks\":\"\"},\"baxis\":{\"gridcolor\":\"white\",\"linecolor\":\"white\",\"ticks\":\"\"},\"caxis\":{\"gridcolor\":\"white\",\"linecolor\":\"white\",\"ticks\":\"\"}},\"coloraxis\":{\"colorbar\":{\"outlinewidth\":0,\"ticks\":\"\"}},\"colorscale\":{\"sequential\":[[0.0,\"#0d0887\"],[0.1111111111111111,\"#46039f\"],[0.2222222222222222,\"#7201a8\"],[0.3333333333333333,\"#9c179e\"],[0.4444444444444444,\"#bd3786\"],[0.5555555555555556,\"#d8576b\"],[0.6666666666666666,\"#ed7953\"],[0.7777777777777778,\"#fb9f3a\"],[0.8888888888888888,\"#fdca26\"],[1.0,\"#f0f921\"]],\"sequentialminus\":[[0.0,\"#0d0887\"],[0.1111111111111111,\"#46039f\"],[0.2222222222222222,\"#7201a8\"],[0.3333333333333333,\"#9c179e\"],[0.4444444444444444,\"#bd3786\"],[0.5555555555555556,\"#d8576b\"],[0.6666666666666666,\"#ed7953\"],[0.7777777777777778,\"#fb9f3a\"],[0.8888888888888888,\"#fdca26\"],[1.0,\"#f0f921\"]],\"diverging\":[[0,\"#8e0152\"],[0.1,\"#c51b7d\"],[0.2,\"#de77ae\"],[0.3,\"#f1b6da\"],[0.4,\"#fde0ef\"],[0.5,\"#f7f7f7\"],[0.6,\"#e6f5d0\"],[0.7,\"#b8e186\"],[0.8,\"#7fbc41\"],[0.9,\"#4d9221\"],[1,\"#276419\"]]},\"xaxis\":{\"gridcolor\":\"white\",\"linecolor\":\"white\",\"ticks\":\"\",\"title\":{\"standoff\":15},\"zerolinecolor\":\"white\",\"automargin\":true,\"zerolinewidth\":2},\"yaxis\":{\"gridcolor\":\"white\",\"linecolor\":\"white\",\"ticks\":\"\",\"title\":{\"standoff\":15},\"zerolinecolor\":\"white\",\"automargin\":true,\"zerolinewidth\":2},\"scene\":{\"xaxis\":{\"backgroundcolor\":\"#E5ECF6\",\"gridcolor\":\"white\",\"linecolor\":\"white\",\"showbackground\":true,\"ticks\":\"\",\"zerolinecolor\":\"white\",\"gridwidth\":2},\"yaxis\":{\"backgroundcolor\":\"#E5ECF6\",\"gridcolor\":\"white\",\"linecolor\":\"white\",\"showbackground\":true,\"ticks\":\"\",\"zerolinecolor\":\"white\",\"gridwidth\":2},\"zaxis\":{\"backgroundcolor\":\"#E5ECF6\",\"gridcolor\":\"white\",\"linecolor\":\"white\",\"showbackground\":true,\"ticks\":\"\",\"zerolinecolor\":\"white\",\"gridwidth\":2}},\"shapedefaults\":{\"line\":{\"color\":\"#2a3f5f\"}},\"annotationdefaults\":{\"arrowcolor\":\"#2a3f5f\",\"arrowhead\":0,\"arrowwidth\":1},\"geo\":{\"bgcolor\":\"white\",\"landcolor\":\"#E5ECF6\",\"subunitcolor\":\"white\",\"showland\":true,\"showlakes\":true,\"lakecolor\":\"white\"},\"title\":{\"x\":0.05},\"mapbox\":{\"style\":\"light\"}}}},                        {\"responsive\": true}                    ).then(function(){\n",
       "                            \n",
       "var gd = document.getElementById('702a1309-12eb-48f6-8e3c-e0286b5a8608');\n",
       "var x = new MutationObserver(function (mutations, observer) {{\n",
       "        var display = window.getComputedStyle(gd).display;\n",
       "        if (!display || display === 'none') {{\n",
       "            console.log([gd, 'removed!']);\n",
       "            Plotly.purge(gd);\n",
       "            observer.disconnect();\n",
       "        }}\n",
       "}});\n",
       "\n",
       "// Listen for the removal of the full notebook cells\n",
       "var notebookContainer = gd.closest('#notebook-container');\n",
       "if (notebookContainer) {{\n",
       "    x.observe(notebookContainer, {childList: true});\n",
       "}}\n",
       "\n",
       "// Listen for the clearing of the current output cell\n",
       "var outputEl = gd.closest('.output');\n",
       "if (outputEl) {{\n",
       "    x.observe(outputEl, {childList: true});\n",
       "}}\n",
       "\n",
       "                        })                };                });            </script>        </div>"
      ]
     },
     "metadata": {},
     "output_type": "display_data"
    }
   ],
   "source": [
    "import plotly.graph_objects as go\n",
    "\n",
    "column = 'KKI N=2238' #place the colname here to choose which network\n",
    "spearmanData = big_res[[\"Targeting Method\", \"Measure\", column]]\n",
    "\n",
    "fig = go.Figure()\n",
    "fig.add_trace(\n",
    "    go.Heatmap(\n",
    "        x = spearmanData.pivot(\"Targeting Method\", \"Measure\", column).columns,\n",
    "        y = spearmanData.pivot(\"Targeting Method\", \"Measure\", column).index,\n",
    "        z = np.array(spearmanData.pivot(\"Targeting Method\", \"Measure\", column)),\n",
    "        text = spearmanData.pivot(\"Targeting Method\", \"Measure\", column).values,\n",
    "        texttemplate = '%{text:.2f}'\n",
    "    )\n",
    ")\n",
    "fig.show()"
   ]
  }
 ],
 "metadata": {
  "kernelspec": {
   "display_name": "Python 3 (ipykernel)",
   "language": "python",
   "name": "python3"
  },
  "language_info": {
   "codemirror_mode": {
    "name": "ipython",
    "version": 3
   },
   "file_extension": ".py",
   "mimetype": "text/x-python",
   "name": "python",
   "nbconvert_exporter": "python",
   "pygments_lexer": "ipython3",
   "version": "3.8.8"
  }
 },
 "nbformat": 4,
 "nbformat_minor": 5
}
