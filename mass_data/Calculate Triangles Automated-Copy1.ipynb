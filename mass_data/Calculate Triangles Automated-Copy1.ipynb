{
 "cells": [
  {
   "cell_type": "code",
   "execution_count": 1,
   "metadata": {},
   "outputs": [],
   "source": [
    "import pandas as pd\n",
    "import glob\n",
    "import networkx as nx\n",
    "from functions import *\n",
    "import os\n",
    "import scipy as sp\n",
    "import scipy.io  \n",
    "import io\n",
    "import snap"
   ]
  },
  {
   "cell_type": "code",
   "execution_count": 2,
   "metadata": {},
   "outputs": [
    {
     "data": {
      "text/plain": [
       "['7th_graders',\n",
       " 'aves-weaver-social',\n",
       " 'bt.csv',\n",
       " 'contacts-prox-high-school-2013',\n",
       " 'contacts-prox-high-school-2013-attr',\n",
       " 'email_company',\n",
       " 'fb-messages',\n",
       " 'fb-pages-politician',\n",
       " 'fb-pages-tvshow',\n",
       " 'fb_friends.csv',\n",
       " 'high_tech_company',\n",
       " 'inf-euroroad',\n",
       " 'infect-dublin',\n",
       " 'infect-hyper',\n",
       " 'Karate',\n",
       " 'kidnappings',\n",
       " 'KKI',\n",
       " 'kor.2015.mers.1.00',\n",
       " 'law_firm',\n",
       " 'moreno_taro',\n",
       " 'physician_trust',\n",
       " 'primary-school-proximity',\n",
       " 'sgp.2003.sars.1.00',\n",
       " 'soc-firm-hi-tech',\n",
       " 'soc-hamsterster',\n",
       " 'swingers',\n",
       " 'uni_email',\n",
       " 'usa.2009.flu.1.00',\n",
       " 'usa.2020.covid.6.00',\n",
       " 'webkb-wisc']"
      ]
     },
     "execution_count": 2,
     "metadata": {},
     "output_type": "execute_result"
    }
   ],
   "source": [
    "path = \"less_than_1500_nodes\"\n",
    "[x.replace(\"{}\\\\\".format(path), \"\") for x in glob.glob(\"{}/*\".format(path))]"
   ]
  },
  {
   "cell_type": "code",
   "execution_count": 3,
   "metadata": {},
   "outputs": [],
   "source": [
    "data_paths = [x.replace(\"{}\\\\\".format(path), \"\") for x in glob.glob(\"{}/*\".format(path))]"
   ]
  },
  {
   "cell_type": "code",
   "execution_count": 4,
   "metadata": {},
   "outputs": [
    {
     "name": "stdout",
     "output_type": "stream",
     "text": [
      "7th_graders\n",
      "aves-weaver-social\n",
      "bt.csv\n",
      "contacts-prox-high-school-2013\n",
      "contacts-prox-high-school-2013-attr\n",
      "email_company\n",
      "fb-messages\n",
      "fb-pages-politician\n",
      "fb-pages-tvshow\n",
      "fb_friends.csv\n",
      "high_tech_company\n",
      "inf-euroroad\n",
      "infect-dublin\n",
      "infect-hyper\n",
      "Karate\n",
      "kidnappings\n",
      "KKI\n",
      "kor.2015.mers.1.00\n",
      "law_firm\n",
      "moreno_taro\n",
      "physician_trust\n",
      "primary-school-proximity\n",
      "sgp.2003.sars.1.00\n",
      "soc-firm-hi-tech\n",
      "soc-hamsterster\n",
      "swingers\n",
      "uni_email\n",
      "usa.2009.flu.1.00\n",
      "usa.2020.covid.6.00\n",
      "webkb-wisc\n"
     ]
    }
   ],
   "source": [
    "G_list = []\n",
    "for d_path in data_paths:\n",
    "    print(d_path)\n",
    "    if any(fname.endswith('.csv') for fname in  glob.glob('{}/{}/*'.format(path,d_path))):\n",
    "        df = pd.read_csv('{}/{}/edges.csv'.format(path,d_path))\n",
    "        G = nx.from_pandas_edgelist(df, \"# source\", \" target\")\n",
    "        \n",
    "    elif any(fname.endswith('.edgelist') for fname in glob.glob('{}/{}/*'.format(path,d_path))):\n",
    "        G = nx.read_edgelist(\"{}/{}/edges.edgelist\".format(path, d_path), nodetype=int)\n",
    "        \n",
    "    elif not any(fname.endswith('txt.gz') for fname in  glob.glob('{}/{}/*'.format(path,d_path))):\n",
    "        G = nx.read_adjlist(\"{}/{}/edges.txt\".format(path, d_path), nodetype=int)\n",
    "\n",
    "    else:\n",
    "        G = nx.read_adjlist(gzip.open('{}/{}/edges.txt.gz'.format(path,d_path)), nodetype=int)\n",
    "            \n",
    "    G_list.append(G)"
   ]
  },
  {
   "cell_type": "code",
   "execution_count": 5,
   "metadata": {},
   "outputs": [
    {
     "data": {
      "text/plain": [
       "[<networkx.classes.graph.Graph at 0x155fda9e700>,\n",
       " <networkx.classes.graph.Graph at 0x155ff7ccfd0>,\n",
       " <networkx.classes.graph.Graph at 0x155febd2550>,\n",
       " <networkx.classes.graph.Graph at 0x155fea808e0>,\n",
       " <networkx.classes.graph.Graph at 0x155ff739d90>,\n",
       " <networkx.classes.graph.Graph at 0x155fda9eee0>,\n",
       " <networkx.classes.graph.Graph at 0x155ff40b190>,\n",
       " <networkx.classes.graph.Graph at 0x155ff66f190>,\n",
       " <networkx.classes.graph.Graph at 0x155ff40b490>,\n",
       " <networkx.classes.graph.Graph at 0x155fdab46a0>,\n",
       " <networkx.classes.graph.Graph at 0x155ff62ba00>,\n",
       " <networkx.classes.graph.Graph at 0x155fdaaf460>,\n",
       " <networkx.classes.graph.Graph at 0x155ff32aa60>,\n",
       " <networkx.classes.graph.Graph at 0x155fdaaf520>,\n",
       " <networkx.classes.graph.Graph at 0x155ff813a30>,\n",
       " <networkx.classes.graph.Graph at 0x155ff40b550>,\n",
       " <networkx.classes.graph.Graph at 0x155fdabcf70>,\n",
       " <networkx.classes.graph.Graph at 0x155ff739e50>,\n",
       " <networkx.classes.graph.Graph at 0x155fdaaf7c0>,\n",
       " <networkx.classes.graph.Graph at 0x155ff40b160>,\n",
       " <networkx.classes.graph.Graph at 0x155ff813d60>,\n",
       " <networkx.classes.graph.Graph at 0x155fdaaf490>,\n",
       " <networkx.classes.graph.Graph at 0x155ff813af0>,\n",
       " <networkx.classes.graph.Graph at 0x155ff813fd0>,\n",
       " <networkx.classes.graph.Graph at 0x155ff813f70>,\n",
       " <networkx.classes.graph.Graph at 0x155ff813e20>,\n",
       " <networkx.classes.graph.Graph at 0x155ff813ee0>,\n",
       " <networkx.classes.graph.Graph at 0x155ff813b20>,\n",
       " <networkx.classes.graph.Graph at 0x155ff813b50>,\n",
       " <networkx.classes.graph.Graph at 0x155ff813cd0>]"
      ]
     },
     "execution_count": 5,
     "metadata": {},
     "output_type": "execute_result"
    }
   ],
   "source": [
    "G_list"
   ]
  },
  {
   "cell_type": "code",
   "execution_count": 6,
   "metadata": {},
   "outputs": [
    {
     "name": "stdout",
     "output_type": "stream",
     "text": [
      "7th_graders\n",
      "29\n",
      "aves-weaver-social\n",
      "445\n",
      "bt.csv\n",
      "692\n",
      "contacts-prox-high-school-2013\n",
      "327\n",
      "contacts-prox-high-school-2013-attr\n",
      "327\n",
      "email_company\n",
      "167\n",
      "fb-messages\n",
      "1899\n",
      "fb-pages-politician\n",
      "5908\n",
      "fb-pages-tvshow\n",
      "3892\n",
      "fb_friends.csv\n",
      "800\n",
      "high_tech_company\n",
      "21\n",
      "inf-euroroad\n",
      "1174\n",
      "infect-dublin\n",
      "410\n",
      "infect-hyper\n",
      "113\n",
      "Karate\n",
      "34\n",
      "kidnappings\n",
      "351\n",
      "kidnappings\n",
      "KKI\n",
      "2238\n",
      "kor.2015.mers.1.00\n",
      "186\n",
      "kor.2015.mers.1.00\n",
      "law_firm\n",
      "71\n",
      "moreno_taro\n",
      "22\n",
      "physician_trust\n",
      "241\n",
      "primary-school-proximity\n",
      "242\n",
      "sgp.2003.sars.1.00\n",
      "172\n",
      "sgp.2003.sars.1.00\n",
      "soc-firm-hi-tech\n",
      "33\n",
      "soc-hamsterster\n",
      "2426\n",
      "swingers\n",
      "96\n",
      "swingers\n",
      "uni_email\n",
      "1133\n",
      "usa.2009.flu.1.00\n",
      "286\n",
      "usa.2009.flu.1.00\n",
      "usa.2020.covid.6.00\n",
      "92\n",
      "usa.2020.covid.6.00\n",
      "webkb-wisc\n",
      "265\n",
      "Wall time: 14min 22s\n"
     ]
    }
   ],
   "source": [
    "%%time\n",
    "# Parameters \n",
    "nsamp = 10\n",
    "p = 0.05\n",
    "big_dat = pd.DataFrame({\"seeding method\": ['random']*nsamp + ['friend']*nsamp + ['pair']*nsamp})\n",
    "\n",
    "for i,G in enumerate(G_list):    \n",
    "    try:\n",
    "        print(data_paths[i])\n",
    "        print(nx.number_of_nodes(G_list[i]))\n",
    "\n",
    "        (rtran, ftran, ptran) = sim_2seed_transitivity(G_list[i], p = p, nsamp = nsamp)\n",
    "        # append results as columns\n",
    "        big_dat[\"{}_num_nodes:{}\".format(data_paths[i],  nx.number_of_nodes(G_list[i]))] = rtran + ftran + ptran\n",
    "    except:\n",
    "        print(data_paths[i])\n",
    "    "
   ]
  },
  {
   "cell_type": "code",
   "execution_count": 7,
   "metadata": {},
   "outputs": [],
   "source": [
    "big_dat.to_csv(\"2seedTransivityData1.csv\")"
   ]
  },
  {
   "cell_type": "markdown",
   "metadata": {},
   "source": [
    "# Random Graphs"
   ]
  },
  {
   "cell_type": "code",
   "execution_count": 6,
   "metadata": {
    "scrolled": true
   },
   "outputs": [
    {
     "name": "stdout",
     "output_type": "stream",
     "text": [
      "7th_graders\n",
      "aves-weaver-social\n",
      "bt.csv\n",
      "contacts-prox-high-school-2013\n",
      "contacts-prox-high-school-2013-attr\n",
      "email_company\n",
      "fb-messages\n",
      "fb-pages-politician\n",
      "fb-pages-tvshow\n",
      "fb_friends.csv\n",
      "high_tech_company\n",
      "inf-euroroad\n",
      "infect-dublin\n",
      "infect-hyper\n",
      "Karate\n",
      "kidnappings\n",
      "KKI\n",
      "kor.2015.mers.1.00\n",
      "BA\n",
      "law_firm\n",
      "moreno_taro\n",
      "physician_trust\n",
      "primary-school-proximity\n",
      "sgp.2003.sars.1.00\n",
      "BA\n",
      "soc-firm-hi-tech\n",
      "soc-hamsterster\n",
      "swingers\n",
      "uni_email\n",
      "usa.2009.flu.1.00\n",
      "BA\n",
      "usa.2020.covid.6.00\n",
      "BA\n",
      "webkb-wisc\n"
     ]
    }
   ],
   "source": [
    "G_random_BA = []\n",
    "G_random_configuration = []\n",
    "G_random_poisson = []\n",
    "\n",
    "for i, G_empirical in enumerate(G_list):\n",
    "\n",
    "    print(data_paths[i])\n",
    "\n",
    "    try:\n",
    "        G_BA = nx.barabasi_albert_graph(len(G_empirical.nodes()), int(np.average(G_empirical.degree())/2))\n",
    "        G_random_BA.append(G_BA)\n",
    "\n",
    "    except:\n",
    "        print(\"BA\")\n",
    "        G_random_BA.append(None)\n",
    "\n",
    "    try:\n",
    "        G_poisson =  nx.erdos_renyi_graph(len(G_empirical.nodes()), \n",
    "                                      np.mean(list(dict(G_empirical.degree()).values()))/(len(G_empirical.nodes()) - 1), seed = 2022)\n",
    "        largest_component = sorted(nx.connected_components(G_poisson), key=len, reverse=True)\n",
    "        G_poisson = G_poisson.subgraph(largest_component[0])\n",
    "        G_random_poisson.append(G_poisson)\n",
    "    except:\n",
    "        print(\"Poisson\")\n",
    "        G_random_poisson.append(None)\n",
    "\n",
    "    try:\n",
    "        G_config = nx.configuration_model(list(dict(G_empirical.degree()).values()), seed = 2022)\n",
    "        largest_component = sorted(nx.connected_components(G_config), key=len, reverse=True)\n",
    "        G_config = G_config.subgraph(largest_component[0])\n",
    "        G_random_configuration.append(G_config)\n",
    "    except:\n",
    "        print(\"Configuration\")\n",
    "        G_random_configuration.append(None)\n",
    "\n"
   ]
  },
  {
   "cell_type": "code",
   "execution_count": null,
   "metadata": {},
   "outputs": [
    {
     "name": "stdout",
     "output_type": "stream",
     "text": [
      "7th_graders\n",
      "29\n",
      "BA\n",
      "Configuration\n",
      "Failed\n",
      "Poisson\n",
      "aves-weaver-social\n",
      "445\n",
      "BA\n",
      "Configuration\n",
      "Failed\n",
      "Poisson\n",
      "bt.csv\n",
      "692\n",
      "BA\n",
      "Configuration\n",
      "Failed\n",
      "Poisson\n"
     ]
    }
   ],
   "source": [
    "%%time\n",
    "# Parameters \n",
    "nsamp = 10\n",
    "p = 0.05\n",
    "big_dat_random_BA = pd.DataFrame({\"seeding method\": ['random']*nsamp + ['friend']*nsamp + ['pair']*nsamp})\n",
    "big_dat_random_configuration = pd.DataFrame({\"seeding method\": ['random']*nsamp + ['friend']*nsamp + ['pair']*nsamp})\n",
    "big_dat_random_poisson = pd.DataFrame({\"seeding method\": ['random']*nsamp + ['friend']*nsamp + ['pair']*nsamp})\n",
    "\n",
    "for i,G in enumerate(G_random_BA): \n",
    "    \n",
    "    print(data_paths[i])\n",
    "    \n",
    "    if len(G_list[i].nodes()) < 3500:\n",
    "        print(nx.number_of_nodes(G_list[i]))\n",
    "    \n",
    "        try:\n",
    "            print(\"BA\")\n",
    "            (rtran, ftran, ptran) = sim_2seed_transitivity(G_random_BA[i], p = p, nsamp = nsamp)\n",
    "            big_dat_random_BA[\"{}_num_nodes:{}\".format(data_paths[i],  nx.number_of_nodes(G_random_BA[i]))] = rtran + ftran + ptran\n",
    "        except:\n",
    "            print(\"Failed\")\n",
    "        try:\n",
    "            print(\"Configuration\")\n",
    "            (rtran, ftran, ptran) = sim_2seed_transitivity(G_random_configuration[i], p = p, nsamp = nsamp)\n",
    "            big_dat_random_configuration[\"{}_num_nodes:{}\".format(data_paths[i],  nx.number_of_nodes(G_random_configuration[i]))] = rtran + ftran + ptran\n",
    "        except:\n",
    "            print(\"Failed\")\n",
    "        try:\n",
    "            print(\"Poisson\")\n",
    "            (rtran, ftran, ptran) = sim_2seed_transitivity(G_random_poisson[i], p = p, nsamp = nsamp)\n",
    "            big_dat_random_poisson[\"{}_num_nodes:{}\".format(data_paths[i],  nx.number_of_nodes(G_random_poisson[i]))] = rtran + ftran + ptran\n",
    "        except:\n",
    "            print(\"Failed\")\n"
   ]
  },
  {
   "cell_type": "code",
   "execution_count": 164,
   "metadata": {},
   "outputs": [
    {
     "ename": "NameError",
     "evalue": "name 'big_dat_random_configuration' is not defined",
     "output_type": "error",
     "traceback": [
      "\u001b[1;31m---------------------------------------------------------------------------\u001b[0m",
      "\u001b[1;31mNameError\u001b[0m                                 Traceback (most recent call last)",
      "\u001b[1;32m<ipython-input-164-14f7f3e35b3f>\u001b[0m in \u001b[0;36m<module>\u001b[1;34m\u001b[0m\n\u001b[1;32m----> 1\u001b[1;33m \u001b[0mbig_dat_random_configuration\u001b[0m\u001b[1;33m\u001b[0m\u001b[1;33m\u001b[0m\u001b[0m\n\u001b[0m",
      "\u001b[1;31mNameError\u001b[0m: name 'big_dat_random_configuration' is not defined"
     ]
    }
   ],
   "source": [
    "big_dat_random_configuration"
   ]
  },
  {
   "cell_type": "code",
   "execution_count": 10,
   "metadata": {},
   "outputs": [],
   "source": [
    "big_dat_random.to_csv(\"2seedTransivityDataRandom1.csv\")"
   ]
  },
  {
   "cell_type": "markdown",
   "metadata": {},
   "source": [
    "# Calculate Clustering Coefficients of Networks"
   ]
  },
  {
   "cell_type": "code",
   "execution_count": 165,
   "metadata": {},
   "outputs": [],
   "source": [
    "individualClustering_empirical = [nx.clustering(G) for G in G_list]\n",
    "individualDegree_empirical = [dict(G.degree()) for G in G_list]\n",
    "\n",
    "individualClustering_random_BA = [nx.clustering(G) if G is not None else None for G in G_random_BA]\n",
    "individualDegree_random_BA = [dict(G.degree()) if G is not None else None for G in G_random_BA]\n",
    "\n",
    "averageClustering_empirical = [np.mean(list(G.values())) for G in individualClustering_empirical]\n",
    "averageClustering_random_BA = [np.mean(list(G.values())) if G is not None else None for G in individualClustering_random_BA]\n",
    "\n",
    "sdClustering_empirical = [np.std(list(G.values())) for G in individualClustering_empirical]\n",
    "sdClustering_random_BA = [np.std(list(G.values())) if G is not None else None for G in individualClustering_random_BA]\n",
    "\n",
    "\n",
    "averageDegree_empirical = [np.mean(list(d_seq.values())) for d_seq in individualDegree_empirical]\n",
    "averageDegree_random_BA = [np.mean(list(d_seq.values())) if d_seq is not None else None for d_seq in individualDegree_random_BA]\n",
    "\n",
    "\n",
    "sdDegree_empirical = [np.std(list(d_seq.values())) for d_seq in individualDegree_empirical]\n",
    "sdDegree_random_BA = [np.std(list(d_seq.values())) if d_seq is not None else None for d_seq in individualDegree_random_BA]\n",
    "\n",
    "\n",
    "individualTriangle_empirical = [nx.triangles(G) if G is not None else None for G in G_list]\n",
    "individualTriangle_random_BA = [nx.triangles(G) if G is not None else None for G in G_random_BA]\n"
   ]
  },
  {
   "cell_type": "code",
   "execution_count": 162,
   "metadata": {},
   "outputs": [],
   "source": [
    "clusteringData = pd.DataFrame([data_paths, \n",
    "                               averageClustering_empirical, \n",
    "                               averageClustering_random_BA,\n",
    "                               sdClustering_empirical,\n",
    "                               sdClustering_random_BA,\n",
    "                               averageDegree_empirical,\n",
    "                               averageDegree_random_BA,\n",
    "                               sdDegree_empirical,\n",
    "                               sdDegree_random_BA\n",
    "                               ]).transpose()\n",
    "clusteringData.columns = [\"network\", \n",
    "                          \"empirical_clust\", \n",
    "                          \"random_clust_BA\", \n",
    "                          \"empirical_clustSD\", \n",
    "                          \"random_clustSD_BA\",\n",
    "                         \"empirical_avgDegree\",\n",
    "                         \"random_avgDegree_BA\",\n",
    "                         \"empirical_sdDegree\",\n",
    "                         \"random_sdDegree_BA\"]\n",
    "clusteringData\n",
    "clusteringData.to_csv(\"clusteringData.csv\")"
   ]
  },
  {
   "cell_type": "code",
   "execution_count": 202,
   "metadata": {},
   "outputs": [],
   "source": [
    "individualNodeAttributes = pd.DataFrame([data_paths, \n",
    "              individualTriangle_empirical,\n",
    "              individualTriangle_random_BA,\n",
    "              individualDegree_empirical,\n",
    "              individualDegree_random_BA\n",
    "                               ]).transpose()\n",
    "\n",
    "individualNodeAttributes.columns = [\"network\", \n",
    "                          \"empirical_triangle\",\n",
    "                          \"random_triangle\",\n",
    "                          \"empirical_degree\",\n",
    "                          \"random_degree\"]\n",
    "\n",
    "\n"
   ]
  },
  {
   "cell_type": "code",
   "execution_count": 239,
   "metadata": {},
   "outputs": [],
   "source": [
    "nodeDf = pd.DataFrame()\n",
    "for i, name in enumerate(data_paths):\n",
    "    df = pd.DataFrame([individualTriangle_empirical[i],individualDegree_empirical[i]]).T.rename({0: \"Triangle\", 1: \"Degree\"}, axis = 1)\n",
    "    df[\"network\"] = data_paths[i]\n",
    "    df = df.reset_index()\n",
    "    nodeDf = nodeDf.append(df)\n",
    "    \n",
    "    df = pd.DataFrame([individualTriangle_random_BA[i],individualDegree_random_BA[i]]).T.rename({0: \"Triangle\", 1: \"Degree\"}, axis = 1)\n",
    "    df[\"network\"] = \"random_\" + data_paths[i]\n",
    "    df = df.reset_index()\n",
    "    nodeDf = nodeDf.append(df)"
   ]
  },
  {
   "cell_type": "code",
   "execution_count": 241,
   "metadata": {},
   "outputs": [],
   "source": [
    "nodeDf.to_csv(\"individualNodeProporties.csv\")"
   ]
  },
  {
   "cell_type": "code",
   "execution_count": 188,
   "metadata": {},
   "outputs": [
    {
     "data": {
      "text/plain": [
       "(array([26], dtype=int64),)"
      ]
     },
     "execution_count": 188,
     "metadata": {},
     "output_type": "execute_result"
    }
   ],
   "source": [
    "np.where(np.array(data_paths) == 'uni_email')\n",
    "\n",
    "# data_paths"
   ]
  },
  {
   "cell_type": "code",
   "execution_count": 183,
   "metadata": {},
   "outputs": [
    {
     "data": {
      "text/plain": [
       "<AxesSubplot: xlabel='Degree', ylabel='Triangles'>"
      ]
     },
     "execution_count": 183,
     "metadata": {},
     "output_type": "execute_result"
    },
    {
     "data": {
      "image/png": "[encoded data removed]",
      "text/plain": [
       "<Figure size 432x288 with 1 Axes>"
      ]
     },
     "metadata": {
      "needs_background": "light"
     },
     "output_type": "display_data"
    }
   ],
   "source": [
    "pd.DataFrame([individualDegree_empirical[16], individualTriangle_empirical[16]]).T.rename(columns= {0:\"Degree\", 1: \"Triangles\"}).plot(x = \"Degree\", y = \"Triangles\", kind = \"scatter\")"
   ]
  },
  {
   "cell_type": "code",
   "execution_count": 184,
   "metadata": {},
   "outputs": [
    {
     "data": {
      "text/plain": [
       "<AxesSubplot: xlabel='Degree', ylabel='Triangles'>"
      ]
     },
     "execution_count": 184,
     "metadata": {},
     "output_type": "execute_result"
    },
    {
     "data": {
      "image/png": "[encoded data removed]",
      "text/plain": [
       "<Figure size 432x288 with 1 Axes>"
      ]
     },
     "metadata": {
      "needs_background": "light"
     },
     "output_type": "display_data"
    }
   ],
   "source": [
    "pd.DataFrame([individualDegree_empirical[1], individualTriangle_empirical[1]]).T.rename(columns= {0:\"Degree\", 1: \"Triangles\"}).plot(x = \"Degree\", y = \"Triangles\", kind = \"scatter\")"
   ]
  },
  {
   "cell_type": "code",
   "execution_count": 186,
   "metadata": {},
   "outputs": [
    {
     "data": {
      "text/plain": [
       "<AxesSubplot: xlabel='Degree', ylabel='Triangles'>"
      ]
     },
     "execution_count": 186,
     "metadata": {},
     "output_type": "execute_result"
    },
    {
     "data": {
      "image/png": "[encoded data removed]",
      "text/plain": [
       "<Figure size 432x288 with 1 Axes>"
      ]
     },
     "metadata": {
      "needs_background": "light"
     },
     "output_type": "display_data"
    }
   ],
   "source": [
    "pd.DataFrame([individualDegree_empirical[12], individualTriangle_empirical[12]]).T.rename(columns= {0:\"Degree\", 1: \"Triangles\"}).plot(x = \"Degree\", y = \"Triangles\", kind = \"scatter\")"
   ]
  },
  {
   "cell_type": "code",
   "execution_count": 189,
   "metadata": {},
   "outputs": [
    {
     "data": {
      "text/plain": [
       "<AxesSubplot: xlabel='Degree', ylabel='Triangles'>"
      ]
     },
     "execution_count": 189,
     "metadata": {},
     "output_type": "execute_result"
    },
    {
     "data": {
      "image/png": "[encoded data removed]",
      "text/plain": [
       "<Figure size 432x288 with 1 Axes>"
      ]
     },
     "metadata": {
      "needs_background": "light"
     },
     "output_type": "display_data"
    }
   ],
   "source": [
    "pd.DataFrame([individualDegree_empirical[26], individualTriangle_empirical[26]]).T.rename(columns= {0:\"Degree\", 1: \"Triangles\"}).plot(x = \"Degree\", y = \"Triangles\", kind = \"scatter\")"
   ]
  },
  {
   "cell_type": "code",
   "execution_count": 187,
   "metadata": {},
   "outputs": [
    {
     "data": {
      "text/plain": [
       "<AxesSubplot: xlabel='Degree', ylabel='Triangles'>"
      ]
     },
     "execution_count": 187,
     "metadata": {},
     "output_type": "execute_result"
    },
    {
     "data": {
      "image/png": "[encoded data removed]",
      "text/plain": [
       "<Figure size 432x288 with 1 Axes>"
      ]
     },
     "metadata": {
      "needs_background": "light"
     },
     "output_type": "display_data"
    }
   ],
   "source": [
    "pd.DataFrame([individualDegree_random_BA[6], individualTriangle_random_BA[6]]).T.rename(columns= {0:\"Degree\", 1: \"Triangles\"}).plot(x = \"Degree\", y = \"Triangles\", kind = \"scatter\")"
   ]
  },
  {
   "cell_type": "code",
   "execution_count": 178,
   "metadata": {},
   "outputs": [
    {
     "data": {
      "text/plain": [
       "<AxesSubplot: xlabel='Degree', ylabel='Triangles'>"
      ]
     },
     "execution_count": 178,
     "metadata": {},
     "output_type": "execute_result"
    },
    {
     "data": {
      "image/png": "[encoded data removed]",
      "text/plain": [
       "<Figure size 432x288 with 1 Axes>"
      ]
     },
     "metadata": {
      "needs_background": "light"
     },
     "output_type": "display_data"
    }
   ],
   "source": [
    "pd.DataFrame([individualDegree_empirical[1], individualTriangle_empirical[1]]).T.rename(columns= {0:\"Degree\", 1: \"Triangles\"}).plot(x = \"Degree\", y = \"Triangles\", kind = \"scatter\")"
   ]
  }
 ],
 "metadata": {
  "kernelspec": {
   "display_name": "Python 3",
   "language": "python",
   "name": "python3"
  },
  "language_info": {
   "codemirror_mode": {
    "name": "ipython",
    "version": 3
   },
   "file_extension": ".py",
   "mimetype": "text/x-python",
   "name": "python",
   "nbconvert_exporter": "python",
   "pygments_lexer": "ipython3",
   "version": "3.8.5"
  }
 },
 "nbformat": 4,
 "nbformat_minor": 4
}
