{
 "cells": [
  {
   "cell_type": "code",
   "execution_count": 1,
   "metadata": {},
   "outputs": [],
   "source": [
    "import pandas as pd\n",
    "import glob\n",
    "import networkx as nx\n",
    "from functions import *\n",
    "import os\n",
    "import scipy as sp\n",
    "import scipy.io  \n",
    "import io\n",
    "import snap"
   ]
  },
  {
   "cell_type": "code",
   "execution_count": 2,
   "metadata": {},
   "outputs": [
    {
     "data": {
      "text/plain": [
       "['7th_graders',\n",
       " 'aves-weaver-social',\n",
       " 'bt.csv',\n",
       " 'contacts-prox-high-school-2013',\n",
       " 'contacts-prox-high-school-2013-attr',\n",
       " 'email_company',\n",
       " 'fb-messages',\n",
       " 'fb-pages-politician',\n",
       " 'fb-pages-tvshow',\n",
       " 'fb_friends.csv',\n",
       " 'high_tech_company',\n",
       " 'inf-euroroad',\n",
       " 'infect-dublin',\n",
       " 'infect-hyper',\n",
       " 'Karate',\n",
       " 'kidnappings',\n",
       " 'KKI',\n",
       " 'kor.2015.mers.1.00',\n",
       " 'law_firm',\n",
       " 'moreno_taro',\n",
       " 'physician_trust',\n",
       " 'primary-school-proximity',\n",
       " 'sgp.2003.sars.1.00',\n",
       " 'soc-firm-hi-tech',\n",
       " 'soc-hamsterster',\n",
       " 'swingers',\n",
       " 'uni_email',\n",
       " 'usa.2009.flu.1.00',\n",
       " 'usa.2020.covid.6.00',\n",
       " 'webkb-wisc']"
      ]
     },
     "execution_count": 2,
     "metadata": {},
     "output_type": "execute_result"
    }
   ],
   "source": [
    "path = \"less_than_1500_nodes\"\n",
    "[x.replace(\"{}\\\\\".format(path), \"\") for x in glob.glob(\"{}/*\".format(path))]"
   ]
  },
  {
   "cell_type": "code",
   "execution_count": 3,
   "metadata": {},
   "outputs": [],
   "source": [
    "data_paths = [x.replace(\"{}\\\\\".format(path), \"\") for x in glob.glob(\"{}/*\".format(path))]"
   ]
  },
  {
   "cell_type": "code",
   "execution_count": 4,
   "metadata": {},
   "outputs": [
    {
     "name": "stdout",
     "output_type": "stream",
     "text": [
      "7th_graders\n",
      "aves-weaver-social\n",
      "bt.csv\n",
      "contacts-prox-high-school-2013\n",
      "contacts-prox-high-school-2013-attr\n",
      "email_company\n",
      "fb-messages\n",
      "fb-pages-politician\n",
      "fb-pages-tvshow\n",
      "fb_friends.csv\n",
      "high_tech_company\n",
      "inf-euroroad\n",
      "infect-dublin\n",
      "infect-hyper\n",
      "Karate\n",
      "kidnappings\n",
      "KKI\n",
      "kor.2015.mers.1.00\n",
      "law_firm\n",
      "moreno_taro\n",
      "physician_trust\n",
      "primary-school-proximity\n",
      "sgp.2003.sars.1.00\n",
      "soc-firm-hi-tech\n",
      "soc-hamsterster\n",
      "swingers\n",
      "uni_email\n",
      "usa.2009.flu.1.00\n",
      "usa.2020.covid.6.00\n",
      "webkb-wisc\n"
     ]
    }
   ],
   "source": [
    "G_list = []\n",
    "for d_path in data_paths:\n",
    "    print(d_path)\n",
    "    if any(fname.endswith('.csv') for fname in  glob.glob('{}/{}/*'.format(path,d_path))):\n",
    "        df = pd.read_csv('{}/{}/edges.csv'.format(path,d_path))\n",
    "        G = nx.from_pandas_edgelist(df, \"# source\", \" target\")\n",
    "        \n",
    "    elif any(fname.endswith('.edgelist') for fname in glob.glob('{}/{}/*'.format(path,d_path))):\n",
    "        G = nx.read_edgelist(\"{}/{}/edges.edgelist\".format(path, d_path), nodetype=int)\n",
    "        \n",
    "    elif not any(fname.endswith('txt.gz') for fname in  glob.glob('{}/{}/*'.format(path,d_path))):\n",
    "        G = nx.read_adjlist(\"{}/{}/edges.txt\".format(path, d_path), nodetype=int)\n",
    "\n",
    "    else:\n",
    "        G = nx.read_adjlist(gzip.open('{}/{}/edges.txt.gz'.format(path,d_path)), nodetype=int)\n",
    "            \n",
    "    G_list.append(G)"
   ]
  },
  {
   "cell_type": "code",
   "execution_count": 5,
   "metadata": {},
   "outputs": [
    {
     "data": {
      "text/plain": [
       "[<networkx.classes.graph.Graph at 0x155fda9e700>,\n",
       " <networkx.classes.graph.Graph at 0x155ff7ccfd0>,\n",
       " <networkx.classes.graph.Graph at 0x155febd2550>,\n",
       " <networkx.classes.graph.Graph at 0x155fea808e0>,\n",
       " <networkx.classes.graph.Graph at 0x155ff739d90>,\n",
       " <networkx.classes.graph.Graph at 0x155fda9eee0>,\n",
       " <networkx.classes.graph.Graph at 0x155ff40b190>,\n",
       " <networkx.classes.graph.Graph at 0x155ff66f190>,\n",
       " <networkx.classes.graph.Graph at 0x155ff40b490>,\n",
       " <networkx.classes.graph.Graph at 0x155fdab46a0>,\n",
       " <networkx.classes.graph.Graph at 0x155ff62ba00>,\n",
       " <networkx.classes.graph.Graph at 0x155fdaaf460>,\n",
       " <networkx.classes.graph.Graph at 0x155ff32aa60>,\n",
       " <networkx.classes.graph.Graph at 0x155fdaaf520>,\n",
       " <networkx.classes.graph.Graph at 0x155ff813a30>,\n",
       " <networkx.classes.graph.Graph at 0x155ff40b550>,\n",
       " <networkx.classes.graph.Graph at 0x155fdabcf70>,\n",
       " <networkx.classes.graph.Graph at 0x155ff739e50>,\n",
       " <networkx.classes.graph.Graph at 0x155fdaaf7c0>,\n",
       " <networkx.classes.graph.Graph at 0x155ff40b160>,\n",
       " <networkx.classes.graph.Graph at 0x155ff813d60>,\n",
       " <networkx.classes.graph.Graph at 0x155fdaaf490>,\n",
       " <networkx.classes.graph.Graph at 0x155ff813af0>,\n",
       " <networkx.classes.graph.Graph at 0x155ff813fd0>,\n",
       " <networkx.classes.graph.Graph at 0x155ff813f70>,\n",
       " <networkx.classes.graph.Graph at 0x155ff813e20>,\n",
       " <networkx.classes.graph.Graph at 0x155ff813ee0>,\n",
       " <networkx.classes.graph.Graph at 0x155ff813b20>,\n",
       " <networkx.classes.graph.Graph at 0x155ff813b50>,\n",
       " <networkx.classes.graph.Graph at 0x155ff813cd0>]"
      ]
     },
     "execution_count": 5,
     "metadata": {},
     "output_type": "execute_result"
    }
   ],
   "source": [
    "G_list"
   ]
  },
  {
   "cell_type": "code",
   "execution_count": 6,
   "metadata": {},
   "outputs": [
    {
     "name": "stdout",
     "output_type": "stream",
     "text": [
      "7th_graders\n",
      "29\n",
      "aves-weaver-social\n",
      "445\n",
      "bt.csv\n",
      "692\n",
      "contacts-prox-high-school-2013\n",
      "327\n",
      "contacts-prox-high-school-2013-attr\n",
      "327\n",
      "email_company\n",
      "167\n",
      "fb-messages\n",
      "1899\n",
      "fb-pages-politician\n",
      "5908\n",
      "fb-pages-tvshow\n",
      "3892\n",
      "fb_friends.csv\n",
      "800\n",
      "high_tech_company\n",
      "21\n",
      "inf-euroroad\n",
      "1174\n",
      "infect-dublin\n",
      "410\n",
      "infect-hyper\n",
      "113\n",
      "Karate\n",
      "34\n",
      "kidnappings\n",
      "351\n",
      "kidnappings\n",
      "KKI\n",
      "2238\n",
      "kor.2015.mers.1.00\n",
      "186\n",
      "kor.2015.mers.1.00\n",
      "law_firm\n",
      "71\n",
      "moreno_taro\n",
      "22\n",
      "physician_trust\n",
      "241\n",
      "primary-school-proximity\n",
      "242\n",
      "sgp.2003.sars.1.00\n",
      "172\n",
      "sgp.2003.sars.1.00\n",
      "soc-firm-hi-tech\n",
      "33\n",
      "soc-hamsterster\n",
      "2426\n",
      "swingers\n",
      "96\n",
      "swingers\n",
      "uni_email\n",
      "1133\n",
      "usa.2009.flu.1.00\n",
      "286\n",
      "usa.2009.flu.1.00\n",
      "usa.2020.covid.6.00\n",
      "92\n",
      "usa.2020.covid.6.00\n",
      "webkb-wisc\n",
      "265\n",
      "Wall time: 14min 22s\n"
     ]
    }
   ],
   "source": [
    "%%time\n",
    "# Parameters \n",
    "nsamp = 10\n",
    "p = 0.05\n",
    "big_dat = pd.DataFrame({\"seeding method\": ['random']*nsamp + ['friend']*nsamp + ['pair']*nsamp})\n",
    "\n",
    "for i,G in enumerate(G_list):    \n",
    "    try:\n",
    "        print(data_paths[i])\n",
    "        print(nx.number_of_nodes(G_list[i]))\n",
    "\n",
    "        (rtran, ftran, ptran) = sim_2seed_transitivity(G_list[i], p = p, nsamp = nsamp)\n",
    "        # append results as columns\n",
    "        big_dat[\"{}_num_nodes:{}\".format(data_paths[i],  nx.number_of_nodes(G_list[i]))] = rtran + ftran + ptran\n",
    "    except:\n",
    "        print(data_paths[i])\n",
    "    "
   ]
  },
  {
   "cell_type": "code",
   "execution_count": 7,
   "metadata": {},
   "outputs": [],
   "source": [
    "big_dat.to_csv(\"2seedTransivityData1.csv\")"
   ]
  },
  {
   "cell_type": "markdown",
   "metadata": {},
   "source": [
    "# Random Graphs"
   ]
  },
  {
   "cell_type": "code",
   "execution_count": 6,
   "metadata": {
    "scrolled": true
   },
   "outputs": [
    {
     "name": "stdout",
     "output_type": "stream",
     "text": [
      "7th_graders\n",
      "aves-weaver-social\n",
      "bt.csv\n",
      "contacts-prox-high-school-2013\n",
      "contacts-prox-high-school-2013-attr\n",
      "email_company\n",
      "fb-messages\n",
      "fb-pages-politician\n",
      "fb-pages-tvshow\n",
      "fb_friends.csv\n",
      "high_tech_company\n",
      "inf-euroroad\n",
      "infect-dublin\n",
      "infect-hyper\n",
      "Karate\n",
      "kidnappings\n",
      "KKI\n",
      "kor.2015.mers.1.00\n",
      "BA\n",
      "law_firm\n",
      "moreno_taro\n",
      "physician_trust\n",
      "primary-school-proximity\n",
      "sgp.2003.sars.1.00\n",
      "BA\n",
      "soc-firm-hi-tech\n",
      "soc-hamsterster\n",
      "swingers\n",
      "uni_email\n",
      "usa.2009.flu.1.00\n",
      "BA\n",
      "usa.2020.covid.6.00\n",
      "BA\n",
      "webkb-wisc\n"
     ]
    }
   ],
   "source": [
    "G_random_BA = []\n",
    "G_random_configuration = []\n",
    "G_random_poisson = []\n",
    "\n",
    "for i, G_empirical in enumerate(G_list):\n",
    "\n",
    "    print(data_paths[i])\n",
    "\n",
    "    try:\n",
    "        G_BA = nx.barabasi_albert_graph(len(G_empirical.nodes()), int(np.average(G_empirical.degree())/2))\n",
    "        G_random_BA.append(G_BA)\n",
    "\n",
    "    except:\n",
    "        print(\"BA\")\n",
    "        G_random_BA.append(None)\n",
    "\n",
    "    try:\n",
    "        G_poisson =  nx.erdos_renyi_graph(len(G_empirical.nodes()), \n",
    "                                      np.mean(list(dict(G_empirical.degree()).values()))/(len(G_empirical.nodes()) - 1), seed = 2022)\n",
    "        largest_component = sorted(nx.connected_components(G_poisson), key=len, reverse=True)\n",
    "        G_poisson = G_poisson.subgraph(largest_component[0])\n",
    "        G_random_poisson.append(G_poisson)\n",
    "    except:\n",
    "        print(\"Poisson\")\n",
    "        G_random_poisson.append(None)\n",
    "\n",
    "    try:\n",
    "        G_config = nx.configuration_model(list(dict(G_empirical.degree()).values()), seed = 2022)\n",
    "        largest_component = sorted(nx.connected_components(G_config), key=len, reverse=True)\n",
    "        G_config = G_config.subgraph(largest_component[0])\n",
    "        G_random_configuration.append(G_config)\n",
    "    except:\n",
    "        print(\"Configuration\")\n",
    "        G_random_configuration.append(None)\n",
    "\n"
   ]
  },
  {
   "cell_type": "code",
   "execution_count": null,
   "metadata": {},
   "outputs": [
    {
     "name": "stdout",
     "output_type": "stream",
     "text": [
      "7th_graders\n",
      "29\n",
      "BA\n",
      "Configuration\n",
      "Failed\n",
      "Poisson\n",
      "aves-weaver-social\n",
      "445\n",
      "BA\n",
      "Configuration\n",
      "Failed\n",
      "Poisson\n",
      "bt.csv\n",
      "692\n",
      "BA\n",
      "Configuration\n",
      "Failed\n",
      "Poisson\n"
     ]
    }
   ],
   "source": [
    "%%time\n",
    "# Parameters \n",
    "nsamp = 10\n",
    "p = 0.05\n",
    "big_dat_random_BA = pd.DataFrame({\"seeding method\": ['random']*nsamp + ['friend']*nsamp + ['pair']*nsamp})\n",
    "big_dat_random_configuration = pd.DataFrame({\"seeding method\": ['random']*nsamp + ['friend']*nsamp + ['pair']*nsamp})\n",
    "big_dat_random_poisson = pd.DataFrame({\"seeding method\": ['random']*nsamp + ['friend']*nsamp + ['pair']*nsamp})\n",
    "\n",
    "for i,G in enumerate(G_random_BA): \n",
    "    \n",
    "    print(data_paths[i])\n",
    "    \n",
    "    if len(G_list[i].nodes()) < 3500:\n",
    "        print(nx.number_of_nodes(G_list[i]))\n",
    "    \n",
    "        try:\n",
    "            print(\"BA\")\n",
    "            (rtran, ftran, ptran) = sim_2seed_transitivity(G_random_BA[i], p = p, nsamp = nsamp)\n",
    "            big_dat_random_BA[\"{}_num_nodes:{}\".format(data_paths[i],  nx.number_of_nodes(G_random_BA[i]))] = rtran + ftran + ptran\n",
    "        except:\n",
    "            print(\"Failed\")\n",
    "        try:\n",
    "            print(\"Configuration\")\n",
    "            (rtran, ftran, ptran) = sim_2seed_transitivity(G_random_configuration[i], p = p, nsamp = nsamp)\n",
    "            big_dat_random_configuration[\"{}_num_nodes:{}\".format(data_paths[i],  nx.number_of_nodes(G_random_configuration[i]))] = rtran + ftran + ptran\n",
    "        except:\n",
    "            print(\"Failed\")\n",
    "        try:\n",
    "            print(\"Poisson\")\n",
    "            (rtran, ftran, ptran) = sim_2seed_transitivity(G_random_poisson[i], p = p, nsamp = nsamp)\n",
    "            big_dat_random_poisson[\"{}_num_nodes:{}\".format(data_paths[i],  nx.number_of_nodes(G_random_poisson[i]))] = rtran + ftran + ptran\n",
    "        except:\n",
    "            print(\"Failed\")\n"
   ]
  },
  {
   "cell_type": "code",
   "execution_count": null,
   "metadata": {},
   "outputs": [],
   "source": []
  },
  {
   "cell_type": "code",
   "execution_count": 10,
   "metadata": {},
   "outputs": [],
   "source": [
    "big_dat_random.to_csv(\"2seedTransivityDataRandom1.csv\")"
   ]
  },
  {
   "cell_type": "markdown",
   "metadata": {},
   "source": [
    "# Calculate Clustering Coefficients of Networks"
   ]
  },
  {
   "cell_type": "code",
   "execution_count": 161,
   "metadata": {},
   "outputs": [],
   "source": [
    "# individualClustering_empirical = [nx.clustering(G) for G in G_list]\n",
    "individualDegree_empirical = [dict(G.degree()) for G in G_list]\n",
    "\n",
    "individualClustering_random_BA = [nx.clustering(G) if G is not None else None for G in G_random_BA]\n",
    "individualDegree_random_BA = [dict(G.degree()) if G is not None else None for G in G_random_BA]\n",
    "\n",
    "averageClustering_empirical = [np.mean(list(G.values())) for G in individualClustering_empirical]\n",
    "averageClustering_random_BA = [np.mean(list(G.values())) if G is not None else None for G in individualClustering_random_BA]\n",
    "\n",
    "sdClustering_empirical = [np.std(list(G.values())) for G in individualClustering_empirical]\n",
    "sdClustering_random_BA = [np.std(list(G.values())) if G is not None else None for G in individualClustering_random_BA]\n",
    "\n",
    "\n",
    "averageDegree_empirical = [np.mean(list(d_seq.values())) for d_seq in individualDegree_empirical]\n",
    "averageDegree_random_BA = [np.mean(list(d_seq.values())) if d_seq is not None else None for d_seq in individualDegree_random_BA]\n",
    "\n",
    "\n",
    "sdDegree_empirical = [np.std(list(d_seq.values())) for d_seq in individualDegree_empirical]\n",
    "sdDegree_random_BA = [np.std(list(d_seq.values())) if d_seq is not None else None for d_seq in individualDegree_random_BA]\n"
   ]
  },
  {
   "cell_type": "code",
   "execution_count": 162,
   "metadata": {},
   "outputs": [],
   "source": [
    "clusteringData = pd.DataFrame([data_paths, \n",
    "                               averageClustering_empirical, \n",
    "                               averageClustering_random_BA,\n",
    "                               sdClustering_empirical,\n",
    "                               sdClustering_random_BA,\n",
    "                               averageDegree_empirical,\n",
    "                               averageDegree_random_BA,\n",
    "                               sdDegree_empirical,\n",
    "                               sdDegree_random_BA\n",
    "                               ]).transpose()\n",
    "clusteringData.columns = [\"network\", \n",
    "                          \"empirical_clust\", \n",
    "                          \"random_clust_BA\", \n",
    "                          \"empirical_clustSD\", \n",
    "                          \"random_clustSD_BA\",\n",
    "                         \"empirical_avgDegree\",\n",
    "                         \"random_avgDegree_BA\",\n",
    "                         \"empirical_sdDegree\",\n",
    "                         \"random_sdDegree_BA\"]\n",
    "clusteringData\n",
    "clusteringData.to_csv(\"clusteringData.csv\")"
   ]
  },
  {
   "cell_type": "code",
   "execution_count": 16,
   "metadata": {},
   "outputs": [
    {
     "data": {
      "text/html": [
       "<div>\n",
       "<style scoped>\n",
       "    .dataframe tbody tr th:only-of-type {\n",
       "        vertical-align: middle;\n",
       "    }\n",
       "\n",
       "    .dataframe tbody tr th {\n",
       "        vertical-align: top;\n",
       "    }\n",
       "\n",
       "    .dataframe thead th {\n",
       "        text-align: right;\n",
       "    }\n",
       "</style>\n",
       "<table border=\"1\" class=\"dataframe\">\n",
       "  <thead>\n",
       "    <tr style=\"text-align: right;\">\n",
       "      <th></th>\n",
       "      <th>network</th>\n",
       "      <th>empirical_clust</th>\n",
       "      <th>random_clust_BA</th>\n",
       "      <th>empirical_clustSD</th>\n",
       "      <th>random_clustSD_BA</th>\n",
       "      <th>empirical_avgDegree</th>\n",
       "      <th>random_avgDegree_BA</th>\n",
       "    </tr>\n",
       "  </thead>\n",
       "  <tbody>\n",
       "    <tr>\n",
       "      <th>0</th>\n",
       "      <td>7th_graders</td>\n",
       "      <td>0.776678</td>\n",
       "      <td>0.467796</td>\n",
       "      <td>0.0970884</td>\n",
       "      <td>0.142837</td>\n",
       "      <td>17.2414</td>\n",
       "      <td>10.6207</td>\n",
       "    </tr>\n",
       "    <tr>\n",
       "      <th>1</th>\n",
       "      <td>aves-weaver-social</td>\n",
       "      <td>0.668505</td>\n",
       "      <td>0.315809</td>\n",
       "      <td>0.334899</td>\n",
       "      <td>0.0325158</td>\n",
       "      <td>6</td>\n",
       "      <td>99.3978</td>\n",
       "    </tr>\n",
       "    <tr>\n",
       "      <th>2</th>\n",
       "      <td>bt.csv</td>\n",
       "      <td>0.525101</td>\n",
       "      <td>0.428584</td>\n",
       "      <td>0.105426</td>\n",
       "      <td>0.0424194</td>\n",
       "      <td>229.855</td>\n",
       "      <td>226.899</td>\n",
       "    </tr>\n",
       "    <tr>\n",
       "      <th>3</th>\n",
       "      <td>contacts-prox-high-school-2013</td>\n",
       "      <td>0.503505</td>\n",
       "      <td>0.349389</td>\n",
       "      <td>0.139516</td>\n",
       "      <td>0.0366601</td>\n",
       "      <td>35.5841</td>\n",
       "      <td>83.315</td>\n",
       "    </tr>\n",
       "    <tr>\n",
       "      <th>4</th>\n",
       "      <td>contacts-prox-high-school-2013-attr</td>\n",
       "      <td>0.503505</td>\n",
       "      <td>0.352657</td>\n",
       "      <td>0.139516</td>\n",
       "      <td>0.0362402</td>\n",
       "      <td>35.5841</td>\n",
       "      <td>83.315</td>\n",
       "    </tr>\n",
       "    <tr>\n",
       "      <th>5</th>\n",
       "      <td>email_company</td>\n",
       "      <td>0.591863</td>\n",
       "      <td>0.40347</td>\n",
       "      <td>0.296176</td>\n",
       "      <td>0.0508537</td>\n",
       "      <td>38.9341</td>\n",
       "      <td>49.2216</td>\n",
       "    </tr>\n",
       "    <tr>\n",
       "      <th>6</th>\n",
       "      <td>fb-messages</td>\n",
       "      <td>0.109399</td>\n",
       "      <td>0.314676</td>\n",
       "      <td>0.188664</td>\n",
       "      <td>0.0235926</td>\n",
       "      <td>16.574</td>\n",
       "      <td>420.83</td>\n",
       "    </tr>\n",
       "    <tr>\n",
       "      <th>7</th>\n",
       "      <td>fb-pages-politician</td>\n",
       "      <td>0.385096</td>\n",
       "      <td>0.311847</td>\n",
       "      <td>0.300078</td>\n",
       "      <td>0.0208618</td>\n",
       "      <td>14.1263</td>\n",
       "      <td>1296.12</td>\n",
       "    </tr>\n",
       "    <tr>\n",
       "      <th>8</th>\n",
       "      <td>fb-pages-tvshow</td>\n",
       "      <td>0.373738</td>\n",
       "      <td>0.311755</td>\n",
       "      <td>0.353855</td>\n",
       "      <td>0.0212929</td>\n",
       "      <td>8.8705</td>\n",
       "      <td>853.624</td>\n",
       "    </tr>\n",
       "    <tr>\n",
       "      <th>9</th>\n",
       "      <td>fb_friends.csv</td>\n",
       "      <td>0.315351</td>\n",
       "      <td>0.31922</td>\n",
       "      <td>0.193533</td>\n",
       "      <td>0.0284377</td>\n",
       "      <td>16.0725</td>\n",
       "      <td>179.477</td>\n",
       "    </tr>\n",
       "    <tr>\n",
       "      <th>10</th>\n",
       "      <td>high_tech_company</td>\n",
       "      <td>0.803204</td>\n",
       "      <td>0.51809</td>\n",
       "      <td>0.0526275</td>\n",
       "      <td>0.130919</td>\n",
       "      <td>15.1429</td>\n",
       "      <td>8.57143</td>\n",
       "    </tr>\n",
       "    <tr>\n",
       "      <th>11</th>\n",
       "      <td>inf-euroroad</td>\n",
       "      <td>0.0167316</td>\n",
       "      <td>0.31204</td>\n",
       "      <td>0.0835675</td>\n",
       "      <td>0.0244824</td>\n",
       "      <td>2.41397</td>\n",
       "      <td>257.187</td>\n",
       "    </tr>\n",
       "    <tr>\n",
       "      <th>12</th>\n",
       "      <td>infect-dublin</td>\n",
       "      <td>0.455824</td>\n",
       "      <td>0.327356</td>\n",
       "      <td>0.244919</td>\n",
       "      <td>0.037604</td>\n",
       "      <td>13.4878</td>\n",
       "      <td>93.7756</td>\n",
       "    </tr>\n",
       "    <tr>\n",
       "      <th>13</th>\n",
       "      <td>infect-hyper</td>\n",
       "      <td>0.534756</td>\n",
       "      <td>0.429708</td>\n",
       "      <td>0.0892543</td>\n",
       "      <td>0.0628458</td>\n",
       "      <td>38.8673</td>\n",
       "      <td>36.6372</td>\n",
       "    </tr>\n",
       "    <tr>\n",
       "      <th>14</th>\n",
       "      <td>Karate</td>\n",
       "      <td>0.540969</td>\n",
       "      <td>0.32764</td>\n",
       "      <td>0.34726</td>\n",
       "      <td>0.143319</td>\n",
       "      <td>4.52941</td>\n",
       "      <td>8.52941</td>\n",
       "    </tr>\n",
       "    <tr>\n",
       "      <th>15</th>\n",
       "      <td>kidnappings</td>\n",
       "      <td>0</td>\n",
       "      <td>0.311839</td>\n",
       "      <td>0</td>\n",
       "      <td>0.0349728</td>\n",
       "      <td>2.2906</td>\n",
       "      <td>76.9687</td>\n",
       "    </tr>\n",
       "    <tr>\n",
       "      <th>16</th>\n",
       "      <td>KKI</td>\n",
       "      <td>0.387201</td>\n",
       "      <td>0.31133</td>\n",
       "      <td>0.364189</td>\n",
       "      <td>0.022514</td>\n",
       "      <td>3.5916</td>\n",
       "      <td>489.937</td>\n",
       "    </tr>\n",
       "    <tr>\n",
       "      <th>17</th>\n",
       "      <td>kor.2015.mers.1.00</td>\n",
       "      <td>0</td>\n",
       "      <td>None</td>\n",
       "      <td>0</td>\n",
       "      <td>None</td>\n",
       "      <td>1.98925</td>\n",
       "      <td>None</td>\n",
       "    </tr>\n",
       "    <tr>\n",
       "      <th>18</th>\n",
       "      <td>law_firm</td>\n",
       "      <td>0.571533</td>\n",
       "      <td>0.446275</td>\n",
       "      <td>0.0822028</td>\n",
       "      <td>0.0732837</td>\n",
       "      <td>28.3944</td>\n",
       "      <td>23.662</td>\n",
       "    </tr>\n",
       "    <tr>\n",
       "      <th>19</th>\n",
       "      <td>moreno_taro</td>\n",
       "      <td>0.339394</td>\n",
       "      <td>0.286036</td>\n",
       "      <td>0.206617</td>\n",
       "      <td>0.21449</td>\n",
       "      <td>3.54545</td>\n",
       "      <td>5.18182</td>\n",
       "    </tr>\n",
       "    <tr>\n",
       "      <th>20</th>\n",
       "      <td>physician_trust</td>\n",
       "      <td>0.311575</td>\n",
       "      <td>0.324219</td>\n",
       "      <td>0.22316</td>\n",
       "      <td>0.0427121</td>\n",
       "      <td>7.65975</td>\n",
       "      <td>54.0249</td>\n",
       "    </tr>\n",
       "    <tr>\n",
       "      <th>21</th>\n",
       "      <td>primary-school-proximity</td>\n",
       "      <td>0.525542</td>\n",
       "      <td>0.417487</td>\n",
       "      <td>0.0996902</td>\n",
       "      <td>0.0443524</td>\n",
       "      <td>68.7355</td>\n",
       "      <td>75.7438</td>\n",
       "    </tr>\n",
       "    <tr>\n",
       "      <th>22</th>\n",
       "      <td>sgp.2003.sars.1.00</td>\n",
       "      <td>0</td>\n",
       "      <td>None</td>\n",
       "      <td>0</td>\n",
       "      <td>None</td>\n",
       "      <td>1.98837</td>\n",
       "      <td>None</td>\n",
       "    </tr>\n",
       "    <tr>\n",
       "      <th>23</th>\n",
       "      <td>soc-firm-hi-tech</td>\n",
       "      <td>0.670512</td>\n",
       "      <td>0.348759</td>\n",
       "      <td>0.232401</td>\n",
       "      <td>0.116883</td>\n",
       "      <td>7.45455</td>\n",
       "      <td>9.81818</td>\n",
       "    </tr>\n",
       "    <tr>\n",
       "      <th>24</th>\n",
       "      <td>soc-hamsterster</td>\n",
       "      <td>0.537533</td>\n",
       "      <td>0.313655</td>\n",
       "      <td>0.36867</td>\n",
       "      <td>0.0226816</td>\n",
       "      <td>13.7098</td>\n",
       "      <td>534.806</td>\n",
       "    </tr>\n",
       "    <tr>\n",
       "      <th>25</th>\n",
       "      <td>swingers</td>\n",
       "      <td>0</td>\n",
       "      <td>0.353951</td>\n",
       "      <td>0</td>\n",
       "      <td>0.0726195</td>\n",
       "      <td>4.83333</td>\n",
       "      <td>22.4792</td>\n",
       "    </tr>\n",
       "    <tr>\n",
       "      <th>26</th>\n",
       "      <td>uni_email</td>\n",
       "      <td>0.220176</td>\n",
       "      <td>0.313981</td>\n",
       "      <td>0.240192</td>\n",
       "      <td>0.0251262</td>\n",
       "      <td>9.62401</td>\n",
       "      <td>249.903</td>\n",
       "    </tr>\n",
       "    <tr>\n",
       "      <th>27</th>\n",
       "      <td>usa.2009.flu.1.00</td>\n",
       "      <td>0</td>\n",
       "      <td>None</td>\n",
       "      <td>0</td>\n",
       "      <td>None</td>\n",
       "      <td>1.99301</td>\n",
       "      <td>None</td>\n",
       "    </tr>\n",
       "    <tr>\n",
       "      <th>28</th>\n",
       "      <td>usa.2020.covid.6.00</td>\n",
       "      <td>0</td>\n",
       "      <td>None</td>\n",
       "      <td>0</td>\n",
       "      <td>None</td>\n",
       "      <td>1.97826</td>\n",
       "      <td>None</td>\n",
       "    </tr>\n",
       "    <tr>\n",
       "      <th>29</th>\n",
       "      <td>webkb-wisc</td>\n",
       "      <td>0.208028</td>\n",
       "      <td>0.312571</td>\n",
       "      <td>0.337645</td>\n",
       "      <td>0.0430545</td>\n",
       "      <td>3.61509</td>\n",
       "      <td>57.7811</td>\n",
       "    </tr>\n",
       "  </tbody>\n",
       "</table>\n",
       "</div>"
      ],
      "text/plain": [
       "                                network empirical_clust random_clust_BA  \\\n",
       "0                           7th_graders        0.776678        0.467796   \n",
       "1                    aves-weaver-social        0.668505        0.315809   \n",
       "2                                bt.csv        0.525101        0.428584   \n",
       "3        contacts-prox-high-school-2013        0.503505        0.349389   \n",
       "4   contacts-prox-high-school-2013-attr        0.503505        0.352657   \n",
       "5                         email_company        0.591863         0.40347   \n",
       "6                           fb-messages        0.109399        0.314676   \n",
       "7                   fb-pages-politician        0.385096        0.311847   \n",
       "8                       fb-pages-tvshow        0.373738        0.311755   \n",
       "9                        fb_friends.csv        0.315351         0.31922   \n",
       "10                    high_tech_company        0.803204         0.51809   \n",
       "11                         inf-euroroad       0.0167316         0.31204   \n",
       "12                        infect-dublin        0.455824        0.327356   \n",
       "13                         infect-hyper        0.534756        0.429708   \n",
       "14                               Karate        0.540969         0.32764   \n",
       "15                          kidnappings               0        0.311839   \n",
       "16                                  KKI        0.387201         0.31133   \n",
       "17                   kor.2015.mers.1.00               0            None   \n",
       "18                             law_firm        0.571533        0.446275   \n",
       "19                          moreno_taro        0.339394        0.286036   \n",
       "20                      physician_trust        0.311575        0.324219   \n",
       "21             primary-school-proximity        0.525542        0.417487   \n",
       "22                   sgp.2003.sars.1.00               0            None   \n",
       "23                     soc-firm-hi-tech        0.670512        0.348759   \n",
       "24                      soc-hamsterster        0.537533        0.313655   \n",
       "25                             swingers               0        0.353951   \n",
       "26                            uni_email        0.220176        0.313981   \n",
       "27                    usa.2009.flu.1.00               0            None   \n",
       "28                  usa.2020.covid.6.00               0            None   \n",
       "29                           webkb-wisc        0.208028        0.312571   \n",
       "\n",
       "   empirical_clustSD random_clustSD_BA empirical_avgDegree random_avgDegree_BA  \n",
       "0          0.0970884          0.142837             17.2414             10.6207  \n",
       "1           0.334899         0.0325158                   6             99.3978  \n",
       "2           0.105426         0.0424194             229.855             226.899  \n",
       "3           0.139516         0.0366601             35.5841              83.315  \n",
       "4           0.139516         0.0362402             35.5841              83.315  \n",
       "5           0.296176         0.0508537             38.9341             49.2216  \n",
       "6           0.188664         0.0235926              16.574              420.83  \n",
       "7           0.300078         0.0208618             14.1263             1296.12  \n",
       "8           0.353855         0.0212929              8.8705             853.624  \n",
       "9           0.193533         0.0284377             16.0725             179.477  \n",
       "10         0.0526275          0.130919             15.1429             8.57143  \n",
       "11         0.0835675         0.0244824             2.41397             257.187  \n",
       "12          0.244919          0.037604             13.4878             93.7756  \n",
       "13         0.0892543         0.0628458             38.8673             36.6372  \n",
       "14           0.34726          0.143319             4.52941             8.52941  \n",
       "15                 0         0.0349728              2.2906             76.9687  \n",
       "16          0.364189          0.022514              3.5916             489.937  \n",
       "17                 0              None             1.98925                None  \n",
       "18         0.0822028         0.0732837             28.3944              23.662  \n",
       "19          0.206617           0.21449             3.54545             5.18182  \n",
       "20           0.22316         0.0427121             7.65975             54.0249  \n",
       "21         0.0996902         0.0443524             68.7355             75.7438  \n",
       "22                 0              None             1.98837                None  \n",
       "23          0.232401          0.116883             7.45455             9.81818  \n",
       "24           0.36867         0.0226816             13.7098             534.806  \n",
       "25                 0         0.0726195             4.83333             22.4792  \n",
       "26          0.240192         0.0251262             9.62401             249.903  \n",
       "27                 0              None             1.99301                None  \n",
       "28                 0              None             1.97826                None  \n",
       "29          0.337645         0.0430545             3.61509             57.7811  "
      ]
     },
     "execution_count": 16,
     "metadata": {},
     "output_type": "execute_result"
    }
   ],
   "source": [
    "clusteringData "
   ]
  },
  {
   "cell_type": "code",
   "execution_count": 141,
   "metadata": {},
   "outputs": [
    {
     "data": {
      "text/plain": [
       "<AxesSubplot: xlabel='degree', ylabel='clustering'>"
      ]
     },
     "execution_count": 141,
     "metadata": {},
     "output_type": "execute_result"
    },
    {
     "data": {
      "image/png": "[encoded data removed]",
      "text/plain": [
       "<Figure size 432x288 with 1 Axes>"
      ]
     },
     "metadata": {
      "needs_background": "light"
     },
     "output_type": "display_data"
    }
   ],
   "source": [
    "df = pd.DataFrame([list(individualClustering_empirical[1].values()), list(individualDegree_empirical[1])]).transpose()\n",
    "df.columns = [\"clustering\",\"degree\"]\n",
    "df.plot(x = \"degree\", y = \"clustering\", kind = \"scatter\")"
   ]
  },
  {
   "cell_type": "code",
   "execution_count": 59,
   "metadata": {},
   "outputs": [
    {
     "data": {
      "text/plain": [
       "<AxesSubplot: xlabel='degree', ylabel='clustering'>"
      ]
     },
     "execution_count": 59,
     "metadata": {},
     "output_type": "execute_result"
    },
    {
     "data": {
      "image/png": "[encoded data removed]",
      "text/plain": [
       "<Figure size 432x288 with 1 Axes>"
      ]
     },
     "metadata": {
      "needs_background": "light"
     },
     "output_type": "display_data"
    }
   ],
   "source": [
    "df = pd.DataFrame([list(individualClustering_random_BA[-6].values()), list(individualDegree_random_BA[-6])]).transpose()\n",
    "df.columns = [\"clustering\",\"degree\"]\n",
    "df.plot(x = \"degree\", y = \"clustering\", kind = \"scatter\")"
   ]
  },
  {
   "cell_type": "code",
   "execution_count": 157,
   "metadata": {},
   "outputs": [
    {
     "data": {
      "text/plain": [
       "(array([24], dtype=int64),)"
      ]
     },
     "execution_count": 157,
     "metadata": {},
     "output_type": "execute_result"
    }
   ],
   "source": [
    "np.where(np.array(data_paths) == 'soc-hamsterster')\n",
    "\n",
    "# data_paths"
   ]
  },
  {
   "cell_type": "code",
   "execution_count": 158,
   "metadata": {},
   "outputs": [
    {
     "data": {
      "text/plain": [
       "<AxesSubplot: xlabel='Degree', ylabel='Clustering'>"
      ]
     },
     "execution_count": 158,
     "metadata": {},
     "output_type": "execute_result"
    },
    {
     "data": {
      "image/png": "[encoded data removed]",
      "text/plain": [
       "<Figure size 432x288 with 1 Axes>"
      ]
     },
     "metadata": {
      "needs_background": "light"
     },
     "output_type": "display_data"
    }
   ],
   "source": [
    "pd.DataFrame([individualDegree_empirical[24], individualClustering_empirical[24]]).T.rename(columns= {0:\"Degree\", 1: \"Clustering\"}).plot(x = \"Degree\", y = \"Clustering\", kind = \"scatter\")"
   ]
  },
  {
   "cell_type": "code",
   "execution_count": 122,
   "metadata": {},
   "outputs": [
    {
     "data": {
      "text/plain": [
       "<AxesSubplot: xlabel='Degree', ylabel='Clustering'>"
      ]
     },
     "execution_count": 122,
     "metadata": {},
     "output_type": "execute_result"
    },
    {
     "data": {
      "image/png": "[encoded data removed]",
      "text/plain": [
       "<Figure size 432x288 with 1 Axes>"
      ]
     },
     "metadata": {
      "needs_background": "light"
     },
     "output_type": "display_data"
    }
   ],
   "source": [
    "pd.DataFrame([individualDegree_random_BA[1], individualClustering_random_BA[1]]).T.rename(columns= {0:\"Degree\", 1: \"Clustering\"}).plot(x = \"Degree\", y = \"Clustering\", kind = \"scatter\")"
   ]
  },
  {
   "cell_type": "code",
   "execution_count": 163,
   "metadata": {},
   "outputs": [
    {
     "data": {
      "text/plain": [
       "<AxesSubplot: xlabel='empirical_avgDegree', ylabel='empirical_sdDegree'>"
      ]
     },
     "execution_count": 163,
     "metadata": {},
     "output_type": "execute_result"
    },
    {
     "data": {
      "image/png": "[encoded data removed]",
      "text/plain": [
       "<Figure size 432x288 with 1 Axes>"
      ]
     },
     "metadata": {
      "needs_background": "light"
     },
     "output_type": "display_data"
    }
   ],
   "source": [
    "clusteringData.plot(x = \"empirical_avgDegree\", y = \"empirical_sdDegree\", kind = \"scatter\")"
   ]
  }
 ],
 "metadata": {
  "kernelspec": {
   "display_name": "Python 3 (ipykernel)",
   "language": "python",
   "name": "python3"
  },
  "language_info": {
   "codemirror_mode": {
    "name": "ipython",
    "version": 3
   },
   "file_extension": ".py",
   "mimetype": "text/x-python",
   "name": "python",
   "nbconvert_exporter": "python",
   "pygments_lexer": "ipython3",
   "version": "3.9.7"
  }
 },
 "nbformat": 4,
 "nbformat_minor": 4
}
