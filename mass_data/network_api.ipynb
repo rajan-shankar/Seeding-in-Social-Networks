{
 "cells": [
  {
   "cell_type": "code",
   "execution_count": 1,
   "id": "5f0fd0fc",
   "metadata": {},
   "outputs": [],
   "source": [
    "import requests\n",
    "import wget\n",
    "import json\n",
    "import os\n",
    "import zipfile"
   ]
  },
  {
   "cell_type": "code",
   "execution_count": 2,
   "id": "2b23c9d6",
   "metadata": {},
   "outputs": [],
   "source": [
    "all_networks = json.loads(requests.get(\"https://networks.skewed.de/api/nets\").text)"
   ]
  },
  {
   "cell_type": "code",
   "execution_count": 56,
   "id": "cb1683b6",
   "metadata": {},
   "outputs": [
    {
     "data": {
      "text/plain": [
       "278"
      ]
     },
     "execution_count": 56,
     "metadata": {},
     "output_type": "execute_result"
    }
   ],
   "source": [
    "len(all_networks)"
   ]
  },
  {
   "cell_type": "code",
   "execution_count": 3,
   "id": "a8b853cb",
   "metadata": {},
   "outputs": [
    {
     "name": "stdout",
     "output_type": "stream",
     "text": [
      "100% [............................................................................] 400422 / 400422\n",
      "\n",
      "\n",
      "\n",
      "\n",
      "\n",
      "\n",
      "\n",
      "\n",
      "\n",
      "\n",
      "\n",
      "100% [............................................................................] 376915 / 376915\n",
      "\n",
      "\n",
      "\n",
      "\n",
      "\n",
      "100% [................................................................................] 2072 / 2072\n",
      "\n",
      "100% [................................................................................] 7987 / 7987\n",
      "\n",
      "100% [................................................................................] 8226 / 8226\n",
      "\n",
      "\n",
      "\n",
      "\n",
      "\n",
      "100% [................................................................................] 7759 / 7759\n",
      "\n",
      "\n",
      "\n",
      "\n",
      "\n",
      "\n",
      "\n",
      "\n",
      "\n",
      "\n",
      "\n",
      "\n",
      "\n",
      "100% [................................................................................] 2928 / 2928\n",
      "\n",
      "\n",
      "\n",
      "100% [..............................................................................] 47561 / 47561\n",
      "\n"
     ]
    }
   ],
   "source": [
    "for name in all_networks:\n",
    "    \n",
    "    meta = json.loads(requests.get(\"https://networks.skewed.de/api/net/{}\".format(name)).text)\n",
    "    \n",
    "    try:\n",
    "        if (\"Social\" in meta[\"tags\"]) and (\"Unweighted\" in meta[\"tags\"]) and (meta[\"analyses\"][\"is_directed\"] == True) and (meta[\"analyses\"][\"num_vertices\"] <= 20000):\n",
    "        \n",
    "            wget.download(\"https://networks.skewed.de/net/{}/files/{}.csv.zip\".format(name, name))\n",
    "            with zipfile.ZipFile(\"network.csv.zip\", \"r\") as zip_ref:\n",
    "                zip_ref.extractall(\"less_than_20000_nodes/{}/\".format(name))\n",
    "            \n",
    "            os.remove(\"network.csv.zip\")\n",
    "    \n",
    "    except:\n",
    "        print(\"\\n{}\".format(name))"
   ]
  }
 ],
 "metadata": {
  "kernelspec": {
   "display_name": "Python 3 (ipykernel)",
   "language": "python",
   "name": "python3"
  },
  "language_info": {
   "codemirror_mode": {
    "name": "ipython",
    "version": 3
   },
   "file_extension": ".py",
   "mimetype": "text/x-python",
   "name": "python",
   "nbconvert_exporter": "python",
   "pygments_lexer": "ipython3",
   "version": "3.9.7"
  }
 },
 "nbformat": 4,
 "nbformat_minor": 5
}
