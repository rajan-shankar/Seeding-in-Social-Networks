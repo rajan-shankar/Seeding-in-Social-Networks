{
 "cells": [
  {
   "cell_type": "code",
   "execution_count": 1,
   "id": "5f0fd0fc",
   "metadata": {},
   "outputs": [],
   "source": [
    "import requests\n",
    "import wget\n",
    "import json\n",
    "import os\n",
    "import zipfile"
   ]
  },
  {
   "cell_type": "code",
   "execution_count": 2,
   "id": "2b23c9d6",
   "metadata": {},
   "outputs": [],
   "source": [
    "all_networks = json.loads(requests.get(\"https://networks.skewed.de/api/nets\").text)"
   ]
  },
  {
   "cell_type": "code",
   "execution_count": 56,
   "id": "cb1683b6",
   "metadata": {},
   "outputs": [
    {
     "data": {
      "text/plain": [
       "278"
      ]
     },
     "execution_count": 56,
     "metadata": {},
     "output_type": "execute_result"
    }
   ],
   "source": [
    "len(all_networks)"
   ]
  },
  {
   "cell_type": "code",
   "execution_count": 85,
   "id": "a8b853cb",
   "metadata": {},
   "outputs": [
    {
     "name": "stdout",
     "output_type": "stream",
     "text": [
      "100% [................................................................................] 3116 / 3116arxiv_authors\n",
      "board_directors\n",
      "copenhagen\n",
      "dblp_simplices\n",
      "dutch_school\n",
      "ego_social\n",
      "100% [............................................................................] 376915 / 376915facebook_organizations\n",
      "foursquare\n",
      "foursquare_friendships\n",
      "100% [................................................................................] 2072 / 2072karate\n",
      "100% [................................................................................] 7987 / 7987lastfm\n",
      "100% [................................................................................] 8226 / 8226mag_geology_coauthor\n",
      "mag_history_coauthor\n",
      "mislove_osn\n",
      "100% [................................................................................] 7759 / 7759qa_user\n",
      "soc_net_comms\n",
      "sp_baboons\n",
      "sp_colocation\n",
      "sp_high_school\n",
      "sp_high_school_new\n",
      "sp_hypertext\n",
      "100% [................................................................................] 2928 / 2928twitter_events\n",
      "ugandan_village\n",
      "wiki_talk\n"
     ]
    }
   ],
   "source": [
    "for name in all_networks:\n",
    "    \n",
    "    meta = json.loads(requests.get(\"https://networks.skewed.de/api/net/{}\".format(name)).text)\n",
    "    \n",
    "    try:\n",
    "        if (\"Social\" in meta[\"tags\"]) and (\"Unweighted\" in meta[\"tags\"]) and (meta[\"analyses\"][\"is_directed\"] == True) and (meta[\"analyses\"][\"num_vertices\"] <= 20000):\n",
    "        \n",
    "        \n",
    "            wget.download(\"https://networks.skewed.de/net/{}/files/{}.csv.zip\".format(name, name))\n",
    "            with zipfile.ZipFile(\"network.csv.zip\", \"r\") as zip_ref:\n",
    "                zip_ref.extractall(\"{}/\".format(name))\n",
    "            \n",
    "            os.remove(\"network.csv.zip\")\n",
    "    \n",
    "    except:\n",
    "        print(\"\\n\".format(name))"
   ]
  }
 ],
 "metadata": {
  "kernelspec": {
   "display_name": "Python 3 (ipykernel)",
   "language": "python",
   "name": "python3"
  },
  "language_info": {
   "codemirror_mode": {
    "name": "ipython",
    "version": 3
   },
   "file_extension": ".py",
   "mimetype": "text/x-python",
   "name": "python",
   "nbconvert_exporter": "python",
   "pygments_lexer": "ipython3",
   "version": "3.9.7"
  }
 },
 "nbformat": 4,
 "nbformat_minor": 5
}
