{
 "cells": [
  {
   "cell_type": "code",
   "execution_count": 97,
   "id": "8c8c826f",
   "metadata": {},
   "outputs": [],
   "source": [
    "import networkx as nx\n",
    "from os import listdir\n",
    "import glob\n",
    "import numpy as np\n",
    "import pandas as pd"
   ]
  },
  {
   "cell_type": "code",
   "execution_count": 105,
   "id": "163b6845",
   "metadata": {},
   "outputs": [
    {
     "name": "stdout",
     "output_type": "stream",
     "text": [
      "7th_graders\n",
      "aves-weaver-social\n",
      "bt.csv\n",
      "contacts-prox-high-school-2013\n",
      "contacts-prox-high-school-2013-attr\n",
      "email_company\n",
      "fb-messages\n",
      "fb-pages-politician\n",
      "fb-pages-tvshow\n",
      "fb_friends.csv\n",
      "high_tech_company\n",
      "inf-euroroad\n",
      "infect-dublin\n",
      "infect-hyper\n",
      "Karate\n",
      "kidnappings\n",
      "KKI\n",
      "kor.2015.mers.1.00\n",
      "law_firm\n",
      "moreno_taro\n",
      "physician_trust\n",
      "primary-school-proximity\n",
      "sgp.2003.sars.1.00\n",
      "soc-firm-hi-tech\n",
      "soc-hamsterster\n",
      "swingers\n",
      "uni_email\n",
      "usa.2009.flu.1.00\n",
      "usa.2020.covid.6.00\n",
      "webkb-wisc\n"
     ]
    }
   ],
   "source": [
    "path = \"mass_data/less_than_1500_nodes\"\n",
    "data_paths = [x.replace(\"{}\\\\\".format(path), \"\") for x in glob.glob(\"{}/*\".format(path))]\n",
    "lcc_prop = {}\n",
    "\n",
    "G_list = []\n",
    "for d_path in data_paths:\n",
    "    print(d_path)\n",
    "    if any(fname.endswith('.csv') for fname in  glob.glob('{}/{}/*'.format(path,d_path))):\n",
    "        df = pd.read_csv('{}/{}/edges.csv'.format(path,d_path))\n",
    "        G = nx.from_pandas_edgelist(df, \"# source\", \" target\")\n",
    "        \n",
    "    elif any(fname.endswith('.edgelist') for fname in glob.glob('{}/{}/*'.format(path,d_path))):\n",
    "        G = nx.read_edgelist(\"{}/{}/edges.edgelist\".format(path, d_path), nodetype=int)\n",
    "        \n",
    "    elif not any(fname.endswith('txt.gz') for fname in  glob.glob('{}/{}/*'.format(path,d_path))):\n",
    "        G = nx.read_adjlist(\"{}/{}/edges.txt\".format(path, d_path), nodetype=int)\n",
    "\n",
    "    else:\n",
    "        G = nx.read_adjlist(gzip.open('{}/{}/edges.txt.gz'.format(path,d_path)), nodetype=int)\n",
    "\n",
    "    components = sorted(list(nx.connected_components(G)), key=len, reverse=True)\n",
    "    lcc_prop[d_path] = len(components[0]) / np.sum([len(c) for c in components])"
   ]
  },
  {
   "cell_type": "code",
   "execution_count": 111,
   "id": "0ea52c18",
   "metadata": {},
   "outputs": [
    {
     "data": {
      "text/plain": [
       "{'KKI': 0.040214477211796246,\n",
       " 'aves-weaver-social': 0.26292134831460673,\n",
       " 'physician_trust': 0.4854771784232365,\n",
       " 'kidnappings': 0.811965811965812,\n",
       " 'soc-hamsterster': 0.8244023083264633,\n",
       " 'inf-euroroad': 0.8850085178875639,\n",
       " 'webkb-wisc': 0.9471698113207547,\n",
       " 'fb-messages': 0.9968404423380727,\n",
       " '7th_graders': 1.0,\n",
       " 'bt.csv': 1.0,\n",
       " 'contacts-prox-high-school-2013': 1.0,\n",
       " 'contacts-prox-high-school-2013-attr': 1.0,\n",
       " 'email_company': 1.0,\n",
       " 'fb-pages-politician': 1.0,\n",
       " 'fb-pages-tvshow': 1.0,\n",
       " 'fb_friends.csv': 1.0,\n",
       " 'high_tech_company': 1.0,\n",
       " 'infect-dublin': 1.0,\n",
       " 'infect-hyper': 1.0,\n",
       " 'Karate': 1.0,\n",
       " 'kor.2015.mers.1.00': 1.0,\n",
       " 'law_firm': 1.0,\n",
       " 'moreno_taro': 1.0,\n",
       " 'primary-school-proximity': 1.0,\n",
       " 'sgp.2003.sars.1.00': 1.0,\n",
       " 'soc-firm-hi-tech': 1.0,\n",
       " 'swingers': 1.0,\n",
       " 'uni_email': 1.0,\n",
       " 'usa.2009.flu.1.00': 1.0,\n",
       " 'usa.2020.covid.6.00': 1.0}"
      ]
     },
     "execution_count": 111,
     "metadata": {},
     "output_type": "execute_result"
    }
   ],
   "source": [
    "# Rank networks by most islands to least islands, i.e. lowest lcc_pop to high\n",
    "dict(sorted(lcc_prop.items(), key=lambda item: item[1]))"
   ]
  },
  {
   "cell_type": "markdown",
   "id": "e41bc2a7",
   "metadata": {},
   "source": [
    "pair => two nodes are on the same island => higher two-seed transitivity  \n",
    "friend => two nodes are likely on different islands => lower two-seed transitivity"
   ]
  }
 ],
 "metadata": {
  "kernelspec": {
   "display_name": "Python 3 (ipykernel)",
   "language": "python",
   "name": "python3"
  },
  "language_info": {
   "codemirror_mode": {
    "name": "ipython",
    "version": 3
   },
   "file_extension": ".py",
   "mimetype": "text/x-python",
   "name": "python",
   "nbconvert_exporter": "python",
   "pygments_lexer": "ipython3",
   "version": "3.9.7"
  }
 },
 "nbformat": 4,
 "nbformat_minor": 5
}
